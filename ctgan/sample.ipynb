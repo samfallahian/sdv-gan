{
 "cells": [
  {
   "cell_type": "code",
   "execution_count": null,
   "metadata": {
    "collapsed": true
   },
   "outputs": [],
   "source": []
  },
  {
   "cell_type": "code",
   "execution_count": 1,
   "outputs": [],
   "source": [
    "from sdv.datasets.demo import download_demo\n",
    "\n",
    "real_data, metadata = download_demo(\n",
    "    modality='single_table',\n",
    "    dataset_name='fake_hotel_guests'\n",
    ")"
   ],
   "metadata": {
    "collapsed": false,
    "ExecuteTime": {
     "start_time": "2023-04-26T12:12:57.722561Z",
     "end_time": "2023-04-26T12:12:58.742400Z"
    }
   }
  },
  {
   "cell_type": "code",
   "execution_count": 4,
   "outputs": [
    {
     "data": {
      "text/plain": "                       guest_email  has_rewards room_type  amenities_fee  \\\n0          michaelsanders@shaw.net        False     BASIC          37.89   \n1                randy49@brown.biz        False     BASIC          24.37   \n2            webermelissa@neal.com         True    DELUXE           0.00   \n3                  gsims@terry.com        False     BASIC            NaN   \n4                misty33@smith.biz        False     BASIC          16.45   \n..                             ...          ...       ...            ...   \n495  laurabennett@jones-duncan.net        False     BASIC           8.71   \n496             johnny71@cook.info        False     BASIC          16.31   \n497      ygarcia@ballard-lopez.net        False     BASIC          30.59   \n498            thomasdale@hall.com        False     BASIC           1.93   \n499        danieltaylor@harper.com        False     BASIC           3.84   \n\n    checkin_date checkout_date  room_rate  \\\n0    27 Dec 2020   29 Dec 2020     131.23   \n1    30 Dec 2020   02 Jan 2021     114.43   \n2    17 Sep 2020   18 Sep 2020     368.33   \n3    28 Dec 2020   31 Dec 2020     115.61   \n4    05 Apr 2020           NaN     122.41   \n..           ...           ...        ...   \n495  04 Jan 2021   06 Jan 2021     103.25   \n496  24 Aug 2020   26 Aug 2020     115.81   \n497  11 Nov 2020   13 Nov 2020     141.61   \n498  16 Jul 2020   18 Jul 2020     136.92   \n499  22 Mar 2020   25 Mar 2020     143.52   \n\n                                       billing_address   credit_card_number  \n0          49380 Rivers Street\\nSpencerville, AK 68265  4075084747483975747  \n1            88394 Boyle Meadows\\nConleyberg, TN 22063      180072822063468  \n2    0323 Lisa Station Apt. 208\\nPort Thomas, LA 82585       38983476971380  \n3            77 Massachusetts Ave\\nCambridge, MA 02139     4969551998845740  \n4               1234 Corporate Drive\\nBoston, MA 02116     3558512986488983  \n..                                                 ...                  ...  \n495          5678 Office Road\\nSan Francisco, CA 94103     3505516387300030  \n496        953 White Island\\nChristopherside, TN 91366     2224524502892552  \n497          5678 Office Road\\nSan Francisco, CA 94103      180096250673548  \n498          5678 Office Road\\nSan Francisco, CA 94103        4488223821722  \n499               034 Tran Oval\\nHowardshire, VT 40933      213165812201188  \n\n[500 rows x 9 columns]",
      "text/html": "<div>\n<style scoped>\n    .dataframe tbody tr th:only-of-type {\n        vertical-align: middle;\n    }\n\n    .dataframe tbody tr th {\n        vertical-align: top;\n    }\n\n    .dataframe thead th {\n        text-align: right;\n    }\n</style>\n<table border=\"1\" class=\"dataframe\">\n  <thead>\n    <tr style=\"text-align: right;\">\n      <th></th>\n      <th>guest_email</th>\n      <th>has_rewards</th>\n      <th>room_type</th>\n      <th>amenities_fee</th>\n      <th>checkin_date</th>\n      <th>checkout_date</th>\n      <th>room_rate</th>\n      <th>billing_address</th>\n      <th>credit_card_number</th>\n    </tr>\n  </thead>\n  <tbody>\n    <tr>\n      <th>0</th>\n      <td>michaelsanders@shaw.net</td>\n      <td>False</td>\n      <td>BASIC</td>\n      <td>37.89</td>\n      <td>27 Dec 2020</td>\n      <td>29 Dec 2020</td>\n      <td>131.23</td>\n      <td>49380 Rivers Street\\nSpencerville, AK 68265</td>\n      <td>4075084747483975747</td>\n    </tr>\n    <tr>\n      <th>1</th>\n      <td>randy49@brown.biz</td>\n      <td>False</td>\n      <td>BASIC</td>\n      <td>24.37</td>\n      <td>30 Dec 2020</td>\n      <td>02 Jan 2021</td>\n      <td>114.43</td>\n      <td>88394 Boyle Meadows\\nConleyberg, TN 22063</td>\n      <td>180072822063468</td>\n    </tr>\n    <tr>\n      <th>2</th>\n      <td>webermelissa@neal.com</td>\n      <td>True</td>\n      <td>DELUXE</td>\n      <td>0.00</td>\n      <td>17 Sep 2020</td>\n      <td>18 Sep 2020</td>\n      <td>368.33</td>\n      <td>0323 Lisa Station Apt. 208\\nPort Thomas, LA 82585</td>\n      <td>38983476971380</td>\n    </tr>\n    <tr>\n      <th>3</th>\n      <td>gsims@terry.com</td>\n      <td>False</td>\n      <td>BASIC</td>\n      <td>NaN</td>\n      <td>28 Dec 2020</td>\n      <td>31 Dec 2020</td>\n      <td>115.61</td>\n      <td>77 Massachusetts Ave\\nCambridge, MA 02139</td>\n      <td>4969551998845740</td>\n    </tr>\n    <tr>\n      <th>4</th>\n      <td>misty33@smith.biz</td>\n      <td>False</td>\n      <td>BASIC</td>\n      <td>16.45</td>\n      <td>05 Apr 2020</td>\n      <td>NaN</td>\n      <td>122.41</td>\n      <td>1234 Corporate Drive\\nBoston, MA 02116</td>\n      <td>3558512986488983</td>\n    </tr>\n    <tr>\n      <th>...</th>\n      <td>...</td>\n      <td>...</td>\n      <td>...</td>\n      <td>...</td>\n      <td>...</td>\n      <td>...</td>\n      <td>...</td>\n      <td>...</td>\n      <td>...</td>\n    </tr>\n    <tr>\n      <th>495</th>\n      <td>laurabennett@jones-duncan.net</td>\n      <td>False</td>\n      <td>BASIC</td>\n      <td>8.71</td>\n      <td>04 Jan 2021</td>\n      <td>06 Jan 2021</td>\n      <td>103.25</td>\n      <td>5678 Office Road\\nSan Francisco, CA 94103</td>\n      <td>3505516387300030</td>\n    </tr>\n    <tr>\n      <th>496</th>\n      <td>johnny71@cook.info</td>\n      <td>False</td>\n      <td>BASIC</td>\n      <td>16.31</td>\n      <td>24 Aug 2020</td>\n      <td>26 Aug 2020</td>\n      <td>115.81</td>\n      <td>953 White Island\\nChristopherside, TN 91366</td>\n      <td>2224524502892552</td>\n    </tr>\n    <tr>\n      <th>497</th>\n      <td>ygarcia@ballard-lopez.net</td>\n      <td>False</td>\n      <td>BASIC</td>\n      <td>30.59</td>\n      <td>11 Nov 2020</td>\n      <td>13 Nov 2020</td>\n      <td>141.61</td>\n      <td>5678 Office Road\\nSan Francisco, CA 94103</td>\n      <td>180096250673548</td>\n    </tr>\n    <tr>\n      <th>498</th>\n      <td>thomasdale@hall.com</td>\n      <td>False</td>\n      <td>BASIC</td>\n      <td>1.93</td>\n      <td>16 Jul 2020</td>\n      <td>18 Jul 2020</td>\n      <td>136.92</td>\n      <td>5678 Office Road\\nSan Francisco, CA 94103</td>\n      <td>4488223821722</td>\n    </tr>\n    <tr>\n      <th>499</th>\n      <td>danieltaylor@harper.com</td>\n      <td>False</td>\n      <td>BASIC</td>\n      <td>3.84</td>\n      <td>22 Mar 2020</td>\n      <td>25 Mar 2020</td>\n      <td>143.52</td>\n      <td>034 Tran Oval\\nHowardshire, VT 40933</td>\n      <td>213165812201188</td>\n    </tr>\n  </tbody>\n</table>\n<p>500 rows × 9 columns</p>\n</div>"
     },
     "execution_count": 4,
     "metadata": {},
     "output_type": "execute_result"
    }
   ],
   "source": [
    "real_data"
   ],
   "metadata": {
    "collapsed": false,
    "ExecuteTime": {
     "start_time": "2023-04-26T12:14:12.173672Z",
     "end_time": "2023-04-26T12:14:12.180671Z"
    }
   }
  },
  {
   "cell_type": "code",
   "execution_count": 12,
   "outputs": [],
   "source": [
    "filtered = real_data.drop([\"guest_email\", \"checkin_date\", \"checkout_date\", \"billing_address\", \"credit_card_number\"], axis=1)"
   ],
   "metadata": {
    "collapsed": false,
    "ExecuteTime": {
     "start_time": "2023-04-26T12:16:32.547733Z",
     "end_time": "2023-04-26T12:16:32.643227Z"
    }
   }
  },
  {
   "cell_type": "code",
   "execution_count": 13,
   "outputs": [
    {
     "data": {
      "text/plain": "     has_rewards room_type  amenities_fee  room_rate\n0          False     BASIC          37.89     131.23\n1          False     BASIC          24.37     114.43\n2           True    DELUXE           0.00     368.33\n3          False     BASIC            NaN     115.61\n4          False     BASIC          16.45     122.41\n..           ...       ...            ...        ...\n495        False     BASIC           8.71     103.25\n496        False     BASIC          16.31     115.81\n497        False     BASIC          30.59     141.61\n498        False     BASIC           1.93     136.92\n499        False     BASIC           3.84     143.52\n\n[500 rows x 4 columns]",
      "text/html": "<div>\n<style scoped>\n    .dataframe tbody tr th:only-of-type {\n        vertical-align: middle;\n    }\n\n    .dataframe tbody tr th {\n        vertical-align: top;\n    }\n\n    .dataframe thead th {\n        text-align: right;\n    }\n</style>\n<table border=\"1\" class=\"dataframe\">\n  <thead>\n    <tr style=\"text-align: right;\">\n      <th></th>\n      <th>has_rewards</th>\n      <th>room_type</th>\n      <th>amenities_fee</th>\n      <th>room_rate</th>\n    </tr>\n  </thead>\n  <tbody>\n    <tr>\n      <th>0</th>\n      <td>False</td>\n      <td>BASIC</td>\n      <td>37.89</td>\n      <td>131.23</td>\n    </tr>\n    <tr>\n      <th>1</th>\n      <td>False</td>\n      <td>BASIC</td>\n      <td>24.37</td>\n      <td>114.43</td>\n    </tr>\n    <tr>\n      <th>2</th>\n      <td>True</td>\n      <td>DELUXE</td>\n      <td>0.00</td>\n      <td>368.33</td>\n    </tr>\n    <tr>\n      <th>3</th>\n      <td>False</td>\n      <td>BASIC</td>\n      <td>NaN</td>\n      <td>115.61</td>\n    </tr>\n    <tr>\n      <th>4</th>\n      <td>False</td>\n      <td>BASIC</td>\n      <td>16.45</td>\n      <td>122.41</td>\n    </tr>\n    <tr>\n      <th>...</th>\n      <td>...</td>\n      <td>...</td>\n      <td>...</td>\n      <td>...</td>\n    </tr>\n    <tr>\n      <th>495</th>\n      <td>False</td>\n      <td>BASIC</td>\n      <td>8.71</td>\n      <td>103.25</td>\n    </tr>\n    <tr>\n      <th>496</th>\n      <td>False</td>\n      <td>BASIC</td>\n      <td>16.31</td>\n      <td>115.81</td>\n    </tr>\n    <tr>\n      <th>497</th>\n      <td>False</td>\n      <td>BASIC</td>\n      <td>30.59</td>\n      <td>141.61</td>\n    </tr>\n    <tr>\n      <th>498</th>\n      <td>False</td>\n      <td>BASIC</td>\n      <td>1.93</td>\n      <td>136.92</td>\n    </tr>\n    <tr>\n      <th>499</th>\n      <td>False</td>\n      <td>BASIC</td>\n      <td>3.84</td>\n      <td>143.52</td>\n    </tr>\n  </tbody>\n</table>\n<p>500 rows × 4 columns</p>\n</div>"
     },
     "execution_count": 13,
     "metadata": {},
     "output_type": "execute_result"
    }
   ],
   "source": [
    "filtered"
   ],
   "metadata": {
    "collapsed": false,
    "ExecuteTime": {
     "start_time": "2023-04-26T12:16:32.998202Z",
     "end_time": "2023-04-26T12:16:33.039867Z"
    }
   }
  },
  {
   "cell_type": "code",
   "execution_count": 14,
   "outputs": [],
   "source": [
    "import sdv\n",
    "from sdv.single_table import CTGANSynthesizer\n",
    "from sdv.metadata import SingleTableMetadata"
   ],
   "metadata": {
    "collapsed": false,
    "ExecuteTime": {
     "start_time": "2023-04-26T12:16:56.098070Z",
     "end_time": "2023-04-26T12:16:56.997325Z"
    }
   }
  },
  {
   "cell_type": "code",
   "execution_count": 15,
   "outputs": [],
   "source": [
    "metadata = SingleTableMetadata()"
   ],
   "metadata": {
    "collapsed": false,
    "ExecuteTime": {
     "start_time": "2023-04-26T12:17:08.822633Z",
     "end_time": "2023-04-26T12:17:08.866912Z"
    }
   }
  },
  {
   "cell_type": "code",
   "execution_count": 16,
   "outputs": [],
   "source": [
    "metadata.detect_from_dataframe(data=filtered)"
   ],
   "metadata": {
    "collapsed": false,
    "ExecuteTime": {
     "start_time": "2023-04-26T12:17:22.089173Z",
     "end_time": "2023-04-26T12:17:22.133552Z"
    }
   }
  },
  {
   "cell_type": "code",
   "execution_count": 17,
   "outputs": [],
   "source": [
    "python_dict = metadata.to_dict()"
   ],
   "metadata": {
    "collapsed": false,
    "ExecuteTime": {
     "start_time": "2023-04-26T12:17:32.212415Z",
     "end_time": "2023-04-26T12:17:32.274751Z"
    }
   }
  },
  {
   "cell_type": "code",
   "execution_count": 18,
   "outputs": [
    {
     "data": {
      "text/plain": "{'columns': {'has_rewards': {'sdtype': 'boolean'},\n  'room_type': {'sdtype': 'categorical'},\n  'amenities_fee': {'sdtype': 'numerical'},\n  'room_rate': {'sdtype': 'numerical'}},\n 'METADATA_SPEC_VERSION': 'SINGLE_TABLE_V1'}"
     },
     "execution_count": 18,
     "metadata": {},
     "output_type": "execute_result"
    }
   ],
   "source": [
    "python_dict"
   ],
   "metadata": {
    "collapsed": false,
    "ExecuteTime": {
     "start_time": "2023-04-26T12:17:39.363009Z",
     "end_time": "2023-04-26T12:17:39.394419Z"
    }
   }
  },
  {
   "cell_type": "code",
   "execution_count": 19,
   "outputs": [],
   "source": [
    "synthesizer = CTGANSynthesizer(\n",
    "    metadata,\n",
    "    enforce_rounding=False,\n",
    "    verbose=True\n",
    ")"
   ],
   "metadata": {
    "collapsed": false,
    "ExecuteTime": {
     "start_time": "2023-04-26T12:18:05.807441Z",
     "end_time": "2023-04-26T12:18:05.871829Z"
    }
   }
  },
  {
   "cell_type": "code",
   "execution_count": 20,
   "outputs": [
    {
     "name": "stdout",
     "output_type": "stream",
     "text": [
      "Epoch 1, Loss G:  3.6718,Loss D:  0.0034\n",
      "Epoch 2, Loss G:  3.8899,Loss D:  0.0015\n",
      "Epoch 3, Loss G:  3.7511,Loss D: -0.0057\n",
      "Epoch 4, Loss G:  3.8135,Loss D: -0.0092\n",
      "Epoch 5, Loss G:  3.7917,Loss D: -0.0133\n",
      "Epoch 6, Loss G:  3.9172,Loss D: -0.0160\n",
      "Epoch 7, Loss G:  3.6631,Loss D: -0.0034\n",
      "Epoch 8, Loss G:  3.7780,Loss D: -0.0230\n",
      "Epoch 9, Loss G:  3.4602,Loss D: -0.0101\n",
      "Epoch 10, Loss G:  3.8050,Loss D: -0.0149\n",
      "Epoch 11, Loss G:  3.6216,Loss D: -0.0284\n",
      "Epoch 12, Loss G:  3.6613,Loss D: -0.0272\n",
      "Epoch 13, Loss G:  3.6371,Loss D: -0.0199\n",
      "Epoch 14, Loss G:  3.8309,Loss D: -0.0366\n",
      "Epoch 15, Loss G:  3.7370,Loss D: -0.0258\n",
      "Epoch 16, Loss G:  3.5938,Loss D: -0.0370\n",
      "Epoch 17, Loss G:  3.6087,Loss D: -0.0393\n",
      "Epoch 18, Loss G:  3.6459,Loss D: -0.0262\n",
      "Epoch 19, Loss G:  3.7784,Loss D: -0.0179\n",
      "Epoch 20, Loss G:  3.5719,Loss D: -0.0375\n",
      "Epoch 21, Loss G:  3.5756,Loss D: -0.0501\n",
      "Epoch 22, Loss G:  3.6401,Loss D: -0.0399\n",
      "Epoch 23, Loss G:  3.6393,Loss D: -0.0268\n",
      "Epoch 24, Loss G:  3.3396,Loss D: -0.0163\n",
      "Epoch 25, Loss G:  3.7294,Loss D: -0.0027\n",
      "Epoch 26, Loss G:  3.7735,Loss D: -0.0257\n",
      "Epoch 27, Loss G:  3.6839,Loss D:  0.0012\n",
      "Epoch 28, Loss G:  3.6713,Loss D: -0.0057\n",
      "Epoch 29, Loss G:  3.7043,Loss D: -0.0021\n",
      "Epoch 30, Loss G:  3.3566,Loss D: -0.0145\n",
      "Epoch 31, Loss G:  3.5858,Loss D:  0.0006\n",
      "Epoch 32, Loss G:  3.7678,Loss D: -0.0070\n",
      "Epoch 33, Loss G:  3.6707,Loss D: -0.0035\n",
      "Epoch 34, Loss G:  3.7321,Loss D: -0.0307\n",
      "Epoch 35, Loss G:  3.5991,Loss D: -0.0395\n",
      "Epoch 36, Loss G:  3.4093,Loss D: -0.0093\n",
      "Epoch 37, Loss G:  3.5723,Loss D: -0.0460\n",
      "Epoch 38, Loss G:  3.5499,Loss D: -0.0473\n",
      "Epoch 39, Loss G:  3.6516,Loss D: -0.0390\n",
      "Epoch 40, Loss G:  3.4854,Loss D: -0.0460\n",
      "Epoch 41, Loss G:  3.4818,Loss D: -0.0422\n",
      "Epoch 42, Loss G:  3.4136,Loss D: -0.0544\n",
      "Epoch 43, Loss G:  3.4009,Loss D: -0.0276\n",
      "Epoch 44, Loss G:  3.5819,Loss D: -0.0080\n",
      "Epoch 45, Loss G:  3.4871,Loss D:  0.0199\n",
      "Epoch 46, Loss G:  3.3362,Loss D:  0.0149\n",
      "Epoch 47, Loss G:  3.5775,Loss D: -0.0042\n",
      "Epoch 48, Loss G:  3.3402,Loss D:  0.0191\n",
      "Epoch 49, Loss G:  3.6529,Loss D:  0.0150\n",
      "Epoch 50, Loss G:  3.4932,Loss D:  0.0157\n",
      "Epoch 51, Loss G:  3.5064,Loss D:  0.0328\n",
      "Epoch 52, Loss G:  3.4671,Loss D:  0.0133\n",
      "Epoch 53, Loss G:  3.5616,Loss D:  0.0010\n",
      "Epoch 54, Loss G:  3.3533,Loss D: -0.0107\n",
      "Epoch 55, Loss G:  3.5984,Loss D: -0.0114\n",
      "Epoch 56, Loss G:  3.4962,Loss D: -0.0250\n",
      "Epoch 57, Loss G:  3.5348,Loss D: -0.0182\n",
      "Epoch 58, Loss G:  3.4519,Loss D: -0.0205\n",
      "Epoch 59, Loss G:  3.1970,Loss D: -0.0173\n",
      "Epoch 60, Loss G:  3.3876,Loss D: -0.0742\n",
      "Epoch 61, Loss G:  3.3679,Loss D: -0.0313\n",
      "Epoch 62, Loss G:  3.3935,Loss D: -0.0463\n",
      "Epoch 63, Loss G:  3.4631,Loss D: -0.0556\n",
      "Epoch 64, Loss G:  3.3519,Loss D: -0.0416\n",
      "Epoch 65, Loss G:  3.5795,Loss D: -0.0271\n",
      "Epoch 66, Loss G:  3.4771,Loss D: -0.0309\n",
      "Epoch 67, Loss G:  3.4550,Loss D: -0.0422\n",
      "Epoch 68, Loss G:  3.4365,Loss D:  0.0035\n",
      "Epoch 69, Loss G:  3.5026,Loss D: -0.0004\n",
      "Epoch 70, Loss G:  3.2055,Loss D: -0.0141\n",
      "Epoch 71, Loss G:  3.3955,Loss D:  0.0352\n",
      "Epoch 72, Loss G:  3.4698,Loss D:  0.0135\n",
      "Epoch 73, Loss G:  3.3043,Loss D:  0.0445\n",
      "Epoch 74, Loss G:  3.2779,Loss D:  0.0209\n",
      "Epoch 75, Loss G:  3.3394,Loss D:  0.0244\n",
      "Epoch 76, Loss G:  3.5480,Loss D:  0.0192\n",
      "Epoch 77, Loss G:  3.5217,Loss D:  0.0399\n",
      "Epoch 78, Loss G:  3.2994,Loss D: -0.0036\n",
      "Epoch 79, Loss G:  3.3788,Loss D:  0.0107\n",
      "Epoch 80, Loss G:  3.2105,Loss D: -0.0238\n",
      "Epoch 81, Loss G:  3.3042,Loss D: -0.0333\n",
      "Epoch 82, Loss G:  3.4497,Loss D: -0.0546\n",
      "Epoch 83, Loss G:  3.5578,Loss D: -0.0625\n",
      "Epoch 84, Loss G:  3.3141,Loss D: -0.0620\n",
      "Epoch 85, Loss G:  3.4150,Loss D: -0.0826\n",
      "Epoch 86, Loss G:  3.4292,Loss D: -0.0520\n",
      "Epoch 87, Loss G:  3.4659,Loss D: -0.0513\n",
      "Epoch 88, Loss G:  3.4216,Loss D: -0.0458\n",
      "Epoch 89, Loss G:  3.4559,Loss D: -0.0410\n",
      "Epoch 90, Loss G:  3.2830,Loss D: -0.0182\n",
      "Epoch 91, Loss G:  3.3136,Loss D: -0.0305\n",
      "Epoch 92, Loss G:  3.1970,Loss D: -0.0177\n",
      "Epoch 93, Loss G:  3.2686,Loss D: -0.0167\n",
      "Epoch 94, Loss G:  3.3392,Loss D:  0.0098\n",
      "Epoch 95, Loss G:  3.3381,Loss D:  0.0340\n",
      "Epoch 96, Loss G:  3.0394,Loss D:  0.0244\n",
      "Epoch 97, Loss G:  2.9248,Loss D:  0.0267\n",
      "Epoch 98, Loss G:  2.9663,Loss D:  0.0210\n",
      "Epoch 99, Loss G:  3.2232,Loss D:  0.0425\n",
      "Epoch 100, Loss G:  3.0231,Loss D:  0.0252\n",
      "Epoch 101, Loss G:  3.0986,Loss D:  0.0229\n",
      "Epoch 102, Loss G:  3.2352,Loss D:  0.0120\n",
      "Epoch 103, Loss G:  3.2596,Loss D:  0.0384\n",
      "Epoch 104, Loss G:  3.0940,Loss D: -0.0138\n",
      "Epoch 105, Loss G:  3.0704,Loss D: -0.0226\n",
      "Epoch 106, Loss G:  3.0478,Loss D: -0.0098\n",
      "Epoch 107, Loss G:  3.0704,Loss D: -0.0463\n",
      "Epoch 108, Loss G:  3.0108,Loss D: -0.0245\n",
      "Epoch 109, Loss G:  2.9700,Loss D: -0.0372\n",
      "Epoch 110, Loss G:  2.9520,Loss D: -0.0675\n",
      "Epoch 111, Loss G:  3.3888,Loss D: -0.0585\n",
      "Epoch 112, Loss G:  2.9867,Loss D: -0.0481\n",
      "Epoch 113, Loss G:  3.3221,Loss D: -0.0331\n",
      "Epoch 114, Loss G:  2.9015,Loss D: -0.0554\n",
      "Epoch 115, Loss G:  3.2965,Loss D: -0.0482\n",
      "Epoch 116, Loss G:  3.0795,Loss D: -0.0238\n",
      "Epoch 117, Loss G:  3.2231,Loss D: -0.0010\n",
      "Epoch 118, Loss G:  3.0235,Loss D: -0.0063\n",
      "Epoch 119, Loss G:  3.0189,Loss D:  0.0072\n",
      "Epoch 120, Loss G:  3.2898,Loss D: -0.0051\n",
      "Epoch 121, Loss G:  3.2376,Loss D:  0.0414\n",
      "Epoch 122, Loss G:  3.0856,Loss D:  0.0383\n",
      "Epoch 123, Loss G:  3.2436,Loss D:  0.0527\n",
      "Epoch 124, Loss G:  3.1101,Loss D:  0.0584\n",
      "Epoch 125, Loss G:  3.2379,Loss D:  0.0295\n",
      "Epoch 126, Loss G:  3.1837,Loss D:  0.0119\n",
      "Epoch 127, Loss G:  2.8940,Loss D:  0.0425\n",
      "Epoch 128, Loss G:  2.9015,Loss D:  0.0172\n",
      "Epoch 129, Loss G:  2.9397,Loss D: -0.0016\n",
      "Epoch 130, Loss G:  2.9350,Loss D:  0.0275\n",
      "Epoch 131, Loss G:  2.9614,Loss D: -0.0357\n",
      "Epoch 132, Loss G:  2.9252,Loss D: -0.0260\n",
      "Epoch 133, Loss G:  3.0656,Loss D: -0.0407\n",
      "Epoch 134, Loss G:  3.2217,Loss D: -0.0313\n",
      "Epoch 135, Loss G:  3.1067,Loss D: -0.0545\n",
      "Epoch 136, Loss G:  3.0942,Loss D: -0.0652\n",
      "Epoch 137, Loss G:  3.0958,Loss D: -0.0713\n",
      "Epoch 138, Loss G:  3.0356,Loss D: -0.0834\n",
      "Epoch 139, Loss G:  3.2199,Loss D: -0.0680\n",
      "Epoch 140, Loss G:  3.2574,Loss D: -0.0960\n",
      "Epoch 141, Loss G:  3.0658,Loss D: -0.0314\n",
      "Epoch 142, Loss G:  3.1173,Loss D: -0.0336\n",
      "Epoch 143, Loss G:  2.8738,Loss D: -0.0283\n",
      "Epoch 144, Loss G:  2.9108,Loss D: -0.0059\n",
      "Epoch 145, Loss G:  3.0307,Loss D:  0.0214\n",
      "Epoch 146, Loss G:  2.7817,Loss D:  0.0364\n",
      "Epoch 147, Loss G:  2.8152,Loss D:  0.0571\n",
      "Epoch 148, Loss G:  2.8882,Loss D:  0.0664\n",
      "Epoch 149, Loss G:  2.9794,Loss D:  0.0481\n",
      "Epoch 150, Loss G:  2.7557,Loss D:  0.0721\n",
      "Epoch 151, Loss G:  2.9696,Loss D:  0.0494\n",
      "Epoch 152, Loss G:  2.9194,Loss D:  0.0252\n",
      "Epoch 153, Loss G:  2.9241,Loss D:  0.0136\n",
      "Epoch 154, Loss G:  2.9364,Loss D:  0.0308\n",
      "Epoch 155, Loss G:  3.1549,Loss D:  0.0409\n",
      "Epoch 156, Loss G:  2.8773,Loss D:  0.0054\n",
      "Epoch 157, Loss G:  3.1058,Loss D: -0.0164\n",
      "Epoch 158, Loss G:  3.1092,Loss D: -0.0290\n",
      "Epoch 159, Loss G:  2.7867,Loss D: -0.0595\n",
      "Epoch 160, Loss G:  3.1189,Loss D: -0.0628\n",
      "Epoch 161, Loss G:  3.1874,Loss D: -0.0417\n",
      "Epoch 162, Loss G:  3.1232,Loss D: -0.0725\n",
      "Epoch 163, Loss G:  3.1843,Loss D: -0.0358\n",
      "Epoch 164, Loss G:  2.9829,Loss D: -0.0525\n",
      "Epoch 165, Loss G:  2.9547,Loss D: -0.0287\n",
      "Epoch 166, Loss G:  3.0566,Loss D: -0.0422\n",
      "Epoch 167, Loss G:  3.0110,Loss D: -0.0199\n",
      "Epoch 168, Loss G:  3.0323,Loss D: -0.0041\n",
      "Epoch 169, Loss G:  3.0778,Loss D:  0.0068\n",
      "Epoch 170, Loss G:  2.8884,Loss D:  0.0059\n",
      "Epoch 171, Loss G:  2.9074,Loss D:  0.0248\n",
      "Epoch 172, Loss G:  3.0369,Loss D:  0.0169\n",
      "Epoch 173, Loss G:  2.9542,Loss D:  0.0144\n",
      "Epoch 174, Loss G:  2.9942,Loss D:  0.0269\n",
      "Epoch 175, Loss G:  3.2539,Loss D:  0.0341\n",
      "Epoch 176, Loss G:  3.1578,Loss D:  0.0532\n",
      "Epoch 177, Loss G:  2.9376,Loss D:  0.0099\n",
      "Epoch 178, Loss G:  2.9072,Loss D: -0.0254\n",
      "Epoch 179, Loss G:  2.8867,Loss D: -0.0150\n",
      "Epoch 180, Loss G:  3.0466,Loss D: -0.0142\n",
      "Epoch 181, Loss G:  2.9250,Loss D: -0.0109\n",
      "Epoch 182, Loss G:  3.2427,Loss D: -0.0407\n",
      "Epoch 183, Loss G:  3.2419,Loss D:  0.0023\n",
      "Epoch 184, Loss G:  2.8572,Loss D: -0.0459\n",
      "Epoch 185, Loss G:  3.1945,Loss D:  0.0182\n",
      "Epoch 186, Loss G:  3.0624,Loss D:  0.0071\n",
      "Epoch 187, Loss G:  2.7689,Loss D:  0.0026\n",
      "Epoch 188, Loss G:  2.8521,Loss D: -0.0191\n",
      "Epoch 189, Loss G:  3.0661,Loss D:  0.0111\n",
      "Epoch 190, Loss G:  2.8077,Loss D:  0.0094\n",
      "Epoch 191, Loss G:  2.8900,Loss D:  0.0334\n",
      "Epoch 192, Loss G:  2.9393,Loss D: -0.0146\n",
      "Epoch 193, Loss G:  2.7487,Loss D: -0.0065\n",
      "Epoch 194, Loss G:  3.1244,Loss D:  0.0180\n",
      "Epoch 195, Loss G:  2.8932,Loss D:  0.0166\n",
      "Epoch 196, Loss G:  3.0307,Loss D:  0.0071\n",
      "Epoch 197, Loss G:  2.9403,Loss D: -0.0037\n",
      "Epoch 198, Loss G:  3.0385,Loss D:  0.0113\n",
      "Epoch 199, Loss G:  2.9776,Loss D: -0.0032\n",
      "Epoch 200, Loss G:  2.9306,Loss D:  0.0010\n",
      "Epoch 201, Loss G:  2.7910,Loss D: -0.0002\n",
      "Epoch 202, Loss G:  2.9974,Loss D: -0.0428\n",
      "Epoch 203, Loss G:  2.8340,Loss D: -0.0512\n",
      "Epoch 204, Loss G:  2.7074,Loss D: -0.0237\n",
      "Epoch 205, Loss G:  2.6874,Loss D: -0.0336\n",
      "Epoch 206, Loss G:  3.0884,Loss D: -0.0363\n",
      "Epoch 207, Loss G:  3.1492,Loss D: -0.0241\n",
      "Epoch 208, Loss G:  2.9902,Loss D: -0.0315\n",
      "Epoch 209, Loss G:  2.9504,Loss D: -0.0114\n",
      "Epoch 210, Loss G:  2.8621,Loss D: -0.0040\n",
      "Epoch 211, Loss G:  2.6395,Loss D: -0.0056\n",
      "Epoch 212, Loss G:  2.7416,Loss D:  0.0179\n",
      "Epoch 213, Loss G:  2.9515,Loss D:  0.0309\n",
      "Epoch 214, Loss G:  2.9646,Loss D:  0.0195\n",
      "Epoch 215, Loss G:  2.8941,Loss D: -0.0089\n",
      "Epoch 216, Loss G:  2.6850,Loss D:  0.0261\n",
      "Epoch 217, Loss G:  2.9337,Loss D: -0.0150\n",
      "Epoch 218, Loss G:  2.8764,Loss D: -0.0083\n",
      "Epoch 219, Loss G:  2.8101,Loss D: -0.0413\n",
      "Epoch 220, Loss G:  3.0069,Loss D: -0.0339\n",
      "Epoch 221, Loss G:  2.5894,Loss D: -0.0429\n",
      "Epoch 222, Loss G:  2.5802,Loss D: -0.0457\n",
      "Epoch 223, Loss G:  2.8541,Loss D: -0.0583\n",
      "Epoch 224, Loss G:  3.0932,Loss D: -0.0536\n",
      "Epoch 225, Loss G:  3.0363,Loss D: -0.0363\n",
      "Epoch 226, Loss G:  2.8623,Loss D: -0.0448\n",
      "Epoch 227, Loss G:  2.8738,Loss D: -0.0416\n",
      "Epoch 228, Loss G:  2.9500,Loss D: -0.0232\n",
      "Epoch 229, Loss G:  3.0206,Loss D: -0.0132\n",
      "Epoch 230, Loss G:  2.7083,Loss D: -0.0195\n",
      "Epoch 231, Loss G:  2.6894,Loss D: -0.0163\n",
      "Epoch 232, Loss G:  3.0369,Loss D:  0.0377\n",
      "Epoch 233, Loss G:  2.9327,Loss D:  0.0139\n",
      "Epoch 234, Loss G:  2.8520,Loss D: -0.0139\n",
      "Epoch 235, Loss G:  2.7724,Loss D: -0.0430\n",
      "Epoch 236, Loss G:  2.8170,Loss D: -0.0335\n",
      "Epoch 237, Loss G:  2.8378,Loss D: -0.0378\n",
      "Epoch 238, Loss G:  2.7585,Loss D: -0.0356\n",
      "Epoch 239, Loss G:  2.6521,Loss D: -0.0258\n",
      "Epoch 240, Loss G:  2.7091,Loss D: -0.0215\n",
      "Epoch 241, Loss G:  2.7850,Loss D: -0.0437\n",
      "Epoch 242, Loss G:  2.6139,Loss D: -0.0404\n",
      "Epoch 243, Loss G:  2.6523,Loss D: -0.0140\n",
      "Epoch 244, Loss G:  2.5886,Loss D:  0.0262\n",
      "Epoch 245, Loss G:  2.7970,Loss D:  0.0057\n",
      "Epoch 246, Loss G:  2.8867,Loss D: -0.0052\n",
      "Epoch 247, Loss G:  2.7382,Loss D:  0.0289\n",
      "Epoch 248, Loss G:  2.6183,Loss D: -0.0001\n",
      "Epoch 249, Loss G:  2.6743,Loss D:  0.0032\n",
      "Epoch 250, Loss G:  2.9278,Loss D: -0.0152\n",
      "Epoch 251, Loss G:  2.6847,Loss D:  0.0064\n",
      "Epoch 252, Loss G:  2.6773,Loss D: -0.0015\n",
      "Epoch 253, Loss G:  2.9889,Loss D:  0.0062\n",
      "Epoch 254, Loss G:  3.0500,Loss D: -0.0116\n",
      "Epoch 255, Loss G:  2.8167,Loss D: -0.0217\n",
      "Epoch 256, Loss G:  2.7043,Loss D: -0.0034\n",
      "Epoch 257, Loss G:  2.8189,Loss D: -0.0144\n",
      "Epoch 258, Loss G:  2.7012,Loss D: -0.0306\n",
      "Epoch 259, Loss G:  2.6974,Loss D:  0.0178\n",
      "Epoch 260, Loss G:  2.5279,Loss D:  0.0153\n",
      "Epoch 261, Loss G:  2.7989,Loss D: -0.0036\n",
      "Epoch 262, Loss G:  2.8376,Loss D:  0.0083\n",
      "Epoch 263, Loss G:  2.8113,Loss D: -0.0042\n",
      "Epoch 264, Loss G:  2.7834,Loss D: -0.0481\n",
      "Epoch 265, Loss G:  2.8049,Loss D: -0.0239\n",
      "Epoch 266, Loss G:  2.5604,Loss D: -0.0399\n",
      "Epoch 267, Loss G:  2.8409,Loss D: -0.0751\n",
      "Epoch 268, Loss G:  2.7357,Loss D: -0.0634\n",
      "Epoch 269, Loss G:  2.7320,Loss D: -0.0495\n",
      "Epoch 270, Loss G:  2.5886,Loss D: -0.0279\n",
      "Epoch 271, Loss G:  2.7486,Loss D: -0.0495\n",
      "Epoch 272, Loss G:  2.8411,Loss D: -0.0451\n",
      "Epoch 273, Loss G:  2.7198,Loss D: -0.0730\n",
      "Epoch 274, Loss G:  2.8631,Loss D: -0.0411\n",
      "Epoch 275, Loss G:  2.7018,Loss D: -0.0226\n",
      "Epoch 276, Loss G:  2.7008,Loss D: -0.0271\n",
      "Epoch 277, Loss G:  2.9773,Loss D:  0.0060\n",
      "Epoch 278, Loss G:  2.6494,Loss D: -0.0007\n",
      "Epoch 279, Loss G:  3.0231,Loss D:  0.0286\n",
      "Epoch 280, Loss G:  2.5557,Loss D: -0.0099\n",
      "Epoch 281, Loss G:  2.7948,Loss D:  0.0061\n",
      "Epoch 282, Loss G:  2.6216,Loss D: -0.0042\n",
      "Epoch 283, Loss G:  2.7387,Loss D:  0.0176\n",
      "Epoch 284, Loss G:  2.9726,Loss D:  0.0141\n",
      "Epoch 285, Loss G:  2.9365,Loss D:  0.0128\n",
      "Epoch 286, Loss G:  2.7388,Loss D:  0.0033\n",
      "Epoch 287, Loss G:  2.9109,Loss D: -0.0445\n",
      "Epoch 288, Loss G:  2.8667,Loss D: -0.0242\n",
      "Epoch 289, Loss G:  2.6386,Loss D: -0.0489\n",
      "Epoch 290, Loss G:  2.5019,Loss D: -0.0600\n",
      "Epoch 291, Loss G:  2.7627,Loss D: -0.0422\n",
      "Epoch 292, Loss G:  2.7264,Loss D: -0.0566\n",
      "Epoch 293, Loss G:  2.6630,Loss D: -0.0418\n",
      "Epoch 294, Loss G:  2.5943,Loss D: -0.0362\n",
      "Epoch 295, Loss G:  2.9152,Loss D: -0.0000\n",
      "Epoch 296, Loss G:  2.6384,Loss D: -0.0235\n",
      "Epoch 297, Loss G:  2.8110,Loss D: -0.0316\n",
      "Epoch 298, Loss G:  2.6519,Loss D: -0.0108\n",
      "Epoch 299, Loss G:  2.7019,Loss D: -0.0437\n",
      "Epoch 300, Loss G:  2.6533,Loss D: -0.0157\n"
     ]
    }
   ],
   "source": [
    "synthesizer.fit(filtered)"
   ],
   "metadata": {
    "collapsed": false,
    "ExecuteTime": {
     "start_time": "2023-04-26T12:18:24.916344Z",
     "end_time": "2023-04-26T12:18:43.556161Z"
    }
   }
  },
  {
   "cell_type": "code",
   "execution_count": 21,
   "outputs": [
    {
     "data": {
      "text/plain": "(500, 4)"
     },
     "execution_count": 21,
     "metadata": {},
     "output_type": "execute_result"
    }
   ],
   "source": [
    "filtered.shape"
   ],
   "metadata": {
    "collapsed": false,
    "ExecuteTime": {
     "start_time": "2023-04-26T12:19:34.651490Z",
     "end_time": "2023-04-26T12:19:34.695743Z"
    }
   }
  },
  {
   "cell_type": "code",
   "execution_count": 22,
   "outputs": [],
   "source": [
    "synthetic_data = synthesizer.sample(\n",
    "    num_rows=500\n",
    ")"
   ],
   "metadata": {
    "collapsed": false,
    "ExecuteTime": {
     "start_time": "2023-04-26T12:19:40.438741Z",
     "end_time": "2023-04-26T12:19:40.565199Z"
    }
   }
  },
  {
   "cell_type": "code",
   "execution_count": 23,
   "outputs": [],
   "source": [
    "from sdmetrics.single_column import KSComplement\n",
    "from sdmetrics.reports import utils\n",
    "from sdmetrics.single_column import StatisticSimilarity\n",
    "from sdmetrics.reports.single_table import QualityReport\n",
    "from sdmetrics.single_table import GMLogLikelihood\n",
    "from sdmetrics.timeseries import LSTMDetection"
   ],
   "metadata": {
    "collapsed": false,
    "ExecuteTime": {
     "start_time": "2023-04-26T12:20:23.010795Z",
     "end_time": "2023-04-26T12:20:23.283073Z"
    }
   }
  },
  {
   "cell_type": "code",
   "execution_count": 24,
   "outputs": [
    {
     "data": {
      "text/plain": "Index(['has_rewards', 'room_type', 'amenities_fee', 'room_rate'], dtype='object')"
     },
     "execution_count": 24,
     "metadata": {},
     "output_type": "execute_result"
    }
   ],
   "source": [
    "filtered.columns"
   ],
   "metadata": {
    "collapsed": false,
    "ExecuteTime": {
     "start_time": "2023-04-26T12:21:06.494487Z",
     "end_time": "2023-04-26T12:21:06.535609Z"
    }
   }
  },
  {
   "cell_type": "markdown",
   "source": [],
   "metadata": {
    "collapsed": false
   }
  },
  {
   "cell_type": "code",
   "execution_count": 29,
   "outputs": [
    {
     "ename": "ValueError",
     "evalue": "The truth value of a DataFrame is ambiguous. Use a.empty, a.bool(), a.item(), a.any() or a.all().",
     "output_type": "error",
     "traceback": [
      "\u001B[0;31m---------------------------------------------------------------------------\u001B[0m",
      "\u001B[0;31mValueError\u001B[0m                                Traceback (most recent call last)",
      "Cell \u001B[0;32mIn[29], line 1\u001B[0m\n\u001B[0;32m----> 1\u001B[0m \u001B[43mKSComplement\u001B[49m\u001B[38;5;241;43m.\u001B[39;49m\u001B[43mcompute\u001B[49m\u001B[43m(\u001B[49m\u001B[43mreal_data\u001B[49m\u001B[38;5;241;43m=\u001B[39;49m\u001B[43mfiltered\u001B[49m\u001B[43m[\u001B[49m\u001B[38;5;124;43m\"\u001B[39;49m\u001B[38;5;124;43mhas_rewards\u001B[39;49m\u001B[38;5;124;43m\"\u001B[39;49m\u001B[43m]\u001B[49m\u001B[43m,\u001B[49m\u001B[43m \u001B[49m\u001B[43msynthetic_data\u001B[49m\u001B[38;5;241;43m=\u001B[39;49m\u001B[43msynthetic_data\u001B[49m\u001B[43m[\u001B[49m\u001B[43m[\u001B[49m\u001B[38;5;124;43m\"\u001B[39;49m\u001B[38;5;124;43mhas_rewards\u001B[39;49m\u001B[38;5;124;43m\"\u001B[39;49m\u001B[43m]\u001B[49m\u001B[43m]\u001B[49m\u001B[43m)\u001B[49m\n",
      "File \u001B[0;32m~/miniconda3/envs/sdv-gan/lib/python3.8/site-packages/sdmetrics/single_column/statistical/kscomplement.py:53\u001B[0m, in \u001B[0;36mKSComplement.compute\u001B[0;34m(real_data, synthetic_data)\u001B[0m\n\u001B[1;32m     40\u001B[0m \u001B[38;5;124;03m\"\"\"Compare two continuous columns using a Kolmogorov–Smirnov test.\u001B[39;00m\n\u001B[1;32m     41\u001B[0m \n\u001B[1;32m     42\u001B[0m \u001B[38;5;124;03mArgs:\u001B[39;00m\n\u001B[0;32m   (...)\u001B[0m\n\u001B[1;32m     50\u001B[0m \u001B[38;5;124;03m        1 minus the Kolmogorov–Smirnov D statistic.\u001B[39;00m\n\u001B[1;32m     51\u001B[0m \u001B[38;5;124;03m\"\"\"\u001B[39;00m\n\u001B[1;32m     52\u001B[0m real_data \u001B[38;5;241m=\u001B[39m pd\u001B[38;5;241m.\u001B[39mSeries(real_data)\u001B[38;5;241m.\u001B[39mdropna()\n\u001B[0;32m---> 53\u001B[0m synthetic_data \u001B[38;5;241m=\u001B[39m \u001B[43mpd\u001B[49m\u001B[38;5;241;43m.\u001B[39;49m\u001B[43mSeries\u001B[49m\u001B[43m(\u001B[49m\u001B[43msynthetic_data\u001B[49m\u001B[43m)\u001B[49m\u001B[38;5;241m.\u001B[39mdropna()\n\u001B[1;32m     55\u001B[0m \u001B[38;5;28;01mif\u001B[39;00m is_datetime(real_data):\n\u001B[1;32m     56\u001B[0m     real_data \u001B[38;5;241m=\u001B[39m pd\u001B[38;5;241m.\u001B[39mto_numeric(real_data)\n",
      "File \u001B[0;32m~/.local/lib/python3.8/site-packages/pandas/core/series.py:386\u001B[0m, in \u001B[0;36mSeries.__init__\u001B[0;34m(self, data, index, dtype, name, copy, fastpath)\u001B[0m\n\u001B[1;32m    382\u001B[0m \u001B[38;5;28;01melse\u001B[39;00m:\n\u001B[1;32m    384\u001B[0m     name \u001B[38;5;241m=\u001B[39m ibase\u001B[38;5;241m.\u001B[39mmaybe_extract_name(name, data, \u001B[38;5;28mtype\u001B[39m(\u001B[38;5;28mself\u001B[39m))\n\u001B[0;32m--> 386\u001B[0m     \u001B[38;5;28;01mif\u001B[39;00m \u001B[43mis_empty_data\u001B[49m\u001B[43m(\u001B[49m\u001B[43mdata\u001B[49m\u001B[43m)\u001B[49m \u001B[38;5;129;01mand\u001B[39;00m dtype \u001B[38;5;129;01mis\u001B[39;00m \u001B[38;5;28;01mNone\u001B[39;00m:\n\u001B[1;32m    387\u001B[0m         \u001B[38;5;66;03m# gh-17261\u001B[39;00m\n\u001B[1;32m    388\u001B[0m         warnings\u001B[38;5;241m.\u001B[39mwarn(\n\u001B[1;32m    389\u001B[0m             \u001B[38;5;124m\"\u001B[39m\u001B[38;5;124mThe default dtype for empty Series will be \u001B[39m\u001B[38;5;124m'\u001B[39m\u001B[38;5;124mobject\u001B[39m\u001B[38;5;124m'\u001B[39m\u001B[38;5;124m instead \u001B[39m\u001B[38;5;124m\"\u001B[39m\n\u001B[1;32m    390\u001B[0m             \u001B[38;5;124m\"\u001B[39m\u001B[38;5;124mof \u001B[39m\u001B[38;5;124m'\u001B[39m\u001B[38;5;124mfloat64\u001B[39m\u001B[38;5;124m'\u001B[39m\u001B[38;5;124m in a future version. Specify a dtype explicitly \u001B[39m\u001B[38;5;124m\"\u001B[39m\n\u001B[0;32m   (...)\u001B[0m\n\u001B[1;32m    393\u001B[0m             stacklevel\u001B[38;5;241m=\u001B[39mfind_stack_level(),\n\u001B[1;32m    394\u001B[0m         )\n\u001B[1;32m    395\u001B[0m         \u001B[38;5;66;03m# uncomment the line below when removing the FutureWarning\u001B[39;00m\n\u001B[1;32m    396\u001B[0m         \u001B[38;5;66;03m# dtype = np.dtype(object)\u001B[39;00m\n",
      "File \u001B[0;32m~/.local/lib/python3.8/site-packages/pandas/core/construction.py:877\u001B[0m, in \u001B[0;36mis_empty_data\u001B[0;34m(data)\u001B[0m\n\u001B[1;32m    875\u001B[0m is_none \u001B[38;5;241m=\u001B[39m data \u001B[38;5;129;01mis\u001B[39;00m \u001B[38;5;28;01mNone\u001B[39;00m\n\u001B[1;32m    876\u001B[0m is_list_like_without_dtype \u001B[38;5;241m=\u001B[39m is_list_like(data) \u001B[38;5;129;01mand\u001B[39;00m \u001B[38;5;129;01mnot\u001B[39;00m \u001B[38;5;28mhasattr\u001B[39m(data, \u001B[38;5;124m\"\u001B[39m\u001B[38;5;124mdtype\u001B[39m\u001B[38;5;124m\"\u001B[39m)\n\u001B[0;32m--> 877\u001B[0m is_simple_empty \u001B[38;5;241m=\u001B[39m is_list_like_without_dtype \u001B[38;5;129;01mand\u001B[39;00m \u001B[38;5;129;43;01mnot\u001B[39;49;00m\u001B[43m \u001B[49m\u001B[43mdata\u001B[49m\n\u001B[1;32m    878\u001B[0m \u001B[38;5;28;01mreturn\u001B[39;00m is_none \u001B[38;5;129;01mor\u001B[39;00m is_simple_empty\n",
      "File \u001B[0;32m~/.local/lib/python3.8/site-packages/pandas/core/generic.py:1527\u001B[0m, in \u001B[0;36mNDFrame.__nonzero__\u001B[0;34m(self)\u001B[0m\n\u001B[1;32m   1525\u001B[0m \u001B[38;5;129m@final\u001B[39m\n\u001B[1;32m   1526\u001B[0m \u001B[38;5;28;01mdef\u001B[39;00m \u001B[38;5;21m__nonzero__\u001B[39m(\u001B[38;5;28mself\u001B[39m) \u001B[38;5;241m-\u001B[39m\u001B[38;5;241m>\u001B[39m NoReturn:\n\u001B[0;32m-> 1527\u001B[0m     \u001B[38;5;28;01mraise\u001B[39;00m \u001B[38;5;167;01mValueError\u001B[39;00m(\n\u001B[1;32m   1528\u001B[0m         \u001B[38;5;124mf\u001B[39m\u001B[38;5;124m\"\u001B[39m\u001B[38;5;124mThe truth value of a \u001B[39m\u001B[38;5;132;01m{\u001B[39;00m\u001B[38;5;28mtype\u001B[39m(\u001B[38;5;28mself\u001B[39m)\u001B[38;5;241m.\u001B[39m\u001B[38;5;18m__name__\u001B[39m\u001B[38;5;132;01m}\u001B[39;00m\u001B[38;5;124m is ambiguous. \u001B[39m\u001B[38;5;124m\"\u001B[39m\n\u001B[1;32m   1529\u001B[0m         \u001B[38;5;124m\"\u001B[39m\u001B[38;5;124mUse a.empty, a.bool(), a.item(), a.any() or a.all().\u001B[39m\u001B[38;5;124m\"\u001B[39m\n\u001B[1;32m   1530\u001B[0m     )\n",
      "\u001B[0;31mValueError\u001B[0m: The truth value of a DataFrame is ambiguous. Use a.empty, a.bool(), a.item(), a.any() or a.all()."
     ]
    }
   ],
   "source": [
    "KSComplement.compute(real_data=filtered[\"has_rewards\"], synthetic_data=synthetic_data[[\"has_rewards\"]])"
   ],
   "metadata": {
    "collapsed": false
   }
  },
  {
   "cell_type": "code",
   "execution_count": 28,
   "outputs": [
    {
     "name": "stderr",
     "output_type": "stream",
     "text": [
      "/tmp/ipykernel_1810907/100812235.py:1: FutureWarning: The default value of numeric_only in DataFrame.mean is deprecated. In a future version, it will default to False. In addition, specifying 'numeric_only=None' is deprecated. Select only valid columns or specify the value of numeric_only to silence this warning.\n",
      "  filtered = filtered.fillna(filtered.mean())\n"
     ]
    },
    {
     "data": {
      "text/plain": "     has_rewards room_type  amenities_fee  room_rate\n0          False     BASIC      37.890000     131.23\n1          False     BASIC      24.370000     114.43\n2           True    DELUXE       0.000000     368.33\n3          False     BASIC      18.176066     115.61\n4          False     BASIC      16.450000     122.41\n..           ...       ...            ...        ...\n495        False     BASIC       8.710000     103.25\n496        False     BASIC      16.310000     115.81\n497        False     BASIC      30.590000     141.61\n498        False     BASIC       1.930000     136.92\n499        False     BASIC       3.840000     143.52\n\n[500 rows x 4 columns]",
      "text/html": "<div>\n<style scoped>\n    .dataframe tbody tr th:only-of-type {\n        vertical-align: middle;\n    }\n\n    .dataframe tbody tr th {\n        vertical-align: top;\n    }\n\n    .dataframe thead th {\n        text-align: right;\n    }\n</style>\n<table border=\"1\" class=\"dataframe\">\n  <thead>\n    <tr style=\"text-align: right;\">\n      <th></th>\n      <th>has_rewards</th>\n      <th>room_type</th>\n      <th>amenities_fee</th>\n      <th>room_rate</th>\n    </tr>\n  </thead>\n  <tbody>\n    <tr>\n      <th>0</th>\n      <td>False</td>\n      <td>BASIC</td>\n      <td>37.890000</td>\n      <td>131.23</td>\n    </tr>\n    <tr>\n      <th>1</th>\n      <td>False</td>\n      <td>BASIC</td>\n      <td>24.370000</td>\n      <td>114.43</td>\n    </tr>\n    <tr>\n      <th>2</th>\n      <td>True</td>\n      <td>DELUXE</td>\n      <td>0.000000</td>\n      <td>368.33</td>\n    </tr>\n    <tr>\n      <th>3</th>\n      <td>False</td>\n      <td>BASIC</td>\n      <td>18.176066</td>\n      <td>115.61</td>\n    </tr>\n    <tr>\n      <th>4</th>\n      <td>False</td>\n      <td>BASIC</td>\n      <td>16.450000</td>\n      <td>122.41</td>\n    </tr>\n    <tr>\n      <th>...</th>\n      <td>...</td>\n      <td>...</td>\n      <td>...</td>\n      <td>...</td>\n    </tr>\n    <tr>\n      <th>495</th>\n      <td>False</td>\n      <td>BASIC</td>\n      <td>8.710000</td>\n      <td>103.25</td>\n    </tr>\n    <tr>\n      <th>496</th>\n      <td>False</td>\n      <td>BASIC</td>\n      <td>16.310000</td>\n      <td>115.81</td>\n    </tr>\n    <tr>\n      <th>497</th>\n      <td>False</td>\n      <td>BASIC</td>\n      <td>30.590000</td>\n      <td>141.61</td>\n    </tr>\n    <tr>\n      <th>498</th>\n      <td>False</td>\n      <td>BASIC</td>\n      <td>1.930000</td>\n      <td>136.92</td>\n    </tr>\n    <tr>\n      <th>499</th>\n      <td>False</td>\n      <td>BASIC</td>\n      <td>3.840000</td>\n      <td>143.52</td>\n    </tr>\n  </tbody>\n</table>\n<p>500 rows × 4 columns</p>\n</div>"
     },
     "execution_count": 28,
     "metadata": {},
     "output_type": "execute_result"
    }
   ],
   "source": [
    "filtered = filtered.fillna(filtered.mean())\n",
    "filtered"
   ],
   "metadata": {
    "collapsed": false,
    "ExecuteTime": {
     "start_time": "2023-04-26T13:03:45.831037Z",
     "end_time": "2023-04-26T13:03:45.886006Z"
    }
   }
  },
  {
   "cell_type": "code",
   "execution_count": 27,
   "outputs": [
    {
     "data": {
      "text/plain": "     has_rewards room_type  amenities_fee   room_rate\n0          False     BASIC      25.567481  222.046320\n1          False    DELUXE      15.446154  111.665848\n2          False     BASIC      24.102764  124.772915\n3          False     BASIC      15.239827  186.460620\n4          False     BASIC      22.359954  116.947321\n..           ...       ...            ...         ...\n495        False     BASIC      29.770210  155.938666\n496        False    DELUXE       9.933602  199.682110\n497        False     BASIC      18.378769  160.358022\n498        False     BASIC      27.087690  204.224946\n499        False     BASIC      39.592605  198.533535\n\n[500 rows x 4 columns]",
      "text/html": "<div>\n<style scoped>\n    .dataframe tbody tr th:only-of-type {\n        vertical-align: middle;\n    }\n\n    .dataframe tbody tr th {\n        vertical-align: top;\n    }\n\n    .dataframe thead th {\n        text-align: right;\n    }\n</style>\n<table border=\"1\" class=\"dataframe\">\n  <thead>\n    <tr style=\"text-align: right;\">\n      <th></th>\n      <th>has_rewards</th>\n      <th>room_type</th>\n      <th>amenities_fee</th>\n      <th>room_rate</th>\n    </tr>\n  </thead>\n  <tbody>\n    <tr>\n      <th>0</th>\n      <td>False</td>\n      <td>BASIC</td>\n      <td>25.567481</td>\n      <td>222.046320</td>\n    </tr>\n    <tr>\n      <th>1</th>\n      <td>False</td>\n      <td>DELUXE</td>\n      <td>15.446154</td>\n      <td>111.665848</td>\n    </tr>\n    <tr>\n      <th>2</th>\n      <td>False</td>\n      <td>BASIC</td>\n      <td>24.102764</td>\n      <td>124.772915</td>\n    </tr>\n    <tr>\n      <th>3</th>\n      <td>False</td>\n      <td>BASIC</td>\n      <td>15.239827</td>\n      <td>186.460620</td>\n    </tr>\n    <tr>\n      <th>4</th>\n      <td>False</td>\n      <td>BASIC</td>\n      <td>22.359954</td>\n      <td>116.947321</td>\n    </tr>\n    <tr>\n      <th>...</th>\n      <td>...</td>\n      <td>...</td>\n      <td>...</td>\n      <td>...</td>\n    </tr>\n    <tr>\n      <th>495</th>\n      <td>False</td>\n      <td>BASIC</td>\n      <td>29.770210</td>\n      <td>155.938666</td>\n    </tr>\n    <tr>\n      <th>496</th>\n      <td>False</td>\n      <td>DELUXE</td>\n      <td>9.933602</td>\n      <td>199.682110</td>\n    </tr>\n    <tr>\n      <th>497</th>\n      <td>False</td>\n      <td>BASIC</td>\n      <td>18.378769</td>\n      <td>160.358022</td>\n    </tr>\n    <tr>\n      <th>498</th>\n      <td>False</td>\n      <td>BASIC</td>\n      <td>27.087690</td>\n      <td>204.224946</td>\n    </tr>\n    <tr>\n      <th>499</th>\n      <td>False</td>\n      <td>BASIC</td>\n      <td>39.592605</td>\n      <td>198.533535</td>\n    </tr>\n  </tbody>\n</table>\n<p>500 rows × 4 columns</p>\n</div>"
     },
     "execution_count": 27,
     "metadata": {},
     "output_type": "execute_result"
    }
   ],
   "source": [
    "synthetic_data"
   ],
   "metadata": {
    "collapsed": false,
    "ExecuteTime": {
     "start_time": "2023-04-26T13:01:40.118808Z",
     "end_time": "2023-04-26T13:01:40.152483Z"
    }
   }
  },
  {
   "cell_type": "code",
   "execution_count": null,
   "outputs": [],
   "source": [],
   "metadata": {
    "collapsed": false
   }
  },
  {
   "cell_type": "code",
   "execution_count": 36,
   "outputs": [],
   "source": [
    "metadata = {\n",
    "    \"columns\": {\n",
    "        \"has_rewards\": {\n",
    "            \"sdtype\": \"boolean\"\n",
    "        },\n",
    "        \"room_type\": {\n",
    "            \"sdtype\": \"categorical\"\n",
    "        },\n",
    "        \"amenities_fee\": {\n",
    "            \"sdtype\": \"numerical\"\n",
    "        },\n",
    "        \"room_rate\": {\n",
    "            \"sdtype\": \"numerical\"\n",
    "        }\n",
    "    }\n",
    "}"
   ],
   "metadata": {
    "collapsed": false,
    "ExecuteTime": {
     "start_time": "2023-04-26T13:46:59.643603Z",
     "end_time": "2023-04-26T13:46:59.687059Z"
    }
   }
  },
  {
   "cell_type": "code",
   "execution_count": 31,
   "outputs": [
    {
     "name": "stderr",
     "output_type": "stream",
     "text": [
      "Creating report: 100%|██████████| 4/4 [00:00<00:00, 131.10it/s]"
     ]
    },
    {
     "name": "stdout",
     "output_type": "stream",
     "text": [
      "\n",
      "Overall Quality Score: 79.07%\n",
      "\n",
      "Properties:\n",
      "Column Shapes: 84.53%\n",
      "Column Pair Trends: 73.62%\n"
     ]
    },
    {
     "name": "stderr",
     "output_type": "stream",
     "text": [
      "\n"
     ]
    }
   ],
   "source": [
    "from sdv.evaluation.single_table import evaluate_quality\n",
    "\n",
    "quality_report = evaluate_quality(\n",
    "    filtered,\n",
    "    synthetic_data,\n",
    "    metadata\n",
    ")"
   ],
   "metadata": {
    "collapsed": false,
    "ExecuteTime": {
     "start_time": "2023-04-26T13:05:11.376118Z",
     "end_time": "2023-04-26T13:05:11.528621Z"
    }
   }
  },
  {
   "cell_type": "code",
   "execution_count": 32,
   "outputs": [],
   "source": [
    "report = QualityReport()"
   ],
   "metadata": {
    "collapsed": false,
    "ExecuteTime": {
     "start_time": "2023-04-26T13:45:59.697541Z",
     "end_time": "2023-04-26T13:45:59.728982Z"
    }
   }
  },
  {
   "cell_type": "code",
   "execution_count": 37,
   "outputs": [
    {
     "name": "stderr",
     "output_type": "stream",
     "text": [
      "Creating report: 100%|██████████| 4/4 [00:00<00:00, 69.66it/s]"
     ]
    },
    {
     "name": "stdout",
     "output_type": "stream",
     "text": [
      "\n",
      "Overall Quality Score: 79.07%\n",
      "\n",
      "Properties:\n",
      "Column Shapes: 84.53%\n",
      "Column Pair Trends: 73.62%\n"
     ]
    },
    {
     "name": "stderr",
     "output_type": "stream",
     "text": [
      "\n"
     ]
    }
   ],
   "source": [
    "report.generate(filtered, synthetic_data, metadata)"
   ],
   "metadata": {
    "collapsed": false,
    "ExecuteTime": {
     "start_time": "2023-04-26T13:47:02.565277Z",
     "end_time": "2023-04-26T13:47:02.725371Z"
    }
   }
  },
  {
   "cell_type": "code",
   "execution_count": 38,
   "outputs": [
    {
     "data": {
      "text/plain": "0.790749998868555"
     },
     "execution_count": 38,
     "metadata": {},
     "output_type": "execute_result"
    }
   ],
   "source": [
    "report.get_score()"
   ],
   "metadata": {
    "collapsed": false,
    "ExecuteTime": {
     "start_time": "2023-04-26T13:47:27.911818Z",
     "end_time": "2023-04-26T13:47:27.966096Z"
    }
   }
  },
  {
   "cell_type": "code",
   "execution_count": 39,
   "outputs": [
    {
     "data": {
      "text/plain": "             Property     Score\n0       Column Shapes  0.845345\n1  Column Pair Trends  0.736155",
      "text/html": "<div>\n<style scoped>\n    .dataframe tbody tr th:only-of-type {\n        vertical-align: middle;\n    }\n\n    .dataframe tbody tr th {\n        vertical-align: top;\n    }\n\n    .dataframe thead th {\n        text-align: right;\n    }\n</style>\n<table border=\"1\" class=\"dataframe\">\n  <thead>\n    <tr style=\"text-align: right;\">\n      <th></th>\n      <th>Property</th>\n      <th>Score</th>\n    </tr>\n  </thead>\n  <tbody>\n    <tr>\n      <th>0</th>\n      <td>Column Shapes</td>\n      <td>0.845345</td>\n    </tr>\n    <tr>\n      <th>1</th>\n      <td>Column Pair Trends</td>\n      <td>0.736155</td>\n    </tr>\n  </tbody>\n</table>\n</div>"
     },
     "execution_count": 39,
     "metadata": {},
     "output_type": "execute_result"
    }
   ],
   "source": [
    "report.get_properties()"
   ],
   "metadata": {
    "collapsed": false,
    "ExecuteTime": {
     "start_time": "2023-04-26T13:48:08.223667Z",
     "end_time": "2023-04-26T13:48:08.285191Z"
    }
   }
  },
  {
   "cell_type": "code",
   "execution_count": 40,
   "outputs": [
    {
     "data": {
      "text/plain": "          Column        Metric  Quality Score\n0  amenities_fee  KSComplement       0.625381\n1      room_rate  KSComplement       0.866000\n2    has_rewards  TVComplement       0.978000\n3      room_type  TVComplement       0.912000",
      "text/html": "<div>\n<style scoped>\n    .dataframe tbody tr th:only-of-type {\n        vertical-align: middle;\n    }\n\n    .dataframe tbody tr th {\n        vertical-align: top;\n    }\n\n    .dataframe thead th {\n        text-align: right;\n    }\n</style>\n<table border=\"1\" class=\"dataframe\">\n  <thead>\n    <tr style=\"text-align: right;\">\n      <th></th>\n      <th>Column</th>\n      <th>Metric</th>\n      <th>Quality Score</th>\n    </tr>\n  </thead>\n  <tbody>\n    <tr>\n      <th>0</th>\n      <td>amenities_fee</td>\n      <td>KSComplement</td>\n      <td>0.625381</td>\n    </tr>\n    <tr>\n      <th>1</th>\n      <td>room_rate</td>\n      <td>KSComplement</td>\n      <td>0.866000</td>\n    </tr>\n    <tr>\n      <th>2</th>\n      <td>has_rewards</td>\n      <td>TVComplement</td>\n      <td>0.978000</td>\n    </tr>\n    <tr>\n      <th>3</th>\n      <td>room_type</td>\n      <td>TVComplement</td>\n      <td>0.912000</td>\n    </tr>\n  </tbody>\n</table>\n</div>"
     },
     "execution_count": 40,
     "metadata": {},
     "output_type": "execute_result"
    }
   ],
   "source": [
    "report.get_details(property_name='Column Shapes')"
   ],
   "metadata": {
    "collapsed": false,
    "ExecuteTime": {
     "start_time": "2023-04-26T13:48:24.600064Z",
     "end_time": "2023-04-26T13:48:24.672629Z"
    }
   }
  },
  {
   "cell_type": "code",
   "execution_count": 43,
   "outputs": [
    {
     "data": {
      "text/plain": "     has_rewards room_type  amenities_fee  room_rate\n0          False     BASIC      37.890000     131.23\n1          False     BASIC      24.370000     114.43\n2           True    DELUXE       0.000000     368.33\n3          False     BASIC      18.176066     115.61\n4          False     BASIC      16.450000     122.41\n..           ...       ...            ...        ...\n495        False     BASIC       8.710000     103.25\n496        False     BASIC      16.310000     115.81\n497        False     BASIC      30.590000     141.61\n498        False     BASIC       1.930000     136.92\n499        False     BASIC       3.840000     143.52\n\n[500 rows x 4 columns]",
      "text/html": "<div>\n<style scoped>\n    .dataframe tbody tr th:only-of-type {\n        vertical-align: middle;\n    }\n\n    .dataframe tbody tr th {\n        vertical-align: top;\n    }\n\n    .dataframe thead th {\n        text-align: right;\n    }\n</style>\n<table border=\"1\" class=\"dataframe\">\n  <thead>\n    <tr style=\"text-align: right;\">\n      <th></th>\n      <th>has_rewards</th>\n      <th>room_type</th>\n      <th>amenities_fee</th>\n      <th>room_rate</th>\n    </tr>\n  </thead>\n  <tbody>\n    <tr>\n      <th>0</th>\n      <td>False</td>\n      <td>BASIC</td>\n      <td>37.890000</td>\n      <td>131.23</td>\n    </tr>\n    <tr>\n      <th>1</th>\n      <td>False</td>\n      <td>BASIC</td>\n      <td>24.370000</td>\n      <td>114.43</td>\n    </tr>\n    <tr>\n      <th>2</th>\n      <td>True</td>\n      <td>DELUXE</td>\n      <td>0.000000</td>\n      <td>368.33</td>\n    </tr>\n    <tr>\n      <th>3</th>\n      <td>False</td>\n      <td>BASIC</td>\n      <td>18.176066</td>\n      <td>115.61</td>\n    </tr>\n    <tr>\n      <th>4</th>\n      <td>False</td>\n      <td>BASIC</td>\n      <td>16.450000</td>\n      <td>122.41</td>\n    </tr>\n    <tr>\n      <th>...</th>\n      <td>...</td>\n      <td>...</td>\n      <td>...</td>\n      <td>...</td>\n    </tr>\n    <tr>\n      <th>495</th>\n      <td>False</td>\n      <td>BASIC</td>\n      <td>8.710000</td>\n      <td>103.25</td>\n    </tr>\n    <tr>\n      <th>496</th>\n      <td>False</td>\n      <td>BASIC</td>\n      <td>16.310000</td>\n      <td>115.81</td>\n    </tr>\n    <tr>\n      <th>497</th>\n      <td>False</td>\n      <td>BASIC</td>\n      <td>30.590000</td>\n      <td>141.61</td>\n    </tr>\n    <tr>\n      <th>498</th>\n      <td>False</td>\n      <td>BASIC</td>\n      <td>1.930000</td>\n      <td>136.92</td>\n    </tr>\n    <tr>\n      <th>499</th>\n      <td>False</td>\n      <td>BASIC</td>\n      <td>3.840000</td>\n      <td>143.52</td>\n    </tr>\n  </tbody>\n</table>\n<p>500 rows × 4 columns</p>\n</div>"
     },
     "execution_count": 43,
     "metadata": {},
     "output_type": "execute_result"
    }
   ],
   "source": [
    "filtered"
   ],
   "metadata": {
    "collapsed": false,
    "ExecuteTime": {
     "start_time": "2023-04-26T15:29:02.973354Z",
     "end_time": "2023-04-26T15:29:03.086644Z"
    }
   }
  },
  {
   "cell_type": "code",
   "execution_count": null,
   "outputs": [],
   "source": [],
   "metadata": {
    "collapsed": false
   }
  }
 ],
 "metadata": {
  "kernelspec": {
   "display_name": "Python 3",
   "language": "python",
   "name": "python3"
  },
  "language_info": {
   "codemirror_mode": {
    "name": "ipython",
    "version": 2
   },
   "file_extension": ".py",
   "mimetype": "text/x-python",
   "name": "python",
   "nbconvert_exporter": "python",
   "pygments_lexer": "ipython2",
   "version": "2.7.6"
  }
 },
 "nbformat": 4,
 "nbformat_minor": 0
}
