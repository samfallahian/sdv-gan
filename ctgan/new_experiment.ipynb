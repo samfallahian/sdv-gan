{
 "cells": [
  {
   "cell_type": "code",
   "execution_count": 1,
   "metadata": {
    "collapsed": true,
    "ExecuteTime": {
     "start_time": "2023-04-25T10:12:51.694585Z",
     "end_time": "2023-04-25T10:12:51.993477Z"
    }
   },
   "outputs": [],
   "source": [
    "import pandas as pd"
   ]
  },
  {
   "cell_type": "code",
   "execution_count": 3,
   "outputs": [],
   "source": [
    "df = pd.read_csv(\"../dataset/wind_engineered_all.csv\")"
   ],
   "metadata": {
    "collapsed": false,
    "ExecuteTime": {
     "start_time": "2023-04-25T10:14:53.964996Z",
     "end_time": "2023-04-25T10:14:56.463267Z"
    }
   }
  },
  {
   "cell_type": "code",
   "execution_count": 4,
   "outputs": [
    {
     "data": {
      "text/plain": "   Customer  Generator Capacity             datetime  label     CL     GC   GG\n0         1                3.78  2010-07-01 00:00:00      1  1.075  0.125  0.0\n1         1                3.78  2010-07-01 00:30:00      2  1.250  0.303  0.0\n2         1                3.78  2010-07-01 01:00:00      3  1.244  0.471  0.0\n3         1                3.78  2010-07-01 01:30:00      4  1.256  0.083  0.0\n4         1                3.78  2010-07-01 02:00:00      5  0.744  0.121  0.0",
      "text/html": "<div>\n<style scoped>\n    .dataframe tbody tr th:only-of-type {\n        vertical-align: middle;\n    }\n\n    .dataframe tbody tr th {\n        vertical-align: top;\n    }\n\n    .dataframe thead th {\n        text-align: right;\n    }\n</style>\n<table border=\"1\" class=\"dataframe\">\n  <thead>\n    <tr style=\"text-align: right;\">\n      <th></th>\n      <th>Customer</th>\n      <th>Generator Capacity</th>\n      <th>datetime</th>\n      <th>label</th>\n      <th>CL</th>\n      <th>GC</th>\n      <th>GG</th>\n    </tr>\n  </thead>\n  <tbody>\n    <tr>\n      <th>0</th>\n      <td>1</td>\n      <td>3.78</td>\n      <td>2010-07-01 00:00:00</td>\n      <td>1</td>\n      <td>1.075</td>\n      <td>0.125</td>\n      <td>0.0</td>\n    </tr>\n    <tr>\n      <th>1</th>\n      <td>1</td>\n      <td>3.78</td>\n      <td>2010-07-01 00:30:00</td>\n      <td>2</td>\n      <td>1.250</td>\n      <td>0.303</td>\n      <td>0.0</td>\n    </tr>\n    <tr>\n      <th>2</th>\n      <td>1</td>\n      <td>3.78</td>\n      <td>2010-07-01 01:00:00</td>\n      <td>3</td>\n      <td>1.244</td>\n      <td>0.471</td>\n      <td>0.0</td>\n    </tr>\n    <tr>\n      <th>3</th>\n      <td>1</td>\n      <td>3.78</td>\n      <td>2010-07-01 01:30:00</td>\n      <td>4</td>\n      <td>1.256</td>\n      <td>0.083</td>\n      <td>0.0</td>\n    </tr>\n    <tr>\n      <th>4</th>\n      <td>1</td>\n      <td>3.78</td>\n      <td>2010-07-01 02:00:00</td>\n      <td>5</td>\n      <td>0.744</td>\n      <td>0.121</td>\n      <td>0.0</td>\n    </tr>\n  </tbody>\n</table>\n</div>"
     },
     "execution_count": 4,
     "metadata": {},
     "output_type": "execute_result"
    }
   ],
   "source": [
    "df.head()"
   ],
   "metadata": {
    "collapsed": false,
    "ExecuteTime": {
     "start_time": "2023-04-25T10:16:11.440161Z",
     "end_time": "2023-04-25T10:16:11.487408Z"
    }
   }
  },
  {
   "cell_type": "code",
   "execution_count": 5,
   "outputs": [],
   "source": [
    "filtered_df = df.drop(columns=[\"datetime\"])\n",
    "filtered_df.columns = [\"location\",\"gen_capacity\",\"time_seq\",\"CL\",\"GC\",\"GG\"]"
   ],
   "metadata": {
    "collapsed": false,
    "ExecuteTime": {
     "start_time": "2023-04-25T11:25:16.018615Z",
     "end_time": "2023-04-25T11:25:16.089928Z"
    }
   }
  },
  {
   "cell_type": "code",
   "execution_count": 7,
   "outputs": [],
   "source": [
    "new_order = [\"location\",\"time_seq\",\"gen_capacity\",\"CL\",\"GC\",\"GG\"]\n",
    "filtered_df=filtered_df.reindex(columns=new_order)"
   ],
   "metadata": {
    "collapsed": false,
    "ExecuteTime": {
     "start_time": "2023-04-25T11:27:43.419231Z",
     "end_time": "2023-04-25T11:27:43.481955Z"
    }
   }
  },
  {
   "cell_type": "code",
   "execution_count": 8,
   "outputs": [
    {
     "data": {
      "text/plain": "   location  time_seq  gen_capacity     CL     GC   GG\n0         1         1          3.78  1.075  0.125  0.0\n1         1         2          3.78  1.250  0.303  0.0\n2         1         3          3.78  1.244  0.471  0.0\n3         1         4          3.78  1.256  0.083  0.0\n4         1         5          3.78  0.744  0.121  0.0",
      "text/html": "<div>\n<style scoped>\n    .dataframe tbody tr th:only-of-type {\n        vertical-align: middle;\n    }\n\n    .dataframe tbody tr th {\n        vertical-align: top;\n    }\n\n    .dataframe thead th {\n        text-align: right;\n    }\n</style>\n<table border=\"1\" class=\"dataframe\">\n  <thead>\n    <tr style=\"text-align: right;\">\n      <th></th>\n      <th>location</th>\n      <th>time_seq</th>\n      <th>gen_capacity</th>\n      <th>CL</th>\n      <th>GC</th>\n      <th>GG</th>\n    </tr>\n  </thead>\n  <tbody>\n    <tr>\n      <th>0</th>\n      <td>1</td>\n      <td>1</td>\n      <td>3.78</td>\n      <td>1.075</td>\n      <td>0.125</td>\n      <td>0.0</td>\n    </tr>\n    <tr>\n      <th>1</th>\n      <td>1</td>\n      <td>2</td>\n      <td>3.78</td>\n      <td>1.250</td>\n      <td>0.303</td>\n      <td>0.0</td>\n    </tr>\n    <tr>\n      <th>2</th>\n      <td>1</td>\n      <td>3</td>\n      <td>3.78</td>\n      <td>1.244</td>\n      <td>0.471</td>\n      <td>0.0</td>\n    </tr>\n    <tr>\n      <th>3</th>\n      <td>1</td>\n      <td>4</td>\n      <td>3.78</td>\n      <td>1.256</td>\n      <td>0.083</td>\n      <td>0.0</td>\n    </tr>\n    <tr>\n      <th>4</th>\n      <td>1</td>\n      <td>5</td>\n      <td>3.78</td>\n      <td>0.744</td>\n      <td>0.121</td>\n      <td>0.0</td>\n    </tr>\n  </tbody>\n</table>\n</div>"
     },
     "execution_count": 8,
     "metadata": {},
     "output_type": "execute_result"
    }
   ],
   "source": [
    "filtered_df.head()"
   ],
   "metadata": {
    "collapsed": false,
    "ExecuteTime": {
     "start_time": "2023-04-25T11:28:03.742129Z",
     "end_time": "2023-04-25T11:28:03.757142Z"
    }
   }
  },
  {
   "cell_type": "code",
   "execution_count": 24,
   "outputs": [],
   "source": [
    "filtered_df.to_csv(\"../dataset/wind_engineering_edited.csv\", index=False)"
   ],
   "metadata": {
    "collapsed": false,
    "ExecuteTime": {
     "start_time": "2023-04-25T13:19:56.123016Z",
     "end_time": "2023-04-25T13:20:05.782059Z"
    }
   }
  },
  {
   "cell_type": "code",
   "execution_count": 11,
   "outputs": [],
   "source": [
    "import sdv\n",
    "from sdv.single_table import CTGANSynthesizer\n",
    "from sdv.metadata import SingleTableMetadata"
   ],
   "metadata": {
    "collapsed": false,
    "ExecuteTime": {
     "start_time": "2023-04-25T12:07:27.050239Z",
     "end_time": "2023-04-25T12:07:27.094325Z"
    }
   }
  },
  {
   "cell_type": "code",
   "execution_count": 12,
   "outputs": [],
   "source": [
    "metadata = SingleTableMetadata()"
   ],
   "metadata": {
    "collapsed": false,
    "ExecuteTime": {
     "start_time": "2023-04-25T12:07:37.307379Z",
     "end_time": "2023-04-25T12:07:37.321626Z"
    }
   }
  },
  {
   "cell_type": "code",
   "execution_count": 13,
   "outputs": [],
   "source": [
    "metadata.detect_from_dataframe(data=filtered_df)"
   ],
   "metadata": {
    "collapsed": false,
    "ExecuteTime": {
     "start_time": "2023-04-25T12:07:41.485594Z",
     "end_time": "2023-04-25T12:07:41.734720Z"
    }
   }
  },
  {
   "cell_type": "code",
   "execution_count": 14,
   "outputs": [],
   "source": [
    "python_dict = metadata.to_dict()"
   ],
   "metadata": {
    "collapsed": false,
    "ExecuteTime": {
     "start_time": "2023-04-25T12:09:59.646073Z",
     "end_time": "2023-04-25T12:09:59.732428Z"
    }
   }
  },
  {
   "cell_type": "code",
   "execution_count": 15,
   "outputs": [
    {
     "data": {
      "text/plain": "{'METADATA_SPEC_VERSION': 'SINGLE_TABLE_V1',\n 'columns': {'location': {'sdtype': 'numerical'},\n  'time_seq': {'sdtype': 'numerical'},\n  'gen_capacity': {'sdtype': 'numerical'},\n  'CL': {'sdtype': 'numerical'},\n  'GC': {'sdtype': 'numerical'},\n  'GG': {'sdtype': 'numerical'}}}"
     },
     "execution_count": 15,
     "metadata": {},
     "output_type": "execute_result"
    }
   ],
   "source": [
    "python_dict"
   ],
   "metadata": {
    "collapsed": false,
    "ExecuteTime": {
     "start_time": "2023-04-25T12:10:02.849429Z",
     "end_time": "2023-04-25T12:10:02.894885Z"
    }
   }
  },
  {
   "cell_type": "code",
   "execution_count": 16,
   "outputs": [],
   "source": [
    "metadata.validate()"
   ],
   "metadata": {
    "collapsed": false,
    "ExecuteTime": {
     "start_time": "2023-04-25T12:10:23.547231Z",
     "end_time": "2023-04-25T12:10:23.624758Z"
    }
   }
  },
  {
   "cell_type": "code",
   "execution_count": 17,
   "outputs": [],
   "source": [
    "synthesizer = CTGANSynthesizer(\n",
    "    metadata,\n",
    "    enforce_rounding=False,\n",
    "    verbose=True\n",
    ")"
   ],
   "metadata": {
    "collapsed": false,
    "ExecuteTime": {
     "start_time": "2023-04-25T12:11:18.337810Z",
     "end_time": "2023-04-25T12:11:18.414828Z"
    }
   }
  },
  {
   "cell_type": "code",
   "execution_count": 20,
   "outputs": [],
   "source": [
    "df_1 = filtered_df[filtered_df[\"location\"]<11]"
   ],
   "metadata": {
    "collapsed": false,
    "ExecuteTime": {
     "start_time": "2023-04-25T12:12:39.279914Z",
     "end_time": "2023-04-25T12:12:39.333872Z"
    }
   }
  },
  {
   "cell_type": "code",
   "execution_count": 21,
   "outputs": [
    {
     "data": {
      "text/plain": "(175200, 6)"
     },
     "execution_count": 21,
     "metadata": {},
     "output_type": "execute_result"
    }
   ],
   "source": [
    "df_1.shape"
   ],
   "metadata": {
    "collapsed": false,
    "ExecuteTime": {
     "start_time": "2023-04-25T12:12:41.096481Z",
     "end_time": "2023-04-25T12:12:41.107778Z"
    }
   }
  },
  {
   "cell_type": "code",
   "execution_count": 22,
   "outputs": [
    {
     "name": "stdout",
     "output_type": "stream",
     "text": [
      "Epoch 1, Loss G: -1.1574,Loss D: -0.1352\n",
      "Epoch 2, Loss G: -1.4669,Loss D:  0.0431\n",
      "Epoch 3, Loss G: -1.3401,Loss D: -0.1471\n",
      "Epoch 4, Loss G: -0.5084,Loss D: -0.3538\n",
      "Epoch 5, Loss G:  0.0284,Loss D: -0.4268\n",
      "Epoch 6, Loss G:  0.3242,Loss D: -0.6037\n",
      "Epoch 7, Loss G:  0.2996,Loss D: -0.5721\n",
      "Epoch 8, Loss G:  0.2082,Loss D: -0.4750\n",
      "Epoch 9, Loss G:  0.2214,Loss D: -0.5048\n",
      "Epoch 10, Loss G:  0.2642,Loss D: -0.4979\n",
      "Epoch 11, Loss G:  0.3562,Loss D: -0.5485\n",
      "Epoch 12, Loss G:  0.1506,Loss D: -0.3892\n",
      "Epoch 13, Loss G: -0.0487,Loss D: -0.3926\n",
      "Epoch 14, Loss G: -0.1507,Loss D: -0.4210\n",
      "Epoch 15, Loss G:  0.0572,Loss D: -0.0770\n",
      "Epoch 16, Loss G: -0.0563,Loss D: -0.2202\n",
      "Epoch 17, Loss G:  0.1322,Loss D: -0.3143\n",
      "Epoch 18, Loss G: -0.1870,Loss D: -0.1961\n",
      "Epoch 19, Loss G: -0.0893,Loss D: -0.2060\n",
      "Epoch 20, Loss G: -0.2759,Loss D: -0.2091\n",
      "Epoch 21, Loss G: -0.0024,Loss D: -0.2905\n",
      "Epoch 22, Loss G: -0.1549,Loss D: -0.1493\n",
      "Epoch 23, Loss G: -0.1990,Loss D: -0.1816\n",
      "Epoch 24, Loss G: -0.1177,Loss D: -0.2559\n",
      "Epoch 25, Loss G: -0.1236,Loss D: -0.2007\n",
      "Epoch 26, Loss G: -0.2415,Loss D: -0.3391\n",
      "Epoch 27, Loss G: -0.2383,Loss D: -0.0494\n",
      "Epoch 28, Loss G: -0.0654,Loss D: -0.2105\n",
      "Epoch 29, Loss G: -0.0425,Loss D: -0.1973\n",
      "Epoch 30, Loss G: -0.1094,Loss D: -0.2445\n",
      "Epoch 31, Loss G: -0.2453,Loss D: -0.1278\n",
      "Epoch 32, Loss G: -0.1053,Loss D: -0.1771\n",
      "Epoch 33, Loss G: -0.0519,Loss D: -0.4096\n",
      "Epoch 34, Loss G: -0.1988,Loss D: -0.2110\n",
      "Epoch 35, Loss G: -0.1077,Loss D: -0.1801\n",
      "Epoch 36, Loss G: -0.2950,Loss D: -0.0427\n",
      "Epoch 37, Loss G: -0.2713,Loss D: -0.3634\n",
      "Epoch 38, Loss G: -0.3983,Loss D: -0.2712\n",
      "Epoch 39, Loss G: -0.3315,Loss D: -0.0912\n",
      "Epoch 40, Loss G: -0.2587,Loss D: -0.0261\n",
      "Epoch 41, Loss G: -0.1256,Loss D: -0.1490\n",
      "Epoch 42, Loss G: -0.1063,Loss D: -0.2941\n",
      "Epoch 43, Loss G: -0.2468,Loss D: -0.1632\n",
      "Epoch 44, Loss G: -0.1852,Loss D: -0.0298\n",
      "Epoch 45, Loss G: -0.4229,Loss D: -0.1081\n",
      "Epoch 46, Loss G: -0.1039,Loss D: -0.2045\n",
      "Epoch 47, Loss G: -0.0687,Loss D: -0.1293\n",
      "Epoch 48, Loss G: -0.3468,Loss D: -0.1162\n",
      "Epoch 49, Loss G: -0.3529,Loss D: -0.0519\n",
      "Epoch 50, Loss G: -0.1960,Loss D: -0.1724\n",
      "Epoch 51, Loss G: -0.0216,Loss D: -0.2013\n",
      "Epoch 52, Loss G: -0.2609,Loss D: -0.0470\n",
      "Epoch 53, Loss G: -0.0853,Loss D: -0.1807\n",
      "Epoch 54, Loss G: -0.2898,Loss D: -0.2324\n",
      "Epoch 55, Loss G: -0.2713,Loss D: -0.0583\n",
      "Epoch 56, Loss G: -0.1648,Loss D: -0.0930\n",
      "Epoch 57, Loss G: -0.1800,Loss D: -0.1556\n",
      "Epoch 58, Loss G: -0.1972,Loss D: -0.1202\n",
      "Epoch 59, Loss G: -0.0313,Loss D: -0.0688\n",
      "Epoch 60, Loss G: -0.2200,Loss D: -0.1887\n",
      "Epoch 61, Loss G: -0.2902,Loss D: -0.0865\n",
      "Epoch 62, Loss G: -0.4062,Loss D: -0.0497\n",
      "Epoch 63, Loss G: -0.2964,Loss D: -0.0614\n",
      "Epoch 64, Loss G: -0.2859,Loss D: -0.1491\n",
      "Epoch 65, Loss G: -0.2517,Loss D: -0.0664\n",
      "Epoch 66, Loss G: -0.2875,Loss D: -0.1596\n",
      "Epoch 67, Loss G: -0.2796,Loss D: -0.1597\n",
      "Epoch 68, Loss G: -0.2127,Loss D: -0.0592\n",
      "Epoch 69, Loss G: -0.1502,Loss D: -0.1228\n",
      "Epoch 70, Loss G: -0.4089,Loss D: -0.0995\n",
      "Epoch 71, Loss G: -0.3051,Loss D: -0.0716\n",
      "Epoch 72, Loss G: -0.3137,Loss D: -0.1587\n",
      "Epoch 73, Loss G: -0.3459,Loss D: -0.2008\n",
      "Epoch 74, Loss G: -0.3552,Loss D: -0.1480\n",
      "Epoch 75, Loss G: -0.2956,Loss D: -0.2137\n",
      "Epoch 76, Loss G: -0.2434,Loss D: -0.1048\n",
      "Epoch 77, Loss G: -0.0855,Loss D: -0.2275\n",
      "Epoch 78, Loss G: -0.0344,Loss D:  0.0041\n",
      "Epoch 79, Loss G: -0.3845,Loss D: -0.1365\n",
      "Epoch 80, Loss G: -0.3254,Loss D: -0.0957\n",
      "Epoch 81, Loss G: -0.3255,Loss D: -0.1675\n",
      "Epoch 82, Loss G: -0.3666,Loss D: -0.0173\n",
      "Epoch 83, Loss G:  0.0179,Loss D: -0.0045\n",
      "Epoch 84, Loss G: -0.3048,Loss D:  0.0108\n",
      "Epoch 85, Loss G: -0.2959,Loss D: -0.1185\n",
      "Epoch 86, Loss G: -0.3943,Loss D: -0.1495\n",
      "Epoch 87, Loss G: -0.3467,Loss D: -0.2815\n",
      "Epoch 88, Loss G: -0.4841,Loss D: -0.0503\n",
      "Epoch 89, Loss G: -0.2644,Loss D: -0.0340\n",
      "Epoch 90, Loss G: -0.2587,Loss D:  0.0156\n",
      "Epoch 91, Loss G: -0.3739,Loss D: -0.1837\n",
      "Epoch 92, Loss G: -0.4875,Loss D: -0.0968\n",
      "Epoch 93, Loss G: -0.3792,Loss D: -0.1992\n",
      "Epoch 94, Loss G: -0.4041,Loss D: -0.1317\n",
      "Epoch 95, Loss G: -0.2615,Loss D: -0.1151\n",
      "Epoch 96, Loss G: -0.5172,Loss D: -0.0011\n",
      "Epoch 97, Loss G: -0.2498,Loss D: -0.1127\n",
      "Epoch 98, Loss G: -0.3594,Loss D: -0.0863\n",
      "Epoch 99, Loss G: -0.2577,Loss D: -0.1056\n",
      "Epoch 100, Loss G: -0.3891,Loss D: -0.1762\n",
      "Epoch 101, Loss G: -0.5212,Loss D: -0.1390\n",
      "Epoch 102, Loss G: -0.4783,Loss D: -0.1093\n",
      "Epoch 103, Loss G: -0.3721,Loss D: -0.1690\n",
      "Epoch 104, Loss G: -0.4585,Loss D:  0.0164\n",
      "Epoch 105, Loss G: -0.0915,Loss D: -0.2434\n",
      "Epoch 106, Loss G: -0.3939,Loss D: -0.1579\n",
      "Epoch 107, Loss G: -0.2716,Loss D:  0.0120\n",
      "Epoch 108, Loss G: -0.3236,Loss D: -0.1752\n",
      "Epoch 109, Loss G: -0.4926,Loss D: -0.1758\n",
      "Epoch 110, Loss G: -0.4034,Loss D: -0.0847\n",
      "Epoch 111, Loss G: -0.5250,Loss D: -0.1126\n",
      "Epoch 112, Loss G: -0.6839,Loss D: -0.0146\n",
      "Epoch 113, Loss G: -0.5148,Loss D: -0.0846\n",
      "Epoch 114, Loss G: -0.5051,Loss D: -0.0947\n",
      "Epoch 115, Loss G: -0.4243,Loss D: -0.1649\n",
      "Epoch 116, Loss G: -0.0403,Loss D: -0.0236\n",
      "Epoch 117, Loss G: -0.2989,Loss D: -0.1973\n",
      "Epoch 118, Loss G: -0.6514,Loss D: -0.1067\n",
      "Epoch 119, Loss G: -0.4885,Loss D: -0.2071\n",
      "Epoch 120, Loss G: -0.3856,Loss D: -0.0993\n",
      "Epoch 121, Loss G: -0.1666,Loss D: -0.0703\n",
      "Epoch 122, Loss G: -0.4862,Loss D: -0.0436\n",
      "Epoch 123, Loss G: -0.3868,Loss D: -0.1879\n",
      "Epoch 124, Loss G: -0.2909,Loss D: -0.1114\n",
      "Epoch 125, Loss G: -0.4803,Loss D: -0.0402\n",
      "Epoch 126, Loss G: -0.4112,Loss D: -0.1701\n",
      "Epoch 127, Loss G: -0.4050,Loss D: -0.2050\n",
      "Epoch 128, Loss G: -0.3434,Loss D:  0.0876\n",
      "Epoch 129, Loss G: -0.3743,Loss D: -0.2753\n",
      "Epoch 130, Loss G: -0.3564,Loss D: -0.1145\n",
      "Epoch 131, Loss G: -0.3304,Loss D: -0.1414\n",
      "Epoch 132, Loss G: -0.5736,Loss D: -0.0612\n",
      "Epoch 133, Loss G: -0.5112,Loss D: -0.0367\n",
      "Epoch 134, Loss G: -0.3546,Loss D:  0.0107\n",
      "Epoch 135, Loss G: -0.3266,Loss D: -0.0637\n",
      "Epoch 136, Loss G: -0.5472,Loss D: -0.0141\n",
      "Epoch 137, Loss G: -0.5777,Loss D: -0.2213\n",
      "Epoch 138, Loss G: -0.5514,Loss D: -0.1583\n",
      "Epoch 139, Loss G: -0.5117,Loss D: -0.0975\n",
      "Epoch 140, Loss G: -0.3221,Loss D: -0.0503\n",
      "Epoch 141, Loss G: -0.3488,Loss D: -0.1731\n",
      "Epoch 142, Loss G: -0.4295,Loss D:  0.1353\n",
      "Epoch 143, Loss G: -0.5573,Loss D: -0.0253\n",
      "Epoch 144, Loss G: -0.3718,Loss D: -0.2245\n",
      "Epoch 145, Loss G: -0.6754,Loss D:  0.0027\n",
      "Epoch 146, Loss G: -0.4433,Loss D:  0.0348\n",
      "Epoch 147, Loss G: -0.3217,Loss D: -0.0610\n",
      "Epoch 148, Loss G: -0.3850,Loss D: -0.1997\n",
      "Epoch 149, Loss G: -0.1653,Loss D: -0.0246\n",
      "Epoch 150, Loss G: -0.3857,Loss D: -0.1882\n",
      "Epoch 151, Loss G: -0.3748,Loss D: -0.2178\n",
      "Epoch 152, Loss G: -0.4837,Loss D: -0.1238\n",
      "Epoch 153, Loss G: -0.5063,Loss D: -0.1504\n",
      "Epoch 154, Loss G: -0.4734,Loss D: -0.0540\n",
      "Epoch 155, Loss G: -0.5197,Loss D:  0.0193\n",
      "Epoch 156, Loss G: -0.4276,Loss D: -0.1564\n",
      "Epoch 157, Loss G: -0.2308,Loss D: -0.0713\n",
      "Epoch 158, Loss G: -0.3496,Loss D: -0.0736\n",
      "Epoch 159, Loss G: -0.0639,Loss D: -0.0798\n",
      "Epoch 160, Loss G: -0.1545,Loss D: -0.0687\n",
      "Epoch 161, Loss G: -0.2381,Loss D: -0.2091\n",
      "Epoch 162, Loss G: -0.4560,Loss D:  0.0230\n",
      "Epoch 163, Loss G: -0.4071,Loss D: -0.1310\n",
      "Epoch 164, Loss G: -0.3601,Loss D:  0.0440\n",
      "Epoch 165, Loss G: -0.2206,Loss D: -0.0105\n",
      "Epoch 166, Loss G: -0.4565,Loss D: -0.0553\n",
      "Epoch 167, Loss G: -0.4143,Loss D: -0.0111\n",
      "Epoch 168, Loss G: -0.5460,Loss D: -0.1074\n",
      "Epoch 169, Loss G: -0.5604,Loss D: -0.0505\n",
      "Epoch 170, Loss G: -0.1237,Loss D: -0.0479\n",
      "Epoch 171, Loss G: -0.3919,Loss D: -0.0875\n",
      "Epoch 172, Loss G: -0.3279,Loss D:  0.0230\n",
      "Epoch 173, Loss G: -0.2782,Loss D: -0.0180\n",
      "Epoch 174, Loss G: -0.3915,Loss D: -0.0725\n",
      "Epoch 175, Loss G: -0.2616,Loss D: -0.0571\n",
      "Epoch 176, Loss G: -0.2328,Loss D:  0.0731\n",
      "Epoch 177, Loss G: -0.2560,Loss D: -0.1885\n",
      "Epoch 178, Loss G: -0.3763,Loss D: -0.0632\n",
      "Epoch 179, Loss G: -0.5784,Loss D: -0.0510\n",
      "Epoch 180, Loss G: -0.4268,Loss D: -0.1366\n",
      "Epoch 181, Loss G: -0.3287,Loss D: -0.1350\n",
      "Epoch 182, Loss G: -0.1182,Loss D:  0.0071\n",
      "Epoch 183, Loss G: -0.3035,Loss D: -0.0868\n",
      "Epoch 184, Loss G: -0.4456,Loss D: -0.1705\n",
      "Epoch 185, Loss G: -0.3846,Loss D: -0.2664\n",
      "Epoch 186, Loss G: -0.2183,Loss D: -0.0520\n",
      "Epoch 187, Loss G: -0.1390,Loss D: -0.1602\n",
      "Epoch 188, Loss G: -0.1302,Loss D: -0.1489\n",
      "Epoch 189, Loss G: -0.2036,Loss D: -0.1180\n",
      "Epoch 190, Loss G: -0.2263,Loss D: -0.0963\n",
      "Epoch 191, Loss G: -0.2210,Loss D: -0.1014\n",
      "Epoch 192, Loss G: -0.3925,Loss D: -0.0402\n",
      "Epoch 193, Loss G: -0.2391,Loss D:  0.0298\n",
      "Epoch 194, Loss G: -0.5875,Loss D: -0.1016\n",
      "Epoch 195, Loss G: -0.0009,Loss D: -0.2587\n",
      "Epoch 196, Loss G: -0.4281,Loss D: -0.1053\n",
      "Epoch 197, Loss G: -0.2833,Loss D: -0.1306\n",
      "Epoch 198, Loss G: -0.3821,Loss D: -0.1819\n",
      "Epoch 199, Loss G: -0.1251,Loss D: -0.0380\n",
      "Epoch 200, Loss G: -0.2139,Loss D: -0.0627\n",
      "Epoch 201, Loss G: -0.2682,Loss D: -0.1267\n",
      "Epoch 202, Loss G: -0.4216,Loss D: -0.0370\n",
      "Epoch 203, Loss G: -0.3647,Loss D: -0.0145\n",
      "Epoch 204, Loss G: -0.2528,Loss D: -0.1323\n",
      "Epoch 205, Loss G: -0.1999,Loss D: -0.0157\n",
      "Epoch 206, Loss G: -0.2220,Loss D:  0.0406\n",
      "Epoch 207, Loss G: -0.0868,Loss D: -0.2017\n",
      "Epoch 208, Loss G: -0.4143,Loss D: -0.0364\n",
      "Epoch 209, Loss G: -0.4177,Loss D: -0.0273\n",
      "Epoch 210, Loss G: -0.3372,Loss D: -0.0251\n",
      "Epoch 211, Loss G: -0.4650,Loss D: -0.2599\n",
      "Epoch 212, Loss G: -0.2498,Loss D: -0.0327\n",
      "Epoch 213, Loss G: -0.4018,Loss D: -0.0937\n",
      "Epoch 214, Loss G: -0.0858,Loss D: -0.0560\n",
      "Epoch 215, Loss G: -0.3213,Loss D: -0.0614\n",
      "Epoch 216, Loss G: -0.1653,Loss D: -0.0329\n",
      "Epoch 217, Loss G: -0.1793,Loss D: -0.0784\n",
      "Epoch 218, Loss G: -0.3906,Loss D: -0.0305\n",
      "Epoch 219, Loss G: -0.1632,Loss D: -0.1266\n",
      "Epoch 220, Loss G: -0.3672,Loss D: -0.0720\n",
      "Epoch 221, Loss G: -0.2072,Loss D: -0.2083\n",
      "Epoch 222, Loss G: -0.1160,Loss D: -0.1196\n",
      "Epoch 223, Loss G: -0.2833,Loss D: -0.0155\n",
      "Epoch 224, Loss G: -0.2916,Loss D: -0.1144\n",
      "Epoch 225, Loss G: -0.3212,Loss D: -0.1597\n",
      "Epoch 226, Loss G: -0.2664,Loss D: -0.1600\n",
      "Epoch 227, Loss G: -0.0531,Loss D: -0.1677\n",
      "Epoch 228, Loss G: -0.2588,Loss D: -0.0723\n",
      "Epoch 229, Loss G: -0.3160,Loss D:  0.0503\n",
      "Epoch 230, Loss G: -0.1597,Loss D: -0.0090\n",
      "Epoch 231, Loss G:  0.0182,Loss D: -0.1481\n",
      "Epoch 232, Loss G:  0.0488,Loss D: -0.1117\n",
      "Epoch 233, Loss G: -0.3724,Loss D: -0.1025\n",
      "Epoch 234, Loss G: -0.2488,Loss D: -0.1815\n",
      "Epoch 235, Loss G: -0.0559,Loss D: -0.0196\n",
      "Epoch 236, Loss G: -0.2509,Loss D: -0.0584\n",
      "Epoch 237, Loss G: -0.1992,Loss D: -0.0825\n",
      "Epoch 238, Loss G: -0.3939,Loss D: -0.0709\n",
      "Epoch 239, Loss G: -0.3713,Loss D:  0.1007\n",
      "Epoch 240, Loss G: -0.4060,Loss D:  0.0563\n",
      "Epoch 241, Loss G: -0.4042,Loss D: -0.0249\n",
      "Epoch 242, Loss G: -0.2041,Loss D: -0.0009\n",
      "Epoch 243, Loss G: -0.3969,Loss D: -0.1503\n",
      "Epoch 244, Loss G: -0.0484,Loss D: -0.2428\n",
      "Epoch 245, Loss G: -0.3799,Loss D: -0.0983\n",
      "Epoch 246, Loss G: -0.1937,Loss D:  0.0245\n",
      "Epoch 247, Loss G: -0.2226,Loss D: -0.1586\n",
      "Epoch 248, Loss G: -0.5251,Loss D: -0.1369\n",
      "Epoch 249, Loss G:  0.0620,Loss D:  0.0450\n",
      "Epoch 250, Loss G: -0.2821,Loss D: -0.0649\n",
      "Epoch 251, Loss G: -0.4134,Loss D:  0.0180\n",
      "Epoch 252, Loss G: -0.3221,Loss D: -0.1060\n",
      "Epoch 253, Loss G: -0.2818,Loss D:  0.0361\n",
      "Epoch 254, Loss G: -0.2375,Loss D:  0.1110\n",
      "Epoch 255, Loss G: -0.4030,Loss D: -0.0080\n",
      "Epoch 256, Loss G: -0.1117,Loss D: -0.0314\n",
      "Epoch 257, Loss G: -0.4114,Loss D: -0.2139\n",
      "Epoch 258, Loss G: -0.1927,Loss D:  0.0838\n",
      "Epoch 259, Loss G: -0.0068,Loss D: -0.0002\n",
      "Epoch 260, Loss G: -0.2550,Loss D: -0.0816\n",
      "Epoch 261, Loss G: -0.4426,Loss D: -0.1044\n",
      "Epoch 262, Loss G: -0.1919,Loss D:  0.0505\n",
      "Epoch 263, Loss G: -0.2600,Loss D:  0.1035\n",
      "Epoch 264, Loss G: -0.3230,Loss D: -0.1027\n",
      "Epoch 265, Loss G: -0.2756,Loss D: -0.0953\n",
      "Epoch 266, Loss G: -0.0544,Loss D: -0.0254\n",
      "Epoch 267, Loss G: -0.1560,Loss D:  0.0743\n",
      "Epoch 268, Loss G: -0.2093,Loss D:  0.0480\n",
      "Epoch 269, Loss G: -0.0883,Loss D: -0.0201\n",
      "Epoch 270, Loss G: -0.4459,Loss D: -0.0959\n",
      "Epoch 271, Loss G: -0.3118,Loss D:  0.0043\n",
      "Epoch 272, Loss G: -0.2307,Loss D: -0.1332\n",
      "Epoch 273, Loss G: -0.1863,Loss D: -0.0944\n",
      "Epoch 274, Loss G: -0.0516,Loss D: -0.1468\n",
      "Epoch 275, Loss G: -0.3058,Loss D:  0.0150\n",
      "Epoch 276, Loss G: -0.0794,Loss D: -0.0936\n",
      "Epoch 277, Loss G: -0.2051,Loss D:  0.1342\n",
      "Epoch 278, Loss G: -0.6095,Loss D: -0.2346\n",
      "Epoch 279, Loss G: -0.2656,Loss D:  0.0761\n",
      "Epoch 280, Loss G: -0.2096,Loss D: -0.1350\n",
      "Epoch 281, Loss G:  0.1988,Loss D: -0.0269\n",
      "Epoch 282, Loss G: -0.2051,Loss D:  0.0390\n",
      "Epoch 283, Loss G: -0.2699,Loss D: -0.1060\n",
      "Epoch 284, Loss G: -0.0530,Loss D: -0.0890\n",
      "Epoch 285, Loss G: -0.2291,Loss D:  0.0088\n",
      "Epoch 286, Loss G: -0.1144,Loss D: -0.0573\n",
      "Epoch 287, Loss G: -0.2483,Loss D: -0.1264\n",
      "Epoch 288, Loss G: -0.2706,Loss D: -0.1599\n",
      "Epoch 289, Loss G: -0.1899,Loss D: -0.0326\n",
      "Epoch 290, Loss G: -0.1401,Loss D:  0.1292\n",
      "Epoch 291, Loss G: -0.3823,Loss D: -0.3035\n",
      "Epoch 292, Loss G: -0.1991,Loss D: -0.0777\n",
      "Epoch 293, Loss G: -0.0778,Loss D: -0.0935\n",
      "Epoch 294, Loss G: -0.2448,Loss D:  0.1826\n",
      "Epoch 295, Loss G: -0.2305,Loss D:  0.0837\n",
      "Epoch 296, Loss G:  0.0172,Loss D: -0.0594\n",
      "Epoch 297, Loss G:  0.0317,Loss D:  0.0537\n",
      "Epoch 298, Loss G: -0.1917,Loss D:  0.1521\n",
      "Epoch 299, Loss G: -0.4331,Loss D: -0.1343\n",
      "Epoch 300, Loss G: -0.1684,Loss D: -0.0994\n"
     ]
    }
   ],
   "source": [
    "synthesizer.fit(df_1)"
   ],
   "metadata": {
    "collapsed": false,
    "ExecuteTime": {
     "start_time": "2023-04-25T12:12:55.702392Z",
     "end_time": "2023-04-25T13:04:50.640545Z"
    }
   }
  },
  {
   "cell_type": "code",
   "execution_count": 23,
   "outputs": [],
   "source": [
    "synthesizer.save(\n",
    "    filepath='../saved_model/final_model.pkl'\n",
    ")"
   ],
   "metadata": {
    "collapsed": false,
    "ExecuteTime": {
     "start_time": "2023-04-25T13:06:16.081332Z",
     "end_time": "2023-04-25T13:06:16.200819Z"
    }
   }
  },
  {
   "cell_type": "code",
   "execution_count": null,
   "outputs": [],
   "source": [],
   "metadata": {
    "collapsed": false
   }
  }
 ],
 "metadata": {
  "kernelspec": {
   "display_name": "Python 3",
   "language": "python",
   "name": "python3"
  },
  "language_info": {
   "codemirror_mode": {
    "name": "ipython",
    "version": 2
   },
   "file_extension": ".py",
   "mimetype": "text/x-python",
   "name": "python",
   "nbconvert_exporter": "python",
   "pygments_lexer": "ipython2",
   "version": "2.7.6"
  }
 },
 "nbformat": 4,
 "nbformat_minor": 0
}
