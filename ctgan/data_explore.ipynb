{
 "cells": [
  {
   "cell_type": "code",
   "execution_count": 1,
   "metadata": {
    "collapsed": true,
    "ExecuteTime": {
     "start_time": "2023-04-25T22:18:17.593003Z",
     "end_time": "2023-04-25T22:18:17.883591Z"
    }
   },
   "outputs": [],
   "source": [
    "import pandas as pd"
   ]
  },
  {
   "cell_type": "code",
   "execution_count": 2,
   "outputs": [],
   "source": [
    "df_real = pd.read_csv(\"../dataset/real_data_3.csv\")\n",
    "df_generated = pd.read_csv(\"../dataset/generated_data_3.csv\")\n"
   ],
   "metadata": {
    "collapsed": false,
    "ExecuteTime": {
     "start_time": "2023-04-25T22:18:22.344272Z",
     "end_time": "2023-04-25T22:18:22.379351Z"
    }
   }
  },
  {
   "cell_type": "code",
   "execution_count": 3,
   "outputs": [
    {
     "data": {
      "text/plain": "      location  time_seq  gen_capacity   CL     GC   GG\n0            3         1           1.0  0.0  0.065  0.0\n1            3         4           1.0  1.0  0.675  0.0\n2            3         7           1.0  0.0  0.705  0.0\n3            3        11           1.0  0.0  0.710  0.0\n4            3        14           1.0  0.0  0.841  0.0\n...        ...       ...           ...  ...    ...  ...\n9948         3     17516           1.0  0.0  0.608  0.0\n9949         3     17517           1.0  0.0  0.459  0.0\n9950         3     17518           1.0  0.0  0.456  0.0\n9951         3     17519           1.0  0.0  0.722  0.0\n9952         3     17520           1.0  0.0  0.060  0.0\n\n[9953 rows x 6 columns]",
      "text/html": "<div>\n<style scoped>\n    .dataframe tbody tr th:only-of-type {\n        vertical-align: middle;\n    }\n\n    .dataframe tbody tr th {\n        vertical-align: top;\n    }\n\n    .dataframe thead th {\n        text-align: right;\n    }\n</style>\n<table border=\"1\" class=\"dataframe\">\n  <thead>\n    <tr style=\"text-align: right;\">\n      <th></th>\n      <th>location</th>\n      <th>time_seq</th>\n      <th>gen_capacity</th>\n      <th>CL</th>\n      <th>GC</th>\n      <th>GG</th>\n    </tr>\n  </thead>\n  <tbody>\n    <tr>\n      <th>0</th>\n      <td>3</td>\n      <td>1</td>\n      <td>1.0</td>\n      <td>0.0</td>\n      <td>0.065</td>\n      <td>0.0</td>\n    </tr>\n    <tr>\n      <th>1</th>\n      <td>3</td>\n      <td>4</td>\n      <td>1.0</td>\n      <td>1.0</td>\n      <td>0.675</td>\n      <td>0.0</td>\n    </tr>\n    <tr>\n      <th>2</th>\n      <td>3</td>\n      <td>7</td>\n      <td>1.0</td>\n      <td>0.0</td>\n      <td>0.705</td>\n      <td>0.0</td>\n    </tr>\n    <tr>\n      <th>3</th>\n      <td>3</td>\n      <td>11</td>\n      <td>1.0</td>\n      <td>0.0</td>\n      <td>0.710</td>\n      <td>0.0</td>\n    </tr>\n    <tr>\n      <th>4</th>\n      <td>3</td>\n      <td>14</td>\n      <td>1.0</td>\n      <td>0.0</td>\n      <td>0.841</td>\n      <td>0.0</td>\n    </tr>\n    <tr>\n      <th>...</th>\n      <td>...</td>\n      <td>...</td>\n      <td>...</td>\n      <td>...</td>\n      <td>...</td>\n      <td>...</td>\n    </tr>\n    <tr>\n      <th>9948</th>\n      <td>3</td>\n      <td>17516</td>\n      <td>1.0</td>\n      <td>0.0</td>\n      <td>0.608</td>\n      <td>0.0</td>\n    </tr>\n    <tr>\n      <th>9949</th>\n      <td>3</td>\n      <td>17517</td>\n      <td>1.0</td>\n      <td>0.0</td>\n      <td>0.459</td>\n      <td>0.0</td>\n    </tr>\n    <tr>\n      <th>9950</th>\n      <td>3</td>\n      <td>17518</td>\n      <td>1.0</td>\n      <td>0.0</td>\n      <td>0.456</td>\n      <td>0.0</td>\n    </tr>\n    <tr>\n      <th>9951</th>\n      <td>3</td>\n      <td>17519</td>\n      <td>1.0</td>\n      <td>0.0</td>\n      <td>0.722</td>\n      <td>0.0</td>\n    </tr>\n    <tr>\n      <th>9952</th>\n      <td>3</td>\n      <td>17520</td>\n      <td>1.0</td>\n      <td>0.0</td>\n      <td>0.060</td>\n      <td>0.0</td>\n    </tr>\n  </tbody>\n</table>\n<p>9953 rows × 6 columns</p>\n</div>"
     },
     "execution_count": 3,
     "metadata": {},
     "output_type": "execute_result"
    }
   ],
   "source": [
    "df_real"
   ],
   "metadata": {
    "collapsed": false,
    "ExecuteTime": {
     "start_time": "2023-04-25T22:18:26.651422Z",
     "end_time": "2023-04-25T22:18:26.682619Z"
    }
   }
  },
  {
   "cell_type": "code",
   "execution_count": 4,
   "outputs": [
    {
     "ename": "NameError",
     "evalue": "name 'df_g' is not defined",
     "output_type": "error",
     "traceback": [
      "\u001B[0;31m---------------------------------------------------------------------------\u001B[0m",
      "\u001B[0;31mNameError\u001B[0m                                 Traceback (most recent call last)",
      "Cell \u001B[0;32mIn[4], line 1\u001B[0m\n\u001B[0;32m----> 1\u001B[0m \u001B[43mdf_g\u001B[49m\n",
      "\u001B[0;31mNameError\u001B[0m: name 'df_g' is not defined"
     ]
    }
   ],
   "source": [
    "df_g"
   ],
   "metadata": {
    "collapsed": false
   }
  },
  {
   "cell_type": "code",
   "execution_count": null,
   "outputs": [],
   "source": [],
   "metadata": {
    "collapsed": false
   }
  }
 ],
 "metadata": {
  "kernelspec": {
   "display_name": "Python 3",
   "language": "python",
   "name": "python3"
  },
  "language_info": {
   "codemirror_mode": {
    "name": "ipython",
    "version": 2
   },
   "file_extension": ".py",
   "mimetype": "text/x-python",
   "name": "python",
   "nbconvert_exporter": "python",
   "pygments_lexer": "ipython2",
   "version": "2.7.6"
  }
 },
 "nbformat": 4,
 "nbformat_minor": 0
}
