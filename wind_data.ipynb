{
 "cells": [
  {
   "cell_type": "code",
   "execution_count": 1,
   "metadata": {
    "collapsed": true,
    "ExecuteTime": {
     "start_time": "2023-04-21T14:46:00.472769Z",
     "end_time": "2023-04-21T14:46:00.795067Z"
    }
   },
   "outputs": [],
   "source": [
    "import pandas as pd"
   ]
  },
  {
   "cell_type": "code",
   "execution_count": 5,
   "outputs": [],
   "source": [
    "df = pd.read_csv(\"wind_data/Solar-home-2010/2010-2011.csv\", low_memory=False)"
   ],
   "metadata": {
    "collapsed": false,
    "ExecuteTime": {
     "start_time": "2023-04-21T14:50:32.723519Z",
     "end_time": "2023-04-21T14:50:34.346771Z"
    }
   }
  },
  {
   "cell_type": "code",
   "execution_count": 6,
   "outputs": [
    {
     "data": {
      "text/plain": "Index(['Customer', 'Generator Capacity', 'Postcode', 'Consumption Category',\n       'date', '0:30', '1:00', '1:30', '2:00', '2:30', '3:00', '3:30', '4:00',\n       '4:30', '5:00', '5:30', '6:00', '6:30', '7:00', '7:30', '8:00', '8:30',\n       '9:00', '9:30', '10:00', '10:30', '11:00', '11:30', '12:00', '12:30',\n       '13:00', '13:30', '14:00', '14:30', '15:00', '15:30', '16:00', '16:30',\n       '17:00', '17:30', '18:00', '18:30', '19:00', '19:30', '20:00', '20:30',\n       '21:00', '21:30', '22:00', '22:30', '23:00', '23:30', '0:00'],\n      dtype='object')"
     },
     "execution_count": 6,
     "metadata": {},
     "output_type": "execute_result"
    }
   ],
   "source": [
    "df.columns"
   ],
   "metadata": {
    "collapsed": false,
    "ExecuteTime": {
     "start_time": "2023-04-21T14:50:35.145816Z",
     "end_time": "2023-04-21T14:50:35.155051Z"
    }
   }
  },
  {
   "cell_type": "code",
   "execution_count": 7,
   "outputs": [
    {
     "data": {
      "text/plain": "   Customer  Generator Capacity  Postcode Consumption Category      date  \\\n0         1                3.78      2076                   GC  1-Jul-10   \n1         1                3.78      2076                   CL  1-Jul-10   \n2         1                3.78      2076                   GG  1-Jul-10   \n3         1                3.78      2076                   GC  2-Jul-10   \n4         1                3.78      2076                   CL  2-Jul-10   \n\n    0:30   1:00   1:30   2:00   2:30  ...  19:30  20:00  20:30  21:00  21:30  \\\n0  0.303  0.471  0.083  0.121  0.361  ...  0.495   0.54  0.406  0.543  0.495   \n1  1.250  1.244  1.256  0.744  0.019  ...  0.000   0.00  0.000  0.000  0.000   \n2  0.000  0.000  0.000  0.000  0.000  ...  0.000   0.00  0.000  0.000  0.000   \n3  0.116  0.346  0.122  0.079  0.120  ...  0.262   1.10  1.012  0.817  0.526   \n4  1.238  1.238  1.256  1.250  0.169  ...  0.000   0.00  0.000  0.000  0.000   \n\n   22:00  22:30  23:00  23:30   0:00  \n0  0.216  0.378  0.128  0.078  0.125  \n1  0.000  0.000  0.000  0.000  1.075  \n2  0.000  0.000  0.000  0.000  0.000  \n3  0.335  0.402  0.142  0.120  0.111  \n4  0.000  0.000  0.000  0.000  1.088  \n\n[5 rows x 53 columns]",
      "text/html": "<div>\n<style scoped>\n    .dataframe tbody tr th:only-of-type {\n        vertical-align: middle;\n    }\n\n    .dataframe tbody tr th {\n        vertical-align: top;\n    }\n\n    .dataframe thead th {\n        text-align: right;\n    }\n</style>\n<table border=\"1\" class=\"dataframe\">\n  <thead>\n    <tr style=\"text-align: right;\">\n      <th></th>\n      <th>Customer</th>\n      <th>Generator Capacity</th>\n      <th>Postcode</th>\n      <th>Consumption Category</th>\n      <th>date</th>\n      <th>0:30</th>\n      <th>1:00</th>\n      <th>1:30</th>\n      <th>2:00</th>\n      <th>2:30</th>\n      <th>...</th>\n      <th>19:30</th>\n      <th>20:00</th>\n      <th>20:30</th>\n      <th>21:00</th>\n      <th>21:30</th>\n      <th>22:00</th>\n      <th>22:30</th>\n      <th>23:00</th>\n      <th>23:30</th>\n      <th>0:00</th>\n    </tr>\n  </thead>\n  <tbody>\n    <tr>\n      <th>0</th>\n      <td>1</td>\n      <td>3.78</td>\n      <td>2076</td>\n      <td>GC</td>\n      <td>1-Jul-10</td>\n      <td>0.303</td>\n      <td>0.471</td>\n      <td>0.083</td>\n      <td>0.121</td>\n      <td>0.361</td>\n      <td>...</td>\n      <td>0.495</td>\n      <td>0.54</td>\n      <td>0.406</td>\n      <td>0.543</td>\n      <td>0.495</td>\n      <td>0.216</td>\n      <td>0.378</td>\n      <td>0.128</td>\n      <td>0.078</td>\n      <td>0.125</td>\n    </tr>\n    <tr>\n      <th>1</th>\n      <td>1</td>\n      <td>3.78</td>\n      <td>2076</td>\n      <td>CL</td>\n      <td>1-Jul-10</td>\n      <td>1.250</td>\n      <td>1.244</td>\n      <td>1.256</td>\n      <td>0.744</td>\n      <td>0.019</td>\n      <td>...</td>\n      <td>0.000</td>\n      <td>0.00</td>\n      <td>0.000</td>\n      <td>0.000</td>\n      <td>0.000</td>\n      <td>0.000</td>\n      <td>0.000</td>\n      <td>0.000</td>\n      <td>0.000</td>\n      <td>1.075</td>\n    </tr>\n    <tr>\n      <th>2</th>\n      <td>1</td>\n      <td>3.78</td>\n      <td>2076</td>\n      <td>GG</td>\n      <td>1-Jul-10</td>\n      <td>0.000</td>\n      <td>0.000</td>\n      <td>0.000</td>\n      <td>0.000</td>\n      <td>0.000</td>\n      <td>...</td>\n      <td>0.000</td>\n      <td>0.00</td>\n      <td>0.000</td>\n      <td>0.000</td>\n      <td>0.000</td>\n      <td>0.000</td>\n      <td>0.000</td>\n      <td>0.000</td>\n      <td>0.000</td>\n      <td>0.000</td>\n    </tr>\n    <tr>\n      <th>3</th>\n      <td>1</td>\n      <td>3.78</td>\n      <td>2076</td>\n      <td>GC</td>\n      <td>2-Jul-10</td>\n      <td>0.116</td>\n      <td>0.346</td>\n      <td>0.122</td>\n      <td>0.079</td>\n      <td>0.120</td>\n      <td>...</td>\n      <td>0.262</td>\n      <td>1.10</td>\n      <td>1.012</td>\n      <td>0.817</td>\n      <td>0.526</td>\n      <td>0.335</td>\n      <td>0.402</td>\n      <td>0.142</td>\n      <td>0.120</td>\n      <td>0.111</td>\n    </tr>\n    <tr>\n      <th>4</th>\n      <td>1</td>\n      <td>3.78</td>\n      <td>2076</td>\n      <td>CL</td>\n      <td>2-Jul-10</td>\n      <td>1.238</td>\n      <td>1.238</td>\n      <td>1.256</td>\n      <td>1.250</td>\n      <td>0.169</td>\n      <td>...</td>\n      <td>0.000</td>\n      <td>0.00</td>\n      <td>0.000</td>\n      <td>0.000</td>\n      <td>0.000</td>\n      <td>0.000</td>\n      <td>0.000</td>\n      <td>0.000</td>\n      <td>0.000</td>\n      <td>1.088</td>\n    </tr>\n  </tbody>\n</table>\n<p>5 rows × 53 columns</p>\n</div>"
     },
     "execution_count": 7,
     "metadata": {},
     "output_type": "execute_result"
    }
   ],
   "source": [
    "df.head()"
   ],
   "metadata": {
    "collapsed": false,
    "ExecuteTime": {
     "start_time": "2023-04-21T14:50:50.967907Z",
     "end_time": "2023-04-21T14:50:51.016590Z"
    }
   }
  },
  {
   "cell_type": "code",
   "execution_count": 12,
   "outputs": [
    {
     "data": {
      "text/plain": "Index(['0:30', '1:00', '1:30', '2:00', '2:30', '3:00', '3:30', '4:00', '4:30',\n       '5:00', '5:30', '6:00', '6:30', '7:00', '7:30', '8:00', '8:30', '9:00',\n       '9:30', '10:00', '10:30', '11:00', '11:30', '12:00', '12:30', '13:00',\n       '13:30', '14:00', '14:30', '15:00', '15:30', '16:00', '16:30', '17:00',\n       '17:30', '18:00', '18:30', '19:00', '19:30', '20:00', '20:30', '21:00',\n       '21:30', '22:00', '22:30', '23:00', '23:30', '0:00'],\n      dtype='object')"
     },
     "execution_count": 12,
     "metadata": {},
     "output_type": "execute_result"
    }
   ],
   "source": [
    "times_columns = df.columns[5:]\n",
    "times_columns"
   ],
   "metadata": {
    "collapsed": false,
    "ExecuteTime": {
     "start_time": "2023-04-21T14:58:57.756517Z",
     "end_time": "2023-04-21T14:58:57.764105Z"
    }
   }
  },
  {
   "cell_type": "code",
   "execution_count": 37,
   "outputs": [],
   "source": [
    "melted_df = pd.melt(df, id_vars=['Customer', 'Generator Capacity', 'Postcode','Consumption Category','date'], value_vars=times_columns, var_name='time', value_name='value')\n",
    "melted_df['datetime'] = pd.to_datetime(melted_df['date'] + ' ' + melted_df['time'])"
   ],
   "metadata": {
    "collapsed": false,
    "ExecuteTime": {
     "start_time": "2023-04-21T16:41:26.233603Z",
     "end_time": "2023-04-21T16:41:30.545328Z"
    }
   }
  },
  {
   "cell_type": "code",
   "execution_count": 38,
   "outputs": [],
   "source": [
    "melted_df['label'] = melted_df.groupby('datetime').ngroup() + 1"
   ],
   "metadata": {
    "collapsed": false,
    "ExecuteTime": {
     "start_time": "2023-04-21T16:41:35.348563Z",
     "end_time": "2023-04-21T16:41:35.602010Z"
    }
   }
  },
  {
   "cell_type": "code",
   "execution_count": 42,
   "outputs": [
    {
     "data": {
      "text/plain": "          Customer  Generator Capacity  Postcode Consumption Category  \\\n0                1                3.78      2076                   GC   \n1                1                3.78      2076                   CL   \n2                1                3.78      2076                   GG   \n3                1                3.78      2076                   GC   \n4                1                3.78      2076                   CL   \n...            ...                 ...       ...                  ...   \n12947275       300                3.36      2086                   CL   \n12947276       300                3.36      2086                   GG   \n12947277       300                3.36      2086                   GC   \n12947278       300                3.36      2086                   CL   \n12947279       300                3.36      2086                   GG   \n\n               date  time  value            datetime  label  \n0          1-Jul-10  0:30  0.303 2010-07-01 00:30:00      2  \n1          1-Jul-10  0:30  1.250 2010-07-01 00:30:00      2  \n2          1-Jul-10  0:30  0.000 2010-07-01 00:30:00      2  \n3          2-Jul-10  0:30  0.116 2010-07-02 00:30:00     50  \n4          2-Jul-10  0:30  1.238 2010-07-02 00:30:00     50  \n...             ...   ...    ...                 ...    ...  \n12947275  29-Jun-11  0:00  2.490 2011-06-29 00:00:00  17425  \n12947276  29-Jun-11  0:00  0.000 2011-06-29 00:00:00  17425  \n12947277  30-Jun-11  0:00  0.774 2011-06-30 00:00:00  17473  \n12947278  30-Jun-11  0:00  2.528 2011-06-30 00:00:00  17473  \n12947279  30-Jun-11  0:00  0.000 2011-06-30 00:00:00  17473  \n\n[12947280 rows x 9 columns]",
      "text/html": "<div>\n<style scoped>\n    .dataframe tbody tr th:only-of-type {\n        vertical-align: middle;\n    }\n\n    .dataframe tbody tr th {\n        vertical-align: top;\n    }\n\n    .dataframe thead th {\n        text-align: right;\n    }\n</style>\n<table border=\"1\" class=\"dataframe\">\n  <thead>\n    <tr style=\"text-align: right;\">\n      <th></th>\n      <th>Customer</th>\n      <th>Generator Capacity</th>\n      <th>Postcode</th>\n      <th>Consumption Category</th>\n      <th>date</th>\n      <th>time</th>\n      <th>value</th>\n      <th>datetime</th>\n      <th>label</th>\n    </tr>\n  </thead>\n  <tbody>\n    <tr>\n      <th>0</th>\n      <td>1</td>\n      <td>3.78</td>\n      <td>2076</td>\n      <td>GC</td>\n      <td>1-Jul-10</td>\n      <td>0:30</td>\n      <td>0.303</td>\n      <td>2010-07-01 00:30:00</td>\n      <td>2</td>\n    </tr>\n    <tr>\n      <th>1</th>\n      <td>1</td>\n      <td>3.78</td>\n      <td>2076</td>\n      <td>CL</td>\n      <td>1-Jul-10</td>\n      <td>0:30</td>\n      <td>1.250</td>\n      <td>2010-07-01 00:30:00</td>\n      <td>2</td>\n    </tr>\n    <tr>\n      <th>2</th>\n      <td>1</td>\n      <td>3.78</td>\n      <td>2076</td>\n      <td>GG</td>\n      <td>1-Jul-10</td>\n      <td>0:30</td>\n      <td>0.000</td>\n      <td>2010-07-01 00:30:00</td>\n      <td>2</td>\n    </tr>\n    <tr>\n      <th>3</th>\n      <td>1</td>\n      <td>3.78</td>\n      <td>2076</td>\n      <td>GC</td>\n      <td>2-Jul-10</td>\n      <td>0:30</td>\n      <td>0.116</td>\n      <td>2010-07-02 00:30:00</td>\n      <td>50</td>\n    </tr>\n    <tr>\n      <th>4</th>\n      <td>1</td>\n      <td>3.78</td>\n      <td>2076</td>\n      <td>CL</td>\n      <td>2-Jul-10</td>\n      <td>0:30</td>\n      <td>1.238</td>\n      <td>2010-07-02 00:30:00</td>\n      <td>50</td>\n    </tr>\n    <tr>\n      <th>...</th>\n      <td>...</td>\n      <td>...</td>\n      <td>...</td>\n      <td>...</td>\n      <td>...</td>\n      <td>...</td>\n      <td>...</td>\n      <td>...</td>\n      <td>...</td>\n    </tr>\n    <tr>\n      <th>12947275</th>\n      <td>300</td>\n      <td>3.36</td>\n      <td>2086</td>\n      <td>CL</td>\n      <td>29-Jun-11</td>\n      <td>0:00</td>\n      <td>2.490</td>\n      <td>2011-06-29 00:00:00</td>\n      <td>17425</td>\n    </tr>\n    <tr>\n      <th>12947276</th>\n      <td>300</td>\n      <td>3.36</td>\n      <td>2086</td>\n      <td>GG</td>\n      <td>29-Jun-11</td>\n      <td>0:00</td>\n      <td>0.000</td>\n      <td>2011-06-29 00:00:00</td>\n      <td>17425</td>\n    </tr>\n    <tr>\n      <th>12947277</th>\n      <td>300</td>\n      <td>3.36</td>\n      <td>2086</td>\n      <td>GC</td>\n      <td>30-Jun-11</td>\n      <td>0:00</td>\n      <td>0.774</td>\n      <td>2011-06-30 00:00:00</td>\n      <td>17473</td>\n    </tr>\n    <tr>\n      <th>12947278</th>\n      <td>300</td>\n      <td>3.36</td>\n      <td>2086</td>\n      <td>CL</td>\n      <td>30-Jun-11</td>\n      <td>0:00</td>\n      <td>2.528</td>\n      <td>2011-06-30 00:00:00</td>\n      <td>17473</td>\n    </tr>\n    <tr>\n      <th>12947279</th>\n      <td>300</td>\n      <td>3.36</td>\n      <td>2086</td>\n      <td>GG</td>\n      <td>30-Jun-11</td>\n      <td>0:00</td>\n      <td>0.000</td>\n      <td>2011-06-30 00:00:00</td>\n      <td>17473</td>\n    </tr>\n  </tbody>\n</table>\n<p>12947280 rows × 9 columns</p>\n</div>"
     },
     "execution_count": 42,
     "metadata": {},
     "output_type": "execute_result"
    }
   ],
   "source": [
    "melted_df"
   ],
   "metadata": {
    "collapsed": false,
    "ExecuteTime": {
     "start_time": "2023-04-21T16:43:08.280365Z",
     "end_time": "2023-04-21T16:43:08.290579Z"
    }
   }
  },
  {
   "cell_type": "code",
   "execution_count": 43,
   "outputs": [],
   "source": [
    "filtered_df = melted_df[melted_df[\"Customer\"]<=5]"
   ],
   "metadata": {
    "collapsed": false,
    "ExecuteTime": {
     "start_time": "2023-04-21T16:43:41.162474Z",
     "end_time": "2023-04-21T16:43:41.443820Z"
    }
   }
  },
  {
   "cell_type": "code",
   "execution_count": 44,
   "outputs": [],
   "source": [
    "filtered_df.to_csv(\"dataset/wind.csv\", index=False)"
   ],
   "metadata": {
    "collapsed": false,
    "ExecuteTime": {
     "start_time": "2023-04-21T16:43:42.209960Z",
     "end_time": "2023-04-21T16:43:43.180549Z"
    }
   }
  },
  {
   "cell_type": "code",
   "execution_count": null,
   "outputs": [],
   "source": [],
   "metadata": {
    "collapsed": false
   }
  }
 ],
 "metadata": {
  "kernelspec": {
   "display_name": "Python 3",
   "language": "python",
   "name": "python3"
  },
  "language_info": {
   "codemirror_mode": {
    "name": "ipython",
    "version": 2
   },
   "file_extension": ".py",
   "mimetype": "text/x-python",
   "name": "python",
   "nbconvert_exporter": "python",
   "pygments_lexer": "ipython2",
   "version": "2.7.6"
  }
 },
 "nbformat": 4,
 "nbformat_minor": 0
}
