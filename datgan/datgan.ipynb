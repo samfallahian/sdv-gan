{
 "cells": [
  {
   "cell_type": "code",
   "execution_count": 1,
   "outputs": [],
   "source": [
    "import networkx as nx"
   ],
   "metadata": {
    "collapsed": false,
    "ExecuteTime": {
     "start_time": "2023-04-22T14:47:14.502826Z",
     "end_time": "2023-04-22T14:47:14.570123Z"
    }
   }
  },
  {
   "cell_type": "code",
   "execution_count": 2,
   "outputs": [],
   "source": [
    "import datgan"
   ],
   "metadata": {
    "collapsed": false,
    "ExecuteTime": {
     "start_time": "2023-04-22T14:47:21.391941Z",
     "end_time": "2023-04-22T14:47:21.422585Z"
    }
   }
  },
  {
   "cell_type": "code",
   "execution_count": 3,
   "outputs": [
    {
     "name": "stdout",
     "output_type": "stream",
     "text": [
      "Help on package datgan:\n",
      "\n",
      "NAME\n",
      "    datgan\n",
      "\n",
      "PACKAGE CONTENTS\n",
      "\n",
      "\n",
      "FILE\n",
      "    (built-in)\n",
      "\n",
      "\n"
     ]
    }
   ],
   "source": [
    "help(datgan)"
   ],
   "metadata": {
    "collapsed": false,
    "ExecuteTime": {
     "start_time": "2023-04-22T14:47:23.471434Z",
     "end_time": "2023-04-22T14:47:23.503890Z"
    }
   }
  },
  {
   "cell_type": "code",
   "execution_count": 4,
   "outputs": [],
   "source": [
    "import pandas as pd\n",
    "import numpy as np"
   ],
   "metadata": {
    "collapsed": false,
    "ExecuteTime": {
     "start_time": "2023-04-22T14:47:26.046632Z",
     "end_time": "2023-04-22T14:47:26.429955Z"
    }
   }
  },
  {
   "cell_type": "code",
   "execution_count": 5,
   "outputs": [],
   "source": [
    "df = pd.read_csv(\"../dataset/filtered_wind.csv\", index_col=False)"
   ],
   "metadata": {
    "collapsed": false,
    "ExecuteTime": {
     "start_time": "2023-04-22T14:47:26.546650Z",
     "end_time": "2023-04-22T14:47:26.619277Z"
    }
   }
  },
  {
   "cell_type": "code",
   "execution_count": 6,
   "outputs": [
    {
     "data": {
      "text/plain": "   location  time_seq  gen_capacity category  value\n0         1         2          3.78       GC  0.303\n1         1         2          3.78       CL  1.250\n2         1         2          3.78       GG  0.000\n3         1        50          3.78       GC  0.116\n4         1        50          3.78       CL  1.238",
      "text/html": "<div>\n<style scoped>\n    .dataframe tbody tr th:only-of-type {\n        vertical-align: middle;\n    }\n\n    .dataframe tbody tr th {\n        vertical-align: top;\n    }\n\n    .dataframe thead th {\n        text-align: right;\n    }\n</style>\n<table border=\"1\" class=\"dataframe\">\n  <thead>\n    <tr style=\"text-align: right;\">\n      <th></th>\n      <th>location</th>\n      <th>time_seq</th>\n      <th>gen_capacity</th>\n      <th>category</th>\n      <th>value</th>\n    </tr>\n  </thead>\n  <tbody>\n    <tr>\n      <th>0</th>\n      <td>1</td>\n      <td>2</td>\n      <td>3.78</td>\n      <td>GC</td>\n      <td>0.303</td>\n    </tr>\n    <tr>\n      <th>1</th>\n      <td>1</td>\n      <td>2</td>\n      <td>3.78</td>\n      <td>CL</td>\n      <td>1.250</td>\n    </tr>\n    <tr>\n      <th>2</th>\n      <td>1</td>\n      <td>2</td>\n      <td>3.78</td>\n      <td>GG</td>\n      <td>0.000</td>\n    </tr>\n    <tr>\n      <th>3</th>\n      <td>1</td>\n      <td>50</td>\n      <td>3.78</td>\n      <td>GC</td>\n      <td>0.116</td>\n    </tr>\n    <tr>\n      <th>4</th>\n      <td>1</td>\n      <td>50</td>\n      <td>3.78</td>\n      <td>CL</td>\n      <td>1.238</td>\n    </tr>\n  </tbody>\n</table>\n</div>"
     },
     "execution_count": 6,
     "metadata": {},
     "output_type": "execute_result"
    }
   ],
   "source": [
    "df.head()"
   ],
   "metadata": {
    "collapsed": false,
    "ExecuteTime": {
     "start_time": "2023-04-22T14:47:27.287703Z",
     "end_time": "2023-04-22T14:47:27.299911Z"
    }
   }
  },
  {
   "cell_type": "code",
   "execution_count": 7,
   "outputs": [
    {
     "data": {
      "text/plain": "array([1, 2, 3, 4, 5])"
     },
     "execution_count": 7,
     "metadata": {},
     "output_type": "execute_result"
    }
   ],
   "source": [
    "df[\"location\"].unique()"
   ],
   "metadata": {
    "collapsed": false,
    "ExecuteTime": {
     "start_time": "2023-04-22T14:47:28.183367Z",
     "end_time": "2023-04-22T14:47:28.196765Z"
    }
   }
  },
  {
   "cell_type": "code",
   "execution_count": 8,
   "outputs": [
    {
     "data": {
      "text/plain": "            location       time_seq   gen_capacity          value\ncount  262800.000000  262800.000000  262800.000000  262800.000000\nmean        3.000000    8760.500000       1.680000       0.165929\nstd         1.414216    5057.597972       1.077109       0.321578\nmin         1.000000       1.000000       1.000000       0.000000\n25%         2.000000    4380.750000       1.000000       0.000000\n50%         3.000000    8760.500000       1.000000       0.019000\n75%         4.000000   13140.250000       1.620000       0.188000\nmax         5.000000   17520.000000       3.780000       3.358000",
      "text/html": "<div>\n<style scoped>\n    .dataframe tbody tr th:only-of-type {\n        vertical-align: middle;\n    }\n\n    .dataframe tbody tr th {\n        vertical-align: top;\n    }\n\n    .dataframe thead th {\n        text-align: right;\n    }\n</style>\n<table border=\"1\" class=\"dataframe\">\n  <thead>\n    <tr style=\"text-align: right;\">\n      <th></th>\n      <th>location</th>\n      <th>time_seq</th>\n      <th>gen_capacity</th>\n      <th>value</th>\n    </tr>\n  </thead>\n  <tbody>\n    <tr>\n      <th>count</th>\n      <td>262800.000000</td>\n      <td>262800.000000</td>\n      <td>262800.000000</td>\n      <td>262800.000000</td>\n    </tr>\n    <tr>\n      <th>mean</th>\n      <td>3.000000</td>\n      <td>8760.500000</td>\n      <td>1.680000</td>\n      <td>0.165929</td>\n    </tr>\n    <tr>\n      <th>std</th>\n      <td>1.414216</td>\n      <td>5057.597972</td>\n      <td>1.077109</td>\n      <td>0.321578</td>\n    </tr>\n    <tr>\n      <th>min</th>\n      <td>1.000000</td>\n      <td>1.000000</td>\n      <td>1.000000</td>\n      <td>0.000000</td>\n    </tr>\n    <tr>\n      <th>25%</th>\n      <td>2.000000</td>\n      <td>4380.750000</td>\n      <td>1.000000</td>\n      <td>0.000000</td>\n    </tr>\n    <tr>\n      <th>50%</th>\n      <td>3.000000</td>\n      <td>8760.500000</td>\n      <td>1.000000</td>\n      <td>0.019000</td>\n    </tr>\n    <tr>\n      <th>75%</th>\n      <td>4.000000</td>\n      <td>13140.250000</td>\n      <td>1.620000</td>\n      <td>0.188000</td>\n    </tr>\n    <tr>\n      <th>max</th>\n      <td>5.000000</td>\n      <td>17520.000000</td>\n      <td>3.780000</td>\n      <td>3.358000</td>\n    </tr>\n  </tbody>\n</table>\n</div>"
     },
     "execution_count": 8,
     "metadata": {},
     "output_type": "execute_result"
    }
   ],
   "source": [
    "df.describe()"
   ],
   "metadata": {
    "collapsed": false,
    "ExecuteTime": {
     "start_time": "2023-04-22T14:47:28.948475Z",
     "end_time": "2023-04-22T14:47:29.018945Z"
    }
   }
  },
  {
   "cell_type": "code",
   "execution_count": 9,
   "outputs": [],
   "source": [
    "\n",
    "data_info = {\n",
    "    'location': {\n",
    "        'type': 'continuous',\n",
    "        'bounds': [1, 5],\n",
    "        'enforce_bounds': True,\n",
    "        'discrete': True,\n",
    "    },\n",
    "    'time_seq': {\n",
    "        'type': 'continuous',\n",
    "        'bounds': [1, 17520],\n",
    "        'enforce_bounds': True,\n",
    "        'discrete': True\n",
    "    },\n",
    "    'gen_capacity': {\n",
    "        'type': 'continuous',\n",
    "        'discrete': False\n",
    "    },\n",
    "    'value': {\n",
    "        'type': 'continuous',\n",
    "        'discrete': False\n",
    "    }\n",
    "}\n",
    "\n",
    "# For the categorical columns, we can simply add them using a for loop\n",
    "for c in df.columns:\n",
    "    if c not in data_info.keys():\n",
    "        data_info[c] = {'type': 'categorical'}"
   ],
   "metadata": {
    "collapsed": false,
    "ExecuteTime": {
     "start_time": "2023-04-22T14:47:29.696641Z",
     "end_time": "2023-04-22T14:47:29.743178Z"
    }
   }
  },
  {
   "cell_type": "code",
   "execution_count": 10,
   "outputs": [
    {
     "data": {
      "text/plain": "{'location': {'type': 'continuous',\n  'bounds': [1, 5],\n  'enforce_bounds': True,\n  'discrete': True},\n 'time_seq': {'type': 'continuous',\n  'bounds': [1, 17520],\n  'enforce_bounds': True,\n  'discrete': True},\n 'gen_capacity': {'type': 'continuous', 'discrete': False},\n 'value': {'type': 'continuous', 'discrete': False},\n 'category': {'type': 'categorical'}}"
     },
     "execution_count": 10,
     "metadata": {},
     "output_type": "execute_result"
    }
   ],
   "source": [
    "data_info"
   ],
   "metadata": {
    "collapsed": false,
    "ExecuteTime": {
     "start_time": "2023-04-22T14:47:32.174836Z",
     "end_time": "2023-04-22T14:47:32.185866Z"
    }
   }
  },
  {
   "cell_type": "code",
   "execution_count": 11,
   "outputs": [],
   "source": [
    "graph = nx.DiGraph()\n",
    "graph.add_edges_from([\n",
    "    (\"location\", \"value\"),\n",
    "    (\"time_seq\", \"value\")\n",
    "])"
   ],
   "metadata": {
    "collapsed": false,
    "ExecuteTime": {
     "start_time": "2023-04-22T14:48:58.326373Z",
     "end_time": "2023-04-22T14:48:58.366968Z"
    }
   }
  },
  {
   "cell_type": "code",
   "execution_count": 1,
   "outputs": [],
   "source": [
    "import datgan"
   ],
   "metadata": {
    "collapsed": false,
    "ExecuteTime": {
     "start_time": "2023-04-22T15:12:38.826693Z",
     "end_time": "2023-04-22T15:12:38.827167Z"
    }
   }
  },
  {
   "cell_type": "code",
   "execution_count": 2,
   "outputs": [
    {
     "ename": "ImportError",
     "evalue": "cannot import name 'stats_assessment' from 'datgan' (unknown location)",
     "output_type": "error",
     "traceback": [
      "\u001B[0;31m---------------------------------------------------------------------------\u001B[0m",
      "\u001B[0;31mImportError\u001B[0m                               Traceback (most recent call last)",
      "Cell \u001B[0;32mIn[2], line 9\u001B[0m\n\u001B[1;32m      5\u001B[0m \u001B[38;5;28;01mimport\u001B[39;00m \u001B[38;5;21;01mnetworkx\u001B[39;00m \u001B[38;5;28;01mas\u001B[39;00m \u001B[38;5;21;01mnx\u001B[39;00m\n\u001B[1;32m      7\u001B[0m \u001B[38;5;28;01mfrom\u001B[39;00m \u001B[38;5;21;01msklearn\u001B[39;00m\u001B[38;5;21;01m.\u001B[39;00m\u001B[38;5;21;01mpreprocessing\u001B[39;00m \u001B[38;5;28;01mimport\u001B[39;00m OrdinalEncoder\n\u001B[0;32m----> 9\u001B[0m \u001B[38;5;28;01mfrom\u001B[39;00m \u001B[38;5;21;01mdatgan\u001B[39;00m \u001B[38;5;28;01mimport\u001B[39;00m stats_assessment\n\u001B[1;32m     10\u001B[0m \u001B[38;5;28;01mfrom\u001B[39;00m \u001B[38;5;21;01mdatgan\u001B[39;00m \u001B[38;5;28;01mimport\u001B[39;00m ml_assessment, transform_results\n",
      "\u001B[0;31mImportError\u001B[0m: cannot import name 'stats_assessment' from 'datgan' (unknown location)"
     ]
    }
   ],
   "source": [
    "\n",
    "\n",
    "import os\n",
    "import pickle\n",
    "import numpy as np\n",
    "import pandas as pd\n",
    "import networkx as nx\n",
    "\n",
    "from sklearn.preprocessing import OrdinalEncoder\n",
    "\n",
    "from datgan import stats_assessment\n",
    "from datgan import ml_assessment, transform_results\n",
    "\n"
   ],
   "metadata": {
    "collapsed": false
   }
  },
  {
   "cell_type": "code",
   "execution_count": null,
   "outputs": [],
   "source": [],
   "metadata": {
    "collapsed": false
   }
  }
 ],
 "metadata": {
  "kernelspec": {
   "display_name": "Python 3",
   "language": "python",
   "name": "python3"
  },
  "language_info": {
   "codemirror_mode": {
    "name": "ipython",
    "version": 2
   },
   "file_extension": ".py",
   "mimetype": "text/x-python",
   "name": "python",
   "nbconvert_exporter": "python",
   "pygments_lexer": "ipython2",
   "version": "2.7.6"
  }
 },
 "nbformat": 4,
 "nbformat_minor": 0
}
