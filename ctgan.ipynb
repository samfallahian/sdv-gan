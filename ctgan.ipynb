{
 "cells": [
  {
   "cell_type": "code",
   "execution_count": 2,
   "metadata": {
    "collapsed": true,
    "ExecuteTime": {
     "start_time": "2023-04-21T16:35:56.639903Z",
     "end_time": "2023-04-21T16:35:57.935996Z"
    }
   },
   "outputs": [],
   "source": [
    "import pandas as pd\n",
    "import sdv\n",
    "from sdv.single_table import CTGANSynthesizer"
   ]
  },
  {
   "cell_type": "code",
   "execution_count": 3,
   "outputs": [],
   "source": [
    "from sdv.metadata import SingleTableMetadata\n",
    "\n",
    "metadata = SingleTableMetadata()"
   ],
   "metadata": {
    "collapsed": false,
    "ExecuteTime": {
     "start_time": "2023-04-21T16:36:09.818853Z",
     "end_time": "2023-04-21T16:36:09.863453Z"
    }
   }
  },
  {
   "cell_type": "code",
   "execution_count": 12,
   "outputs": [],
   "source": [
    "df = pd.read_csv(\"dataset/wind.csv\")"
   ],
   "metadata": {
    "collapsed": false,
    "ExecuteTime": {
     "start_time": "2023-04-21T16:45:55.969764Z",
     "end_time": "2023-04-21T16:45:56.164988Z"
    }
   }
  },
  {
   "cell_type": "code",
   "execution_count": 13,
   "outputs": [
    {
     "data": {
      "text/plain": "   Customer  Generator Capacity  Postcode Consumption Category      date  \\\n0         1                3.78      2076                   GC  1-Jul-10   \n1         1                3.78      2076                   CL  1-Jul-10   \n2         1                3.78      2076                   GG  1-Jul-10   \n3         1                3.78      2076                   GC  2-Jul-10   \n4         1                3.78      2076                   CL  2-Jul-10   \n\n   time  value             datetime  label  \n0  0:30  0.303  2010-07-01 00:30:00      2  \n1  0:30  1.250  2010-07-01 00:30:00      2  \n2  0:30  0.000  2010-07-01 00:30:00      2  \n3  0:30  0.116  2010-07-02 00:30:00     50  \n4  0:30  1.238  2010-07-02 00:30:00     50  ",
      "text/html": "<div>\n<style scoped>\n    .dataframe tbody tr th:only-of-type {\n        vertical-align: middle;\n    }\n\n    .dataframe tbody tr th {\n        vertical-align: top;\n    }\n\n    .dataframe thead th {\n        text-align: right;\n    }\n</style>\n<table border=\"1\" class=\"dataframe\">\n  <thead>\n    <tr style=\"text-align: right;\">\n      <th></th>\n      <th>Customer</th>\n      <th>Generator Capacity</th>\n      <th>Postcode</th>\n      <th>Consumption Category</th>\n      <th>date</th>\n      <th>time</th>\n      <th>value</th>\n      <th>datetime</th>\n      <th>label</th>\n    </tr>\n  </thead>\n  <tbody>\n    <tr>\n      <th>0</th>\n      <td>1</td>\n      <td>3.78</td>\n      <td>2076</td>\n      <td>GC</td>\n      <td>1-Jul-10</td>\n      <td>0:30</td>\n      <td>0.303</td>\n      <td>2010-07-01 00:30:00</td>\n      <td>2</td>\n    </tr>\n    <tr>\n      <th>1</th>\n      <td>1</td>\n      <td>3.78</td>\n      <td>2076</td>\n      <td>CL</td>\n      <td>1-Jul-10</td>\n      <td>0:30</td>\n      <td>1.250</td>\n      <td>2010-07-01 00:30:00</td>\n      <td>2</td>\n    </tr>\n    <tr>\n      <th>2</th>\n      <td>1</td>\n      <td>3.78</td>\n      <td>2076</td>\n      <td>GG</td>\n      <td>1-Jul-10</td>\n      <td>0:30</td>\n      <td>0.000</td>\n      <td>2010-07-01 00:30:00</td>\n      <td>2</td>\n    </tr>\n    <tr>\n      <th>3</th>\n      <td>1</td>\n      <td>3.78</td>\n      <td>2076</td>\n      <td>GC</td>\n      <td>2-Jul-10</td>\n      <td>0:30</td>\n      <td>0.116</td>\n      <td>2010-07-02 00:30:00</td>\n      <td>50</td>\n    </tr>\n    <tr>\n      <th>4</th>\n      <td>1</td>\n      <td>3.78</td>\n      <td>2076</td>\n      <td>CL</td>\n      <td>2-Jul-10</td>\n      <td>0:30</td>\n      <td>1.238</td>\n      <td>2010-07-02 00:30:00</td>\n      <td>50</td>\n    </tr>\n  </tbody>\n</table>\n</div>"
     },
     "execution_count": 13,
     "metadata": {},
     "output_type": "execute_result"
    }
   ],
   "source": [
    "df.head()"
   ],
   "metadata": {
    "collapsed": false,
    "ExecuteTime": {
     "start_time": "2023-04-21T16:45:56.544782Z",
     "end_time": "2023-04-21T16:45:56.591423Z"
    }
   }
  },
  {
   "cell_type": "code",
   "execution_count": 16,
   "outputs": [],
   "source": [
    "filtered_df = df.drop(columns=[\"Postcode\",\"date\",\"time\",\"datetime\"])\n",
    "filtered_df.columns = [\"location\",\"gen_capacity\",\"category\",\"value\",\"time_seq\"]"
   ],
   "metadata": {
    "collapsed": false,
    "ExecuteTime": {
     "start_time": "2023-04-21T16:47:45.126598Z",
     "end_time": "2023-04-21T16:47:45.166933Z"
    }
   }
  },
  {
   "cell_type": "code",
   "execution_count": 19,
   "outputs": [],
   "source": [
    "new_order = [\"location\",\"time_seq\",\"gen_capacity\",\"category\",\"value\"]\n",
    "filtered_df=filtered_df.reindex(columns=new_order)"
   ],
   "metadata": {
    "collapsed": false,
    "ExecuteTime": {
     "start_time": "2023-04-21T16:49:40.810066Z",
     "end_time": "2023-04-21T16:49:40.853292Z"
    }
   }
  },
  {
   "cell_type": "code",
   "execution_count": 21,
   "outputs": [
    {
     "data": {
      "text/plain": "   location  time_seq  gen_capacity category  value\n0         1         2          3.78       GC  0.303\n1         1         2          3.78       CL  1.250\n2         1         2          3.78       GG  0.000\n3         1        50          3.78       GC  0.116\n4         1        50          3.78       CL  1.238",
      "text/html": "<div>\n<style scoped>\n    .dataframe tbody tr th:only-of-type {\n        vertical-align: middle;\n    }\n\n    .dataframe tbody tr th {\n        vertical-align: top;\n    }\n\n    .dataframe thead th {\n        text-align: right;\n    }\n</style>\n<table border=\"1\" class=\"dataframe\">\n  <thead>\n    <tr style=\"text-align: right;\">\n      <th></th>\n      <th>location</th>\n      <th>time_seq</th>\n      <th>gen_capacity</th>\n      <th>category</th>\n      <th>value</th>\n    </tr>\n  </thead>\n  <tbody>\n    <tr>\n      <th>0</th>\n      <td>1</td>\n      <td>2</td>\n      <td>3.78</td>\n      <td>GC</td>\n      <td>0.303</td>\n    </tr>\n    <tr>\n      <th>1</th>\n      <td>1</td>\n      <td>2</td>\n      <td>3.78</td>\n      <td>CL</td>\n      <td>1.250</td>\n    </tr>\n    <tr>\n      <th>2</th>\n      <td>1</td>\n      <td>2</td>\n      <td>3.78</td>\n      <td>GG</td>\n      <td>0.000</td>\n    </tr>\n    <tr>\n      <th>3</th>\n      <td>1</td>\n      <td>50</td>\n      <td>3.78</td>\n      <td>GC</td>\n      <td>0.116</td>\n    </tr>\n    <tr>\n      <th>4</th>\n      <td>1</td>\n      <td>50</td>\n      <td>3.78</td>\n      <td>CL</td>\n      <td>1.238</td>\n    </tr>\n  </tbody>\n</table>\n</div>"
     },
     "execution_count": 21,
     "metadata": {},
     "output_type": "execute_result"
    }
   ],
   "source": [
    "filtered_df.head()"
   ],
   "metadata": {
    "collapsed": false,
    "ExecuteTime": {
     "start_time": "2023-04-21T16:53:08.913717Z",
     "end_time": "2023-04-21T16:53:08.964550Z"
    }
   }
  },
  {
   "cell_type": "code",
   "execution_count": 22,
   "outputs": [],
   "source": [
    "metadata.detect_from_dataframe(data=filtered_df)"
   ],
   "metadata": {
    "collapsed": false,
    "ExecuteTime": {
     "start_time": "2023-04-21T16:53:48.667149Z",
     "end_time": "2023-04-21T16:53:48.758784Z"
    }
   }
  },
  {
   "cell_type": "code",
   "execution_count": 23,
   "outputs": [],
   "source": [
    "python_dict = metadata.to_dict()"
   ],
   "metadata": {
    "collapsed": false,
    "ExecuteTime": {
     "start_time": "2023-04-21T16:53:59.872542Z",
     "end_time": "2023-04-21T16:53:59.905721Z"
    }
   }
  },
  {
   "cell_type": "code",
   "execution_count": 24,
   "outputs": [],
   "source": [
    "metadata.validate()"
   ],
   "metadata": {
    "collapsed": false,
    "ExecuteTime": {
     "start_time": "2023-04-21T16:54:06.796215Z",
     "end_time": "2023-04-21T16:54:06.823619Z"
    }
   }
  },
  {
   "cell_type": "code",
   "execution_count": 25,
   "outputs": [
    {
     "data": {
      "text/plain": "{'columns': {'location': {'sdtype': 'numerical'},\n  'time_seq': {'sdtype': 'numerical'},\n  'gen_capacity': {'sdtype': 'numerical'},\n  'category': {'sdtype': 'categorical'},\n  'value': {'sdtype': 'numerical'}},\n 'METADATA_SPEC_VERSION': 'SINGLE_TABLE_V1'}"
     },
     "execution_count": 25,
     "metadata": {},
     "output_type": "execute_result"
    }
   ],
   "source": [
    "python_dict"
   ],
   "metadata": {
    "collapsed": false,
    "ExecuteTime": {
     "start_time": "2023-04-21T16:54:19.023990Z",
     "end_time": "2023-04-21T16:54:19.058591Z"
    }
   }
  },
  {
   "cell_type": "code",
   "execution_count": 26,
   "outputs": [],
   "source": [
    "from sdv.single_table import CTGANSynthesizer\n",
    "\n",
    "synthesizer = CTGANSynthesizer(\n",
    "    metadata,\n",
    "    enforce_rounding=False,\n",
    "    epochs=500,\n",
    "    verbose=True\n",
    ")"
   ],
   "metadata": {
    "collapsed": false,
    "ExecuteTime": {
     "start_time": "2023-04-21T17:01:25.960551Z",
     "end_time": "2023-04-21T17:01:25.994525Z"
    }
   }
  },
  {
   "cell_type": "code",
   "execution_count": null,
   "outputs": [
    {
     "name": "stdout",
     "output_type": "stream",
     "text": [
      "Epoch 1, Loss G: -0.8084,Loss D: -0.0718\n",
      "Epoch 2, Loss G: -0.2350,Loss D: -0.1026\n",
      "Epoch 3, Loss G: -0.2307,Loss D: -0.2917\n",
      "Epoch 4, Loss G: -0.4842,Loss D:  0.0581\n",
      "Epoch 5, Loss G: -0.2016,Loss D: -0.0218\n",
      "Epoch 6, Loss G: -0.1479,Loss D: -0.0682\n",
      "Epoch 7, Loss G: -0.2917,Loss D:  0.1358\n",
      "Epoch 8, Loss G: -0.2266,Loss D: -0.0024\n",
      "Epoch 9, Loss G: -0.2839,Loss D: -0.1156\n",
      "Epoch 10, Loss G: -0.2121,Loss D: -0.0454\n",
      "Epoch 11, Loss G: -0.3863,Loss D:  0.0111\n",
      "Epoch 12, Loss G: -0.4396,Loss D:  0.1468\n",
      "Epoch 13, Loss G: -0.2234,Loss D: -0.0066\n",
      "Epoch 14, Loss G: -0.2010,Loss D: -0.3021\n",
      "Epoch 15, Loss G: -0.2528,Loss D: -0.1037\n",
      "Epoch 16, Loss G: -0.3723,Loss D: -0.2191\n",
      "Epoch 17, Loss G: -0.4907,Loss D: -0.3377\n",
      "Epoch 18, Loss G: -0.5224,Loss D: -0.2225\n",
      "Epoch 19, Loss G: -0.6432,Loss D:  0.1023\n",
      "Epoch 20, Loss G: -0.4433,Loss D: -0.0576\n",
      "Epoch 21, Loss G: -0.4735,Loss D: -0.1191\n",
      "Epoch 22, Loss G: -0.4363,Loss D: -0.0389\n",
      "Epoch 23, Loss G: -0.5754,Loss D: -0.1417\n",
      "Epoch 24, Loss G: -0.4686,Loss D: -0.1519\n",
      "Epoch 25, Loss G: -0.4868,Loss D: -0.0806\n",
      "Epoch 26, Loss G: -0.3849,Loss D:  0.1495\n",
      "Epoch 27, Loss G: -0.4495,Loss D: -0.1244\n",
      "Epoch 28, Loss G: -0.4038,Loss D: -0.1747\n",
      "Epoch 29, Loss G: -0.5048,Loss D: -0.0278\n",
      "Epoch 30, Loss G: -0.3251,Loss D: -0.1260\n",
      "Epoch 31, Loss G: -0.6195,Loss D: -0.1231\n",
      "Epoch 32, Loss G: -0.2254,Loss D: -0.2037\n",
      "Epoch 33, Loss G: -0.4371,Loss D: -0.0065\n",
      "Epoch 34, Loss G: -0.6824,Loss D: -0.1773\n",
      "Epoch 35, Loss G: -0.5598,Loss D: -0.1139\n",
      "Epoch 36, Loss G: -0.4560,Loss D:  0.1221\n",
      "Epoch 37, Loss G: -0.3078,Loss D:  0.0080\n",
      "Epoch 38, Loss G: -0.3469,Loss D:  0.0322\n",
      "Epoch 39, Loss G: -0.4207,Loss D: -0.1325\n",
      "Epoch 40, Loss G: -0.3580,Loss D: -0.1172\n",
      "Epoch 41, Loss G: -0.2984,Loss D: -0.2122\n",
      "Epoch 42, Loss G: -0.5015,Loss D: -0.1213\n",
      "Epoch 43, Loss G: -0.4006,Loss D: -0.0962\n",
      "Epoch 44, Loss G: -0.3143,Loss D: -0.0506\n",
      "Epoch 45, Loss G: -0.3666,Loss D: -0.0423\n",
      "Epoch 46, Loss G: -0.4539,Loss D:  0.0530\n",
      "Epoch 47, Loss G: -0.4798,Loss D: -0.0571\n",
      "Epoch 48, Loss G: -0.3162,Loss D: -0.0926\n",
      "Epoch 49, Loss G: -0.4249,Loss D:  0.0699\n",
      "Epoch 50, Loss G: -0.5598,Loss D: -0.0555\n",
      "Epoch 51, Loss G: -0.4238,Loss D: -0.0250\n",
      "Epoch 52, Loss G: -0.3538,Loss D: -0.1291\n",
      "Epoch 53, Loss G: -0.3627,Loss D: -0.0214\n",
      "Epoch 54, Loss G: -0.6115,Loss D: -0.0553\n",
      "Epoch 55, Loss G: -0.5016,Loss D: -0.1772\n",
      "Epoch 56, Loss G: -0.4585,Loss D:  0.1077\n",
      "Epoch 57, Loss G: -0.5907,Loss D: -0.0347\n",
      "Epoch 58, Loss G: -0.2058,Loss D: -0.0176\n",
      "Epoch 59, Loss G: -0.2765,Loss D: -0.1300\n",
      "Epoch 60, Loss G: -0.5602,Loss D:  0.0389\n",
      "Epoch 61, Loss G: -0.5436,Loss D: -0.4125\n",
      "Epoch 62, Loss G: -0.5405,Loss D: -0.0234\n",
      "Epoch 63, Loss G: -0.2410,Loss D:  0.0123\n",
      "Epoch 64, Loss G: -0.4538,Loss D: -0.2057\n",
      "Epoch 65, Loss G: -0.4870,Loss D: -0.0784\n",
      "Epoch 66, Loss G: -0.5036,Loss D: -0.0246\n",
      "Epoch 67, Loss G: -0.2237,Loss D: -0.2647\n",
      "Epoch 68, Loss G: -0.1348,Loss D:  0.0768\n",
      "Epoch 69, Loss G: -0.2938,Loss D: -0.0049\n",
      "Epoch 70, Loss G: -0.3641,Loss D: -0.0594\n",
      "Epoch 71, Loss G: -0.2794,Loss D: -0.2293\n",
      "Epoch 72, Loss G: -0.3794,Loss D:  0.0941\n",
      "Epoch 73, Loss G: -0.3465,Loss D: -0.2627\n",
      "Epoch 74, Loss G: -0.1569,Loss D: -0.0842\n",
      "Epoch 75, Loss G: -0.3578,Loss D:  0.1362\n"
     ]
    }
   ],
   "source": [
    "synthesizer.fit(filtered_df)"
   ],
   "metadata": {
    "collapsed": false,
    "pycharm": {
     "is_executing": true
    }
   }
  },
  {
   "cell_type": "code",
   "execution_count": null,
   "outputs": [],
   "source": [
    "synthesizer.save(\n",
    "    filepath='saved_model/ctgan.pkl'\n",
    ")"
   ],
   "metadata": {
    "collapsed": false,
    "pycharm": {
     "is_executing": true
    }
   }
  },
  {
   "cell_type": "code",
   "execution_count": null,
   "outputs": [],
   "source": [
    "load_synthesizer = CTGANSynthesizer.load(\n",
    "    filepath='my_synthesizer.pkl'\n",
    ")\n",
    "#"
   ],
   "metadata": {
    "collapsed": false
   }
  }
 ],
 "metadata": {
  "kernelspec": {
   "display_name": "Python 3",
   "language": "python",
   "name": "python3"
  },
  "language_info": {
   "codemirror_mode": {
    "name": "ipython",
    "version": 2
   },
   "file_extension": ".py",
   "mimetype": "text/x-python",
   "name": "python",
   "nbconvert_exporter": "python",
   "pygments_lexer": "ipython2",
   "version": "2.7.6"
  }
 },
 "nbformat": 4,
 "nbformat_minor": 0
}
