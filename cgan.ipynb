{
 "cells": [
  {
   "cell_type": "code",
   "execution_count": 1,
   "metadata": {
    "collapsed": true,
    "ExecuteTime": {
     "start_time": "2023-04-10T22:05:25.504354Z",
     "end_time": "2023-04-10T22:05:25.745429Z"
    }
   },
   "outputs": [],
   "source": [
    "import pandas as pd\n",
    "import numpy as np"
   ]
  },
  {
   "cell_type": "code",
   "execution_count": 2,
   "outputs": [],
   "source": [
    "df = pd.read_pickle(f\"dataset/3p6-selected.pkl\", compression='zip')"
   ],
   "metadata": {
    "collapsed": false,
    "ExecuteTime": {
     "start_time": "2023-04-10T22:05:25.747661Z",
     "end_time": "2023-04-10T22:05:25.836961Z"
    }
   }
  },
  {
   "cell_type": "code",
   "execution_count": 3,
   "outputs": [],
   "source": [
    "train_df = df[df[\"time\"] != 303]\n",
    "train_df = train_df.drop(columns=[\"x\",\"y\",\"z\",\"px\",\"py\",\"pz\"], axis=1)"
   ],
   "metadata": {
    "collapsed": false,
    "ExecuteTime": {
     "start_time": "2023-04-10T22:05:30.315467Z",
     "end_time": "2023-04-10T22:05:30.415540Z"
    }
   }
  },
  {
   "cell_type": "code",
   "execution_count": 4,
   "outputs": [],
   "source": [
    "test_df = df[df[\"time\"] == 303]\n",
    "test_df = test_df.drop(columns=[\"x\",\"y\",\"z\",\"px\",\"py\",\"pz\"], axis=1)"
   ],
   "metadata": {
    "collapsed": false,
    "ExecuteTime": {
     "start_time": "2023-04-10T22:05:32.790113Z",
     "end_time": "2023-04-10T22:05:32.805155Z"
    }
   }
  },
  {
   "cell_type": "code",
   "execution_count": 5,
   "outputs": [
    {
     "data": {
      "text/plain": "((253430, 5), (50686, 5))"
     },
     "execution_count": 5,
     "metadata": {},
     "output_type": "execute_result"
    }
   ],
   "source": [
    "train_df.shape, test_df.shape"
   ],
   "metadata": {
    "collapsed": false,
    "ExecuteTime": {
     "start_time": "2023-04-10T22:05:33.502905Z",
     "end_time": "2023-04-10T22:05:33.543679Z"
    }
   }
  },
  {
   "cell_type": "code",
   "execution_count": 6,
   "outputs": [
    {
     "data": {
      "text/plain": "50686"
     },
     "execution_count": 6,
     "metadata": {},
     "output_type": "execute_result"
    }
   ],
   "source": [
    "df[['x', 'y', 'z']].drop_duplicates().count()[0]"
   ],
   "metadata": {
    "collapsed": false,
    "ExecuteTime": {
     "start_time": "2023-04-10T22:05:36.041627Z",
     "end_time": "2023-04-10T22:05:36.122123Z"
    }
   }
  },
  {
   "cell_type": "code",
   "execution_count": 7,
   "outputs": [],
   "source": [
    "import sdv"
   ],
   "metadata": {
    "collapsed": false,
    "ExecuteTime": {
     "start_time": "2023-04-10T22:05:48.060232Z",
     "end_time": "2023-04-10T22:05:48.073098Z"
    }
   }
  },
  {
   "cell_type": "code",
   "execution_count": 8,
   "outputs": [
    {
     "name": "stdout",
     "output_type": "stream",
     "text": [
      "1.0.0\n"
     ]
    }
   ],
   "source": [
    "print(sdv.__version__)"
   ],
   "metadata": {
    "collapsed": false,
    "ExecuteTime": {
     "start_time": "2023-04-10T22:05:48.767633Z",
     "end_time": "2023-04-10T22:05:48.776947Z"
    }
   }
  },
  {
   "cell_type": "code",
   "execution_count": 9,
   "outputs": [],
   "source": [
    "from sdv.metadata import SingleTableMetadata\n",
    "\n",
    "metadata = SingleTableMetadata()"
   ],
   "metadata": {
    "collapsed": false,
    "ExecuteTime": {
     "start_time": "2023-04-10T22:05:53.703100Z",
     "end_time": "2023-04-10T22:05:54.302594Z"
    }
   }
  },
  {
   "cell_type": "code",
   "execution_count": 44,
   "outputs": [],
   "source": [
    "metadata.detect_from_dataframe(data=train_df)\n",
    "python_dict = metadata.to_dict()"
   ],
   "metadata": {
    "collapsed": false,
    "ExecuteTime": {
     "start_time": "2023-04-10T14:07:16.796703Z",
     "end_time": "2023-04-10T14:07:16.867294Z"
    }
   }
  },
  {
   "cell_type": "code",
   "execution_count": 45,
   "outputs": [
    {
     "data": {
      "text/plain": "{'columns': {'vx': {'sdtype': 'numerical'},\n  'vy': {'sdtype': 'numerical'},\n  'vz': {'sdtype': 'numerical'},\n  'time': {'sdtype': 'numerical'},\n  'distance': {'sdtype': 'numerical'}},\n 'METADATA_SPEC_VERSION': 'SINGLE_TABLE_V1'}"
     },
     "execution_count": 45,
     "metadata": {},
     "output_type": "execute_result"
    }
   ],
   "source": [
    "python_dict = metadata.to_dict()\n",
    "python_dict"
   ],
   "metadata": {
    "collapsed": false,
    "ExecuteTime": {
     "start_time": "2023-04-10T14:07:18.195988Z",
     "end_time": "2023-04-10T14:07:18.210774Z"
    }
   }
  },
  {
   "cell_type": "code",
   "execution_count": 40,
   "outputs": [],
   "source": [
    "# metadata.update_column(\n",
    "#     column_name='xyz_id',\n",
    "#     sdtype='id')\n",
    "# metadata.set_primary_key(column_name='xyz_id')"
   ],
   "metadata": {
    "collapsed": false,
    "ExecuteTime": {
     "start_time": "2023-04-06T15:32:15.792274Z",
     "end_time": "2023-04-06T15:32:15.796105Z"
    }
   }
  },
  {
   "cell_type": "code",
   "execution_count": 41,
   "outputs": [],
   "source": [
    "metadata.validate()"
   ],
   "metadata": {
    "collapsed": false,
    "ExecuteTime": {
     "start_time": "2023-04-06T15:32:16.236437Z",
     "end_time": "2023-04-06T15:32:16.247357Z"
    }
   }
  },
  {
   "cell_type": "code",
   "execution_count": 10,
   "outputs": [],
   "source": [
    "from sdv.single_table import CopulaGANSynthesizer"
   ],
   "metadata": {
    "collapsed": false,
    "ExecuteTime": {
     "start_time": "2023-04-10T22:06:01.771013Z",
     "end_time": "2023-04-10T22:06:02.777710Z"
    }
   }
  },
  {
   "cell_type": "code",
   "execution_count": 47,
   "outputs": [],
   "source": [
    "synthesizer = CopulaGANSynthesizer(metadata)\n",
    "synthesizer.fit(train_df)"
   ],
   "metadata": {
    "collapsed": false,
    "ExecuteTime": {
     "start_time": "2023-04-10T14:07:39.465965Z",
     "end_time": "2023-04-10T15:18:39.739256Z"
    }
   }
  },
  {
   "cell_type": "code",
   "execution_count": 48,
   "outputs": [],
   "source": [
    "synthetic_data = synthesizer.sample(num_rows=10)"
   ],
   "metadata": {
    "collapsed": false,
    "ExecuteTime": {
     "start_time": "2023-04-10T15:36:22.700977Z",
     "end_time": "2023-04-10T15:36:22.796797Z"
    }
   }
  },
  {
   "cell_type": "code",
   "execution_count": 49,
   "outputs": [
    {
     "data": {
      "text/plain": "Empty DataFrame\nColumns: [vx, vy, vz, time, distance]\nIndex: []",
      "text/html": "<div>\n<style scoped>\n    .dataframe tbody tr th:only-of-type {\n        vertical-align: middle;\n    }\n\n    .dataframe tbody tr th {\n        vertical-align: top;\n    }\n\n    .dataframe thead th {\n        text-align: right;\n    }\n</style>\n<table border=\"1\" class=\"dataframe\">\n  <thead>\n    <tr style=\"text-align: right;\">\n      <th></th>\n      <th>vx</th>\n      <th>vy</th>\n      <th>vz</th>\n      <th>time</th>\n      <th>distance</th>\n    </tr>\n  </thead>\n  <tbody>\n  </tbody>\n</table>\n</div>"
     },
     "execution_count": 49,
     "metadata": {},
     "output_type": "execute_result"
    }
   ],
   "source": [
    "synthetic_data[(synthetic_data[\"time\"]==302) & (synthetic_data[\"distance\"]==74)]"
   ],
   "metadata": {
    "collapsed": false,
    "ExecuteTime": {
     "start_time": "2023-04-10T15:36:23.652361Z",
     "end_time": "2023-04-10T15:36:23.733947Z"
    }
   }
  },
  {
   "cell_type": "code",
   "execution_count": 48,
   "outputs": [
    {
     "data": {
      "text/plain": "            vx    vy    vz  time  distance  xyz_id\n1872348   0.47  0.01  0.06   301      82.0   30164\n3291556   0.50 -0.02 -0.01   305      82.0   30164\n9728678   0.48  0.01  0.07   300      82.0   30164\n20727540  0.48  0.01  0.06   302      82.0   30164\n30155136  0.49 -0.02 -0.02   304      82.0   30164",
      "text/html": "<div>\n<style scoped>\n    .dataframe tbody tr th:only-of-type {\n        vertical-align: middle;\n    }\n\n    .dataframe tbody tr th {\n        vertical-align: top;\n    }\n\n    .dataframe thead th {\n        text-align: right;\n    }\n</style>\n<table border=\"1\" class=\"dataframe\">\n  <thead>\n    <tr style=\"text-align: right;\">\n      <th></th>\n      <th>vx</th>\n      <th>vy</th>\n      <th>vz</th>\n      <th>time</th>\n      <th>distance</th>\n      <th>xyz_id</th>\n    </tr>\n  </thead>\n  <tbody>\n    <tr>\n      <th>1872348</th>\n      <td>0.47</td>\n      <td>0.01</td>\n      <td>0.06</td>\n      <td>301</td>\n      <td>82.0</td>\n      <td>30164</td>\n    </tr>\n    <tr>\n      <th>3291556</th>\n      <td>0.50</td>\n      <td>-0.02</td>\n      <td>-0.01</td>\n      <td>305</td>\n      <td>82.0</td>\n      <td>30164</td>\n    </tr>\n    <tr>\n      <th>9728678</th>\n      <td>0.48</td>\n      <td>0.01</td>\n      <td>0.07</td>\n      <td>300</td>\n      <td>82.0</td>\n      <td>30164</td>\n    </tr>\n    <tr>\n      <th>20727540</th>\n      <td>0.48</td>\n      <td>0.01</td>\n      <td>0.06</td>\n      <td>302</td>\n      <td>82.0</td>\n      <td>30164</td>\n    </tr>\n    <tr>\n      <th>30155136</th>\n      <td>0.49</td>\n      <td>-0.02</td>\n      <td>-0.02</td>\n      <td>304</td>\n      <td>82.0</td>\n      <td>30164</td>\n    </tr>\n  </tbody>\n</table>\n</div>"
     },
     "execution_count": 48,
     "metadata": {},
     "output_type": "execute_result"
    }
   ],
   "source": [
    "train_df[(train_df[\"xyz_id\"]==30164)]"
   ],
   "metadata": {
    "collapsed": false,
    "ExecuteTime": {
     "start_time": "2023-04-07T23:47:09.115790Z",
     "end_time": "2023-04-07T23:47:09.159109Z"
    }
   }
  },
  {
   "cell_type": "code",
   "execution_count": 49,
   "outputs": [
    {
     "data": {
      "text/plain": "            vx    vy    vz  time  distance  xyz_id\n20680297  0.49 -0.00  0.04   302      74.0   22048\n20680307  0.48  0.01  0.03   302      74.0   29968\n20680358  0.50 -0.01  0.05   302      74.0   19654\n20680373  0.47  0.01  0.01   302      74.0   31534\n20680439  0.47  0.01  0.00   302      74.0   33100\n...        ...   ...   ...   ...       ...     ...\n20730085  0.53 -0.01  0.01   302      74.0   18357\n20730151  0.53 -0.02  0.00   302      74.0   19923\n20730218  0.54 -0.01 -0.00   302      74.0   22281\n20730225  0.50  0.02 -0.00   302      74.0   27825\n20730226  0.49  0.01  0.00   302      74.0   28617\n\n[533 rows x 6 columns]",
      "text/html": "<div>\n<style scoped>\n    .dataframe tbody tr th:only-of-type {\n        vertical-align: middle;\n    }\n\n    .dataframe tbody tr th {\n        vertical-align: top;\n    }\n\n    .dataframe thead th {\n        text-align: right;\n    }\n</style>\n<table border=\"1\" class=\"dataframe\">\n  <thead>\n    <tr style=\"text-align: right;\">\n      <th></th>\n      <th>vx</th>\n      <th>vy</th>\n      <th>vz</th>\n      <th>time</th>\n      <th>distance</th>\n      <th>xyz_id</th>\n    </tr>\n  </thead>\n  <tbody>\n    <tr>\n      <th>20680297</th>\n      <td>0.49</td>\n      <td>-0.00</td>\n      <td>0.04</td>\n      <td>302</td>\n      <td>74.0</td>\n      <td>22048</td>\n    </tr>\n    <tr>\n      <th>20680307</th>\n      <td>0.48</td>\n      <td>0.01</td>\n      <td>0.03</td>\n      <td>302</td>\n      <td>74.0</td>\n      <td>29968</td>\n    </tr>\n    <tr>\n      <th>20680358</th>\n      <td>0.50</td>\n      <td>-0.01</td>\n      <td>0.05</td>\n      <td>302</td>\n      <td>74.0</td>\n      <td>19654</td>\n    </tr>\n    <tr>\n      <th>20680373</th>\n      <td>0.47</td>\n      <td>0.01</td>\n      <td>0.01</td>\n      <td>302</td>\n      <td>74.0</td>\n      <td>31534</td>\n    </tr>\n    <tr>\n      <th>20680439</th>\n      <td>0.47</td>\n      <td>0.01</td>\n      <td>0.00</td>\n      <td>302</td>\n      <td>74.0</td>\n      <td>33100</td>\n    </tr>\n    <tr>\n      <th>...</th>\n      <td>...</td>\n      <td>...</td>\n      <td>...</td>\n      <td>...</td>\n      <td>...</td>\n      <td>...</td>\n    </tr>\n    <tr>\n      <th>20730085</th>\n      <td>0.53</td>\n      <td>-0.01</td>\n      <td>0.01</td>\n      <td>302</td>\n      <td>74.0</td>\n      <td>18357</td>\n    </tr>\n    <tr>\n      <th>20730151</th>\n      <td>0.53</td>\n      <td>-0.02</td>\n      <td>0.00</td>\n      <td>302</td>\n      <td>74.0</td>\n      <td>19923</td>\n    </tr>\n    <tr>\n      <th>20730218</th>\n      <td>0.54</td>\n      <td>-0.01</td>\n      <td>-0.00</td>\n      <td>302</td>\n      <td>74.0</td>\n      <td>22281</td>\n    </tr>\n    <tr>\n      <th>20730225</th>\n      <td>0.50</td>\n      <td>0.02</td>\n      <td>-0.00</td>\n      <td>302</td>\n      <td>74.0</td>\n      <td>27825</td>\n    </tr>\n    <tr>\n      <th>20730226</th>\n      <td>0.49</td>\n      <td>0.01</td>\n      <td>0.00</td>\n      <td>302</td>\n      <td>74.0</td>\n      <td>28617</td>\n    </tr>\n  </tbody>\n</table>\n<p>533 rows × 6 columns</p>\n</div>"
     },
     "execution_count": 49,
     "metadata": {},
     "output_type": "execute_result"
    }
   ],
   "source": [
    "train_df[(train_df[\"time\"]==302) & (train_df[\"distance\"]==74)]"
   ],
   "metadata": {
    "collapsed": false,
    "ExecuteTime": {
     "start_time": "2023-04-07T23:48:00.454280Z",
     "end_time": "2023-04-07T23:48:00.502238Z"
    }
   }
  },
  {
   "cell_type": "code",
   "execution_count": 50,
   "outputs": [],
   "source": [
    "synthesizer.save(\n",
    "    filepath=f\"temp/3p6-learned-1.pkl\"\n",
    ")"
   ],
   "metadata": {
    "collapsed": false,
    "ExecuteTime": {
     "start_time": "2023-04-10T15:36:34.369850Z",
     "end_time": "2023-04-10T15:36:34.459837Z"
    }
   }
  },
  {
   "cell_type": "code",
   "execution_count": 11,
   "outputs": [],
   "source": [
    "synthesizer_saved = CopulaGANSynthesizer.load(\n",
    "    filepath=f\"temp/3p6-learned-1.pkl\"\n",
    ")"
   ],
   "metadata": {
    "collapsed": false,
    "ExecuteTime": {
     "start_time": "2023-04-10T22:06:13.079398Z",
     "end_time": "2023-04-10T22:06:13.316329Z"
    }
   }
  },
  {
   "cell_type": "code",
   "execution_count": 12,
   "outputs": [],
   "source": [
    "from sdv.sampling import Condition"
   ],
   "metadata": {
    "collapsed": false,
    "ExecuteTime": {
     "start_time": "2023-04-10T22:06:17.544471Z",
     "end_time": "2023-04-10T22:06:17.563387Z"
    }
   }
  },
  {
   "cell_type": "markdown",
   "source": [],
   "metadata": {
    "collapsed": false
   }
  },
  {
   "cell_type": "markdown",
   "source": [],
   "metadata": {
    "collapsed": false
   }
  },
  {
   "cell_type": "code",
   "execution_count": 62,
   "outputs": [],
   "source": [
    "generate_test_data = Condition(\n",
    "    num_rows=20,\n",
    "    column_values={'time': 301, 'distance': 82}\n",
    ")\n"
   ],
   "metadata": {
    "collapsed": false,
    "ExecuteTime": {
     "start_time": "2023-04-10T19:14:22.145678Z",
     "end_time": "2023-04-10T19:14:22.196059Z"
    }
   }
  },
  {
   "cell_type": "code",
   "execution_count": 63,
   "outputs": [
    {
     "name": "stderr",
     "output_type": "stream",
     "text": [
      "Sampling conditions: 100%|██████████| 20/20 [00:00<00:00, 20.06it/s]\n"
     ]
    }
   ],
   "source": [
    "synthetic_data = synthesizer_saved.sample_from_conditions(\n",
    "    conditions=[generate_test_data],\n",
    "    output_file_path=f\"result/test1.csv\"\n",
    ")"
   ],
   "metadata": {
    "collapsed": false,
    "ExecuteTime": {
     "start_time": "2023-04-10T19:14:23.679130Z",
     "end_time": "2023-04-10T19:14:24.691135Z"
    }
   }
  },
  {
   "cell_type": "code",
   "execution_count": 61,
   "outputs": [
    {
     "data": {
      "text/plain": "           vx    vy    vz  time  distance\n1824916  0.49  0.01  0.05   301      82.0\n1824917  0.49  0.01  0.06   301      82.0\n1824918  0.49  0.01  0.06   301      82.0\n1824919  0.49  0.01  0.07   301      82.0\n1824988  0.48  0.01  0.04   301      82.0\n...       ...   ...   ...   ...       ...\n1874977  0.49 -0.03  0.09   301      82.0\n1875020  0.52 -0.02  0.01   301      82.0\n1875086  0.52 -0.03 -0.00   301      82.0\n1875152  0.52 -0.03  0.00   301      82.0\n1875163  0.47  0.00  0.05   301      82.0\n\n[581 rows x 5 columns]",
      "text/html": "<div>\n<style scoped>\n    .dataframe tbody tr th:only-of-type {\n        vertical-align: middle;\n    }\n\n    .dataframe tbody tr th {\n        vertical-align: top;\n    }\n\n    .dataframe thead th {\n        text-align: right;\n    }\n</style>\n<table border=\"1\" class=\"dataframe\">\n  <thead>\n    <tr style=\"text-align: right;\">\n      <th></th>\n      <th>vx</th>\n      <th>vy</th>\n      <th>vz</th>\n      <th>time</th>\n      <th>distance</th>\n    </tr>\n  </thead>\n  <tbody>\n    <tr>\n      <th>1824916</th>\n      <td>0.49</td>\n      <td>0.01</td>\n      <td>0.05</td>\n      <td>301</td>\n      <td>82.0</td>\n    </tr>\n    <tr>\n      <th>1824917</th>\n      <td>0.49</td>\n      <td>0.01</td>\n      <td>0.06</td>\n      <td>301</td>\n      <td>82.0</td>\n    </tr>\n    <tr>\n      <th>1824918</th>\n      <td>0.49</td>\n      <td>0.01</td>\n      <td>0.06</td>\n      <td>301</td>\n      <td>82.0</td>\n    </tr>\n    <tr>\n      <th>1824919</th>\n      <td>0.49</td>\n      <td>0.01</td>\n      <td>0.07</td>\n      <td>301</td>\n      <td>82.0</td>\n    </tr>\n    <tr>\n      <th>1824988</th>\n      <td>0.48</td>\n      <td>0.01</td>\n      <td>0.04</td>\n      <td>301</td>\n      <td>82.0</td>\n    </tr>\n    <tr>\n      <th>...</th>\n      <td>...</td>\n      <td>...</td>\n      <td>...</td>\n      <td>...</td>\n      <td>...</td>\n    </tr>\n    <tr>\n      <th>1874977</th>\n      <td>0.49</td>\n      <td>-0.03</td>\n      <td>0.09</td>\n      <td>301</td>\n      <td>82.0</td>\n    </tr>\n    <tr>\n      <th>1875020</th>\n      <td>0.52</td>\n      <td>-0.02</td>\n      <td>0.01</td>\n      <td>301</td>\n      <td>82.0</td>\n    </tr>\n    <tr>\n      <th>1875086</th>\n      <td>0.52</td>\n      <td>-0.03</td>\n      <td>-0.00</td>\n      <td>301</td>\n      <td>82.0</td>\n    </tr>\n    <tr>\n      <th>1875152</th>\n      <td>0.52</td>\n      <td>-0.03</td>\n      <td>0.00</td>\n      <td>301</td>\n      <td>82.0</td>\n    </tr>\n    <tr>\n      <th>1875163</th>\n      <td>0.47</td>\n      <td>0.00</td>\n      <td>0.05</td>\n      <td>301</td>\n      <td>82.0</td>\n    </tr>\n  </tbody>\n</table>\n<p>581 rows × 5 columns</p>\n</div>"
     },
     "execution_count": 61,
     "metadata": {},
     "output_type": "execute_result"
    }
   ],
   "source": [
    "train_df[(train_df[\"time\"]==301) & (train_df[\"distance\"]==82)]"
   ],
   "metadata": {
    "collapsed": false,
    "ExecuteTime": {
     "start_time": "2023-04-10T19:13:32.667732Z",
     "end_time": "2023-04-10T19:13:32.725151Z"
    }
   }
  },
  {
   "cell_type": "code",
   "execution_count": 66,
   "outputs": [
    {
     "data": {
      "text/plain": "            vx    vy    vz  time  distance\n25697802  0.48  0.01  0.03   303     150.0\n25697803  0.48  0.01  0.03   303     146.0\n25697804  0.47  0.01  0.03   303     143.0\n25697805  0.47  0.01  0.03   303     140.0\n25697806  0.47  0.02  0.03   303     137.0\n...        ...   ...   ...   ...       ...\n25748483  0.47 -0.01  0.06   303     141.0\n25748484  0.46 -0.01  0.06   303     144.0\n25748485  0.46 -0.01  0.06   303     147.0\n25748486  0.46 -0.01  0.05   303     151.0\n25748487  0.46 -0.01  0.05   303     154.0\n\n[50686 rows x 5 columns]",
      "text/html": "<div>\n<style scoped>\n    .dataframe tbody tr th:only-of-type {\n        vertical-align: middle;\n    }\n\n    .dataframe tbody tr th {\n        vertical-align: top;\n    }\n\n    .dataframe thead th {\n        text-align: right;\n    }\n</style>\n<table border=\"1\" class=\"dataframe\">\n  <thead>\n    <tr style=\"text-align: right;\">\n      <th></th>\n      <th>vx</th>\n      <th>vy</th>\n      <th>vz</th>\n      <th>time</th>\n      <th>distance</th>\n    </tr>\n  </thead>\n  <tbody>\n    <tr>\n      <th>25697802</th>\n      <td>0.48</td>\n      <td>0.01</td>\n      <td>0.03</td>\n      <td>303</td>\n      <td>150.0</td>\n    </tr>\n    <tr>\n      <th>25697803</th>\n      <td>0.48</td>\n      <td>0.01</td>\n      <td>0.03</td>\n      <td>303</td>\n      <td>146.0</td>\n    </tr>\n    <tr>\n      <th>25697804</th>\n      <td>0.47</td>\n      <td>0.01</td>\n      <td>0.03</td>\n      <td>303</td>\n      <td>143.0</td>\n    </tr>\n    <tr>\n      <th>25697805</th>\n      <td>0.47</td>\n      <td>0.01</td>\n      <td>0.03</td>\n      <td>303</td>\n      <td>140.0</td>\n    </tr>\n    <tr>\n      <th>25697806</th>\n      <td>0.47</td>\n      <td>0.02</td>\n      <td>0.03</td>\n      <td>303</td>\n      <td>137.0</td>\n    </tr>\n    <tr>\n      <th>...</th>\n      <td>...</td>\n      <td>...</td>\n      <td>...</td>\n      <td>...</td>\n      <td>...</td>\n    </tr>\n    <tr>\n      <th>25748483</th>\n      <td>0.47</td>\n      <td>-0.01</td>\n      <td>0.06</td>\n      <td>303</td>\n      <td>141.0</td>\n    </tr>\n    <tr>\n      <th>25748484</th>\n      <td>0.46</td>\n      <td>-0.01</td>\n      <td>0.06</td>\n      <td>303</td>\n      <td>144.0</td>\n    </tr>\n    <tr>\n      <th>25748485</th>\n      <td>0.46</td>\n      <td>-0.01</td>\n      <td>0.06</td>\n      <td>303</td>\n      <td>147.0</td>\n    </tr>\n    <tr>\n      <th>25748486</th>\n      <td>0.46</td>\n      <td>-0.01</td>\n      <td>0.05</td>\n      <td>303</td>\n      <td>151.0</td>\n    </tr>\n    <tr>\n      <th>25748487</th>\n      <td>0.46</td>\n      <td>-0.01</td>\n      <td>0.05</td>\n      <td>303</td>\n      <td>154.0</td>\n    </tr>\n  </tbody>\n</table>\n<p>50686 rows × 5 columns</p>\n</div>"
     },
     "execution_count": 66,
     "metadata": {},
     "output_type": "execute_result"
    }
   ],
   "source": [
    "test_df"
   ],
   "metadata": {
    "collapsed": false,
    "ExecuteTime": {
     "start_time": "2023-04-10T19:16:48.246672Z",
     "end_time": "2023-04-10T19:16:48.293597Z"
    }
   }
  },
  {
   "cell_type": "code",
   "execution_count": 69,
   "outputs": [
    {
     "data": {
      "text/plain": "      vx    vy    vz  time  distance\n0   0.28 -0.02  0.04   301        82\n1   0.42  0.01  0.04   301        82\n2   0.62 -0.02  0.01   301        82\n3   0.49  0.04  0.04   301        82\n4   0.50  0.01  0.01   301        82\n5   0.23 -0.07  0.04   301        82\n6   0.48  0.06  0.07   301        82\n7   0.48  0.03  0.06   301        82\n8   0.50 -0.04  0.05   301        82\n9   0.49 -0.03  0.02   301        82\n10  0.48  0.03  0.02   301        82\n11  0.47  0.00  0.03   301        82\n12  0.45  0.02  0.03   301        82\n13  0.49  0.04  0.02   301        82\n14  0.47  0.03  0.04   301        82\n15  0.49  0.01  0.01   301        82\n16  0.48  0.03  0.02   301        82\n17  0.41  0.01 -0.01   301        82\n18  0.50  0.01  0.04   301        82\n19  0.48 -0.00  0.07   301        82",
      "text/html": "<div>\n<style scoped>\n    .dataframe tbody tr th:only-of-type {\n        vertical-align: middle;\n    }\n\n    .dataframe tbody tr th {\n        vertical-align: top;\n    }\n\n    .dataframe thead th {\n        text-align: right;\n    }\n</style>\n<table border=\"1\" class=\"dataframe\">\n  <thead>\n    <tr style=\"text-align: right;\">\n      <th></th>\n      <th>vx</th>\n      <th>vy</th>\n      <th>vz</th>\n      <th>time</th>\n      <th>distance</th>\n    </tr>\n  </thead>\n  <tbody>\n    <tr>\n      <th>0</th>\n      <td>0.28</td>\n      <td>-0.02</td>\n      <td>0.04</td>\n      <td>301</td>\n      <td>82</td>\n    </tr>\n    <tr>\n      <th>1</th>\n      <td>0.42</td>\n      <td>0.01</td>\n      <td>0.04</td>\n      <td>301</td>\n      <td>82</td>\n    </tr>\n    <tr>\n      <th>2</th>\n      <td>0.62</td>\n      <td>-0.02</td>\n      <td>0.01</td>\n      <td>301</td>\n      <td>82</td>\n    </tr>\n    <tr>\n      <th>3</th>\n      <td>0.49</td>\n      <td>0.04</td>\n      <td>0.04</td>\n      <td>301</td>\n      <td>82</td>\n    </tr>\n    <tr>\n      <th>4</th>\n      <td>0.50</td>\n      <td>0.01</td>\n      <td>0.01</td>\n      <td>301</td>\n      <td>82</td>\n    </tr>\n    <tr>\n      <th>5</th>\n      <td>0.23</td>\n      <td>-0.07</td>\n      <td>0.04</td>\n      <td>301</td>\n      <td>82</td>\n    </tr>\n    <tr>\n      <th>6</th>\n      <td>0.48</td>\n      <td>0.06</td>\n      <td>0.07</td>\n      <td>301</td>\n      <td>82</td>\n    </tr>\n    <tr>\n      <th>7</th>\n      <td>0.48</td>\n      <td>0.03</td>\n      <td>0.06</td>\n      <td>301</td>\n      <td>82</td>\n    </tr>\n    <tr>\n      <th>8</th>\n      <td>0.50</td>\n      <td>-0.04</td>\n      <td>0.05</td>\n      <td>301</td>\n      <td>82</td>\n    </tr>\n    <tr>\n      <th>9</th>\n      <td>0.49</td>\n      <td>-0.03</td>\n      <td>0.02</td>\n      <td>301</td>\n      <td>82</td>\n    </tr>\n    <tr>\n      <th>10</th>\n      <td>0.48</td>\n      <td>0.03</td>\n      <td>0.02</td>\n      <td>301</td>\n      <td>82</td>\n    </tr>\n    <tr>\n      <th>11</th>\n      <td>0.47</td>\n      <td>0.00</td>\n      <td>0.03</td>\n      <td>301</td>\n      <td>82</td>\n    </tr>\n    <tr>\n      <th>12</th>\n      <td>0.45</td>\n      <td>0.02</td>\n      <td>0.03</td>\n      <td>301</td>\n      <td>82</td>\n    </tr>\n    <tr>\n      <th>13</th>\n      <td>0.49</td>\n      <td>0.04</td>\n      <td>0.02</td>\n      <td>301</td>\n      <td>82</td>\n    </tr>\n    <tr>\n      <th>14</th>\n      <td>0.47</td>\n      <td>0.03</td>\n      <td>0.04</td>\n      <td>301</td>\n      <td>82</td>\n    </tr>\n    <tr>\n      <th>15</th>\n      <td>0.49</td>\n      <td>0.01</td>\n      <td>0.01</td>\n      <td>301</td>\n      <td>82</td>\n    </tr>\n    <tr>\n      <th>16</th>\n      <td>0.48</td>\n      <td>0.03</td>\n      <td>0.02</td>\n      <td>301</td>\n      <td>82</td>\n    </tr>\n    <tr>\n      <th>17</th>\n      <td>0.41</td>\n      <td>0.01</td>\n      <td>-0.01</td>\n      <td>301</td>\n      <td>82</td>\n    </tr>\n    <tr>\n      <th>18</th>\n      <td>0.50</td>\n      <td>0.01</td>\n      <td>0.04</td>\n      <td>301</td>\n      <td>82</td>\n    </tr>\n    <tr>\n      <th>19</th>\n      <td>0.48</td>\n      <td>-0.00</td>\n      <td>0.07</td>\n      <td>301</td>\n      <td>82</td>\n    </tr>\n  </tbody>\n</table>\n</div>"
     },
     "execution_count": 69,
     "metadata": {},
     "output_type": "execute_result"
    }
   ],
   "source": [
    "synthetic_data"
   ],
   "metadata": {
    "collapsed": false,
    "ExecuteTime": {
     "start_time": "2023-04-10T19:24:36.260966Z",
     "end_time": "2023-04-10T19:24:36.286094Z"
    }
   }
  },
  {
   "cell_type": "code",
   "execution_count": 14,
   "outputs": [
    {
     "name": "stderr",
     "output_type": "stream",
     "text": [
      "Sampling conditions: 100%|██████████| 1/1 [00:17<00:00, 17.15s/it]\n",
      "Sampling conditions: 100%|██████████| 1/1 [00:14<00:00, 14.32s/it]\n",
      "Sampling conditions: 100%|██████████| 1/1 [00:02<00:00,  2.44s/it]\n",
      "Sampling conditions: 100%|██████████| 1/1 [00:00<00:00,  1.08it/s]\n",
      "Sampling conditions: 100%|██████████| 1/1 [00:00<00:00,  1.50it/s]\n",
      "Sampling conditions: 100%|██████████| 1/1 [00:01<00:00,  1.06s/it]\n",
      "Sampling conditions: 100%|██████████| 1/1 [00:06<00:00,  6.84s/it]\n",
      "Sampling conditions: 100%|██████████| 1/1 [00:16<00:00, 16.73s/it]\n",
      "Sampling conditions: 100%|██████████| 1/1 [00:05<00:00,  5.30s/it]\n",
      "Sampling conditions: 100%|██████████| 1/1 [00:15<00:00, 15.39s/it]\n",
      "Sampling conditions: 100%|██████████| 1/1 [00:00<00:00,  1.98it/s]\n",
      "Sampling conditions: 100%|██████████| 1/1 [00:03<00:00,  3.27s/it]\n",
      "Sampling conditions: 100%|██████████| 1/1 [00:07<00:00,  7.44s/it]\n",
      "Sampling conditions: 100%|██████████| 1/1 [00:01<00:00,  1.74s/it]\n",
      "Sampling conditions: 100%|██████████| 1/1 [00:01<00:00,  1.20s/it]\n",
      "Sampling conditions: 100%|██████████| 1/1 [00:02<00:00,  2.11s/it]\n",
      "Sampling conditions: 100%|██████████| 1/1 [00:00<00:00,  2.68it/s]\n",
      "Sampling conditions: 100%|██████████| 1/1 [00:15<00:00, 15.15s/it]\n",
      "Sampling conditions: 100%|██████████| 1/1 [00:01<00:00,  1.68s/it]\n",
      "Sampling conditions: 100%|██████████| 1/1 [00:00<00:00,  1.16it/s]\n",
      "Sampling conditions: 100%|██████████| 1/1 [00:00<00:00,  2.12it/s]\n",
      "Sampling conditions: 100%|██████████| 1/1 [00:13<00:00, 13.98s/it]\n",
      "Sampling conditions: 100%|██████████| 1/1 [00:26<00:00, 26.31s/it]\n",
      "Sampling conditions: 100%|██████████| 1/1 [00:07<00:00,  7.65s/it]\n",
      "Sampling conditions: 100%|██████████| 1/1 [00:05<00:00,  5.73s/it]\n",
      "Sampling conditions: 100%|██████████| 1/1 [00:00<00:00,  1.25it/s]\n",
      "Sampling conditions: 100%|██████████| 1/1 [00:02<00:00,  2.05s/it]\n",
      "Sampling conditions: 100%|██████████| 1/1 [00:03<00:00,  3.75s/it]\n",
      "Sampling conditions: 100%|██████████| 1/1 [00:03<00:00,  3.78s/it]\n",
      "Sampling conditions: 100%|██████████| 1/1 [00:00<00:00,  6.26it/s]\n",
      "Sampling conditions: 100%|██████████| 1/1 [00:07<00:00,  7.69s/it]\n",
      "Sampling conditions: 100%|██████████| 1/1 [00:10<00:00, 10.41s/it]\n",
      "Sampling conditions: 100%|██████████| 1/1 [00:15<00:00, 15.19s/it]\n",
      "Sampling conditions: 100%|██████████| 1/1 [00:13<00:00, 13.79s/it]\n",
      "Sampling conditions: 100%|██████████| 1/1 [00:02<00:00,  2.53s/it]\n",
      "Sampling conditions: 100%|██████████| 1/1 [00:03<00:00,  3.93s/it]\n",
      "Sampling conditions: 100%|██████████| 1/1 [00:02<00:00,  2.25s/it]\n",
      "Sampling conditions: 100%|██████████| 1/1 [00:38<00:00, 38.29s/it]\n",
      "Sampling conditions: 100%|██████████| 1/1 [00:14<00:00, 14.22s/it]\n",
      "Sampling conditions: 100%|██████████| 1/1 [00:04<00:00,  4.20s/it]\n",
      "Sampling conditions: 100%|██████████| 1/1 [00:03<00:00,  3.23s/it]\n",
      "Sampling conditions: 100%|██████████| 1/1 [00:15<00:00, 15.43s/it]\n",
      "Sampling conditions: 100%|██████████| 1/1 [00:00<00:00,  1.14it/s]\n",
      "Sampling conditions: 100%|██████████| 1/1 [00:06<00:00,  6.96s/it]\n",
      "Sampling conditions: 100%|██████████| 1/1 [00:00<00:00,  1.69it/s]\n",
      "Sampling conditions: 100%|██████████| 1/1 [00:01<00:00,  1.72s/it]\n",
      "Sampling conditions: 100%|██████████| 1/1 [00:01<00:00,  1.95s/it]\n",
      "Sampling conditions: 100%|██████████| 1/1 [00:06<00:00,  6.01s/it]\n",
      "Sampling conditions: 100%|██████████| 1/1 [00:01<00:00,  1.59s/it]\n",
      "Sampling conditions: 100%|██████████| 1/1 [00:06<00:00,  6.14s/it]\n",
      "Sampling conditions: 100%|██████████| 1/1 [00:02<00:00,  2.53s/it]\n",
      "Sampling conditions: 100%|██████████| 1/1 [00:01<00:00,  1.61s/it]\n",
      "Sampling conditions: 100%|██████████| 1/1 [00:02<00:00,  2.40s/it]\n",
      "Sampling conditions: 100%|██████████| 1/1 [00:16<00:00, 16.21s/it]\n",
      "Sampling conditions: 100%|██████████| 1/1 [00:01<00:00,  1.33s/it]\n",
      "Sampling conditions: 100%|██████████| 1/1 [00:23<00:00, 23.53s/it]\n",
      "Sampling conditions: 100%|██████████| 1/1 [00:01<00:00,  1.78s/it]\n",
      "Sampling conditions: 100%|██████████| 1/1 [00:08<00:00,  8.96s/it]\n",
      "Sampling conditions: 100%|██████████| 1/1 [00:20<00:00, 20.10s/it]\n",
      "Sampling conditions: 100%|██████████| 1/1 [00:28<00:00, 28.04s/it]\n",
      "Sampling conditions:   0%|          | 0/1 [01:09<?, ?it/s]\n"
     ]
    },
    {
     "ename": "ValueError",
     "evalue": "Unable to sample any rows for the given conditions. Try increasing `max_tries_per_batch` (currently: 2000). Note that increasing this value will also increase the sampling time.",
     "output_type": "error",
     "traceback": [
      "\u001B[0;31m---------------------------------------------------------------------------\u001B[0m",
      "\u001B[0;31mValueError\u001B[0m                                Traceback (most recent call last)",
      "Cell \u001B[0;32mIn[14], line 8\u001B[0m\n\u001B[1;32m      4\u001B[0m idx \u001B[38;5;241m=\u001B[39m i\u001B[38;5;241m+\u001B[39m\u001B[38;5;241m25697802\u001B[39m\n\u001B[1;32m      5\u001B[0m generate_test_data \u001B[38;5;241m=\u001B[39m Condition(\n\u001B[1;32m      6\u001B[0m num_rows\u001B[38;5;241m=\u001B[39m\u001B[38;5;241m1\u001B[39m,\n\u001B[1;32m      7\u001B[0m column_values\u001B[38;5;241m=\u001B[39m{\u001B[38;5;124m'\u001B[39m\u001B[38;5;124mtime\u001B[39m\u001B[38;5;124m'\u001B[39m: \u001B[38;5;241m301\u001B[39m, \u001B[38;5;124m'\u001B[39m\u001B[38;5;124mdistance\u001B[39m\u001B[38;5;124m'\u001B[39m: test_df\u001B[38;5;241m.\u001B[39mloc[idx][\u001B[38;5;124m\"\u001B[39m\u001B[38;5;124mdistance\u001B[39m\u001B[38;5;124m\"\u001B[39m]})\n\u001B[0;32m----> 8\u001B[0m synthetic_data \u001B[38;5;241m=\u001B[39m \u001B[43msynthesizer_saved\u001B[49m\u001B[38;5;241;43m.\u001B[39;49m\u001B[43msample_from_conditions\u001B[49m\u001B[43m(\u001B[49m\n\u001B[1;32m      9\u001B[0m \u001B[43m\u001B[49m\u001B[43mconditions\u001B[49m\u001B[38;5;241;43m=\u001B[39;49m\u001B[43m[\u001B[49m\u001B[43mgenerate_test_data\u001B[49m\u001B[43m]\u001B[49m\u001B[43m,\u001B[49m\u001B[43m \u001B[49m\u001B[43mmax_tries_per_batch\u001B[49m\u001B[38;5;241;43m=\u001B[39;49m\u001B[38;5;241;43m2000\u001B[39;49m\u001B[43m)\u001B[49m\n\u001B[1;32m     10\u001B[0m synthetic_data[\u001B[38;5;124m\"\u001B[39m\u001B[38;5;124mx\u001B[39m\u001B[38;5;124m\"\u001B[39m] \u001B[38;5;241m=\u001B[39m df\u001B[38;5;241m.\u001B[39mloc[idx][\u001B[38;5;124m\"\u001B[39m\u001B[38;5;124mx\u001B[39m\u001B[38;5;124m\"\u001B[39m]\n\u001B[1;32m     11\u001B[0m synthetic_data[\u001B[38;5;124m\"\u001B[39m\u001B[38;5;124my\u001B[39m\u001B[38;5;124m\"\u001B[39m] \u001B[38;5;241m=\u001B[39m df\u001B[38;5;241m.\u001B[39mloc[idx][\u001B[38;5;124m\"\u001B[39m\u001B[38;5;124my\u001B[39m\u001B[38;5;124m\"\u001B[39m]\n",
      "File \u001B[0;32m~/miniconda3/envs/sdv-gan/lib/python3.8/site-packages/sdv/single_table/base.py:1026\u001B[0m, in \u001B[0;36mBaseSingleTableSynthesizer.sample_from_conditions\u001B[0;34m(self, conditions, max_tries_per_batch, batch_size, output_file_path)\u001B[0m\n\u001B[1;32m    997\u001B[0m \u001B[38;5;28;01mdef\u001B[39;00m \u001B[38;5;21msample_from_conditions\u001B[39m(\u001B[38;5;28mself\u001B[39m, conditions, max_tries_per_batch\u001B[38;5;241m=\u001B[39m\u001B[38;5;241m100\u001B[39m,\n\u001B[1;32m    998\u001B[0m                            batch_size\u001B[38;5;241m=\u001B[39m\u001B[38;5;28;01mNone\u001B[39;00m, output_file_path\u001B[38;5;241m=\u001B[39m\u001B[38;5;28;01mNone\u001B[39;00m):\n\u001B[1;32m    999\u001B[0m     \u001B[38;5;124;03m\"\"\"Sample rows from this table with the given conditions.\u001B[39;00m\n\u001B[1;32m   1000\u001B[0m \n\u001B[1;32m   1001\u001B[0m \u001B[38;5;124;03m    Args:\u001B[39;00m\n\u001B[0;32m   (...)\u001B[0m\n\u001B[1;32m   1024\u001B[0m \u001B[38;5;124;03m                * no rows could be generated.\u001B[39;00m\n\u001B[1;32m   1025\u001B[0m \u001B[38;5;124;03m    \"\"\"\u001B[39;00m\n\u001B[0;32m-> 1026\u001B[0m     \u001B[38;5;28;01mreturn\u001B[39;00m \u001B[38;5;28;43mself\u001B[39;49m\u001B[38;5;241;43m.\u001B[39;49m\u001B[43m_sample_from_conditions\u001B[49m\u001B[43m(\u001B[49m\n\u001B[1;32m   1027\u001B[0m \u001B[43m        \u001B[49m\u001B[43mconditions\u001B[49m\u001B[43m,\u001B[49m\u001B[43m \u001B[49m\u001B[43mmax_tries_per_batch\u001B[49m\u001B[43m,\u001B[49m\u001B[43m \u001B[49m\u001B[43mbatch_size\u001B[49m\u001B[43m,\u001B[49m\u001B[43m \u001B[49m\u001B[43moutput_file_path\u001B[49m\u001B[43m)\u001B[49m\n",
      "File \u001B[0;32m~/miniconda3/envs/sdv-gan/lib/python3.8/site-packages/sdv/single_table/base.py:989\u001B[0m, in \u001B[0;36mBaseSingleTableSynthesizer._sample_from_conditions\u001B[0;34m(self, conditions, max_tries_per_batch, batch_size, output_file_path)\u001B[0m\n\u001B[1;32m    981\u001B[0m     check_num_rows(\n\u001B[1;32m    982\u001B[0m         num_rows\u001B[38;5;241m=\u001B[39m\u001B[38;5;28mlen\u001B[39m(sampled),\n\u001B[1;32m    983\u001B[0m         expected_num_rows\u001B[38;5;241m=\u001B[39mnum_rows,\n\u001B[1;32m    984\u001B[0m         is_reject_sampling\u001B[38;5;241m=\u001B[39mis_reject_sampling,\n\u001B[1;32m    985\u001B[0m         max_tries_per_batch\u001B[38;5;241m=\u001B[39mmax_tries_per_batch\n\u001B[1;32m    986\u001B[0m     )\n\u001B[1;32m    988\u001B[0m \u001B[38;5;28;01mexcept\u001B[39;00m (\u001B[38;5;167;01mException\u001B[39;00m, \u001B[38;5;167;01mKeyboardInterrupt\u001B[39;00m) \u001B[38;5;28;01mas\u001B[39;00m error:\n\u001B[0;32m--> 989\u001B[0m     \u001B[43mhandle_sampling_error\u001B[49m\u001B[43m(\u001B[49m\u001B[43moutput_file_path\u001B[49m\u001B[43m \u001B[49m\u001B[38;5;241;43m==\u001B[39;49m\u001B[43m \u001B[49m\u001B[43mTMP_FILE_NAME\u001B[49m\u001B[43m,\u001B[49m\u001B[43m \u001B[49m\u001B[43moutput_file_path\u001B[49m\u001B[43m,\u001B[49m\u001B[43m \u001B[49m\u001B[43merror\u001B[49m\u001B[43m)\u001B[49m\n\u001B[1;32m    991\u001B[0m \u001B[38;5;28;01melse\u001B[39;00m:\n\u001B[1;32m    992\u001B[0m     \u001B[38;5;28;01mif\u001B[39;00m output_file_path \u001B[38;5;241m==\u001B[39m TMP_FILE_NAME \u001B[38;5;129;01mand\u001B[39;00m os\u001B[38;5;241m.\u001B[39mpath\u001B[38;5;241m.\u001B[39mexists(output_file_path):\n",
      "File \u001B[0;32m~/miniconda3/envs/sdv-gan/lib/python3.8/site-packages/sdv/single_table/utils.py:67\u001B[0m, in \u001B[0;36mhandle_sampling_error\u001B[0;34m(is_tmp_file, output_file_path, sampling_error)\u001B[0m\n\u001B[1;32m     53\u001B[0m \u001B[38;5;124;03m\"\"\"Handle sampling errors by printing a user-legible error and then raising.\u001B[39;00m\n\u001B[1;32m     54\u001B[0m \n\u001B[1;32m     55\u001B[0m \u001B[38;5;124;03mArgs:\u001B[39;00m\n\u001B[0;32m   (...)\u001B[0m\n\u001B[1;32m     64\u001B[0m \u001B[38;5;124;03m    The error will be raised.\u001B[39;00m\n\u001B[1;32m     65\u001B[0m \u001B[38;5;124;03m\"\"\"\u001B[39;00m\n\u001B[1;32m     66\u001B[0m \u001B[38;5;28;01mif\u001B[39;00m \u001B[38;5;124m'\u001B[39m\u001B[38;5;124mUnable to sample any rows for the given conditions\u001B[39m\u001B[38;5;124m'\u001B[39m \u001B[38;5;129;01min\u001B[39;00m \u001B[38;5;28mstr\u001B[39m(sampling_error):\n\u001B[0;32m---> 67\u001B[0m     \u001B[38;5;28;01mraise\u001B[39;00m sampling_error\n\u001B[1;32m     69\u001B[0m error_msg \u001B[38;5;241m=\u001B[39m \u001B[38;5;28;01mNone\u001B[39;00m\n\u001B[1;32m     70\u001B[0m \u001B[38;5;28;01mif\u001B[39;00m is_tmp_file:\n",
      "File \u001B[0;32m~/miniconda3/envs/sdv-gan/lib/python3.8/site-packages/sdv/single_table/base.py:981\u001B[0m, in \u001B[0;36mBaseSingleTableSynthesizer._sample_from_conditions\u001B[0;34m(self, conditions, max_tries_per_batch, batch_size, output_file_path)\u001B[0m\n\u001B[1;32m    977\u001B[0m             sampled \u001B[38;5;241m=\u001B[39m pd\u001B[38;5;241m.\u001B[39mconcat([sampled, sampled_for_condition], ignore_index\u001B[38;5;241m=\u001B[39m\u001B[38;5;28;01mTrue\u001B[39;00m)\n\u001B[1;32m    979\u001B[0m     is_reject_sampling \u001B[38;5;241m=\u001B[39m \u001B[38;5;28mbool\u001B[39m(\n\u001B[1;32m    980\u001B[0m         \u001B[38;5;28mhasattr\u001B[39m(\u001B[38;5;28mself\u001B[39m, \u001B[38;5;124m'\u001B[39m\u001B[38;5;124m_model\u001B[39m\u001B[38;5;124m'\u001B[39m) \u001B[38;5;129;01mand\u001B[39;00m \u001B[38;5;129;01mnot\u001B[39;00m \u001B[38;5;28misinstance\u001B[39m(\u001B[38;5;28mself\u001B[39m\u001B[38;5;241m.\u001B[39m_model, GaussianMultivariate))\n\u001B[0;32m--> 981\u001B[0m     \u001B[43mcheck_num_rows\u001B[49m\u001B[43m(\u001B[49m\n\u001B[1;32m    982\u001B[0m \u001B[43m        \u001B[49m\u001B[43mnum_rows\u001B[49m\u001B[38;5;241;43m=\u001B[39;49m\u001B[38;5;28;43mlen\u001B[39;49m\u001B[43m(\u001B[49m\u001B[43msampled\u001B[49m\u001B[43m)\u001B[49m\u001B[43m,\u001B[49m\n\u001B[1;32m    983\u001B[0m \u001B[43m        \u001B[49m\u001B[43mexpected_num_rows\u001B[49m\u001B[38;5;241;43m=\u001B[39;49m\u001B[43mnum_rows\u001B[49m\u001B[43m,\u001B[49m\n\u001B[1;32m    984\u001B[0m \u001B[43m        \u001B[49m\u001B[43mis_reject_sampling\u001B[49m\u001B[38;5;241;43m=\u001B[39;49m\u001B[43mis_reject_sampling\u001B[49m\u001B[43m,\u001B[49m\n\u001B[1;32m    985\u001B[0m \u001B[43m        \u001B[49m\u001B[43mmax_tries_per_batch\u001B[49m\u001B[38;5;241;43m=\u001B[39;49m\u001B[43mmax_tries_per_batch\u001B[49m\n\u001B[1;32m    986\u001B[0m \u001B[43m    \u001B[49m\u001B[43m)\u001B[49m\n\u001B[1;32m    988\u001B[0m \u001B[38;5;28;01mexcept\u001B[39;00m (\u001B[38;5;167;01mException\u001B[39;00m, \u001B[38;5;167;01mKeyboardInterrupt\u001B[39;00m) \u001B[38;5;28;01mas\u001B[39;00m error:\n\u001B[1;32m    989\u001B[0m     handle_sampling_error(output_file_path \u001B[38;5;241m==\u001B[39m TMP_FILE_NAME, output_file_path, error)\n",
      "File \u001B[0;32m~/miniconda3/envs/sdv-gan/lib/python3.8/site-packages/sdv/single_table/utils.py:120\u001B[0m, in \u001B[0;36mcheck_num_rows\u001B[0;34m(num_rows, expected_num_rows, is_reject_sampling, max_tries_per_batch)\u001B[0m\n\u001B[1;32m    115\u001B[0m     \u001B[38;5;28;01melse\u001B[39;00m:\n\u001B[1;32m    116\u001B[0m         user_msg \u001B[38;5;241m=\u001B[39m user_msg \u001B[38;5;241m+\u001B[39m (\n\u001B[1;32m    117\u001B[0m             \u001B[38;5;124m'\u001B[39m\u001B[38;5;124mThis may be because the provided values are out-of-bounds in the \u001B[39m\u001B[38;5;124m'\u001B[39m\n\u001B[1;32m    118\u001B[0m             \u001B[38;5;124m'\u001B[39m\u001B[38;5;124mcurrent model. \u001B[39m\u001B[38;5;130;01m\\n\u001B[39;00m\u001B[38;5;124mPlease try again with a different set of values.\u001B[39m\u001B[38;5;124m'\u001B[39m\n\u001B[1;32m    119\u001B[0m         )\n\u001B[0;32m--> 120\u001B[0m     \u001B[38;5;28;01mraise\u001B[39;00m \u001B[38;5;167;01mValueError\u001B[39;00m(user_msg)\n\u001B[1;32m    122\u001B[0m \u001B[38;5;28;01melse\u001B[39;00m:\n\u001B[1;32m    123\u001B[0m     \u001B[38;5;66;03m# This case should only happen with reject sampling.\u001B[39;00m\n\u001B[1;32m    124\u001B[0m     user_msg \u001B[38;5;241m=\u001B[39m (\n\u001B[1;32m    125\u001B[0m         \u001B[38;5;124mf\u001B[39m\u001B[38;5;124m'\u001B[39m\u001B[38;5;124mOnly able to sample \u001B[39m\u001B[38;5;132;01m{\u001B[39;00mnum_rows\u001B[38;5;132;01m}\u001B[39;00m\u001B[38;5;124m rows for the given conditions. \u001B[39m\u001B[38;5;124m'\u001B[39m\n\u001B[1;32m    126\u001B[0m         \u001B[38;5;124m'\u001B[39m\u001B[38;5;124mTo sample more rows, try increasing `max_tries_per_batch` \u001B[39m\u001B[38;5;124m'\u001B[39m\n\u001B[1;32m    127\u001B[0m         \u001B[38;5;124mf\u001B[39m\u001B[38;5;124m'\u001B[39m\u001B[38;5;124m(currently: \u001B[39m\u001B[38;5;132;01m{\u001B[39;00mmax_tries_per_batch\u001B[38;5;132;01m}\u001B[39;00m\u001B[38;5;124m). Note that increasing this value \u001B[39m\u001B[38;5;124m'\u001B[39m\n\u001B[1;32m    128\u001B[0m         \u001B[38;5;124m'\u001B[39m\u001B[38;5;124mwill also increase the sampling time.\u001B[39m\u001B[38;5;124m'\u001B[39m\n\u001B[1;32m    129\u001B[0m     )\n",
      "\u001B[0;31mValueError\u001B[0m: Unable to sample any rows for the given conditions. Try increasing `max_tries_per_batch` (currently: 2000). Note that increasing this value will also increase the sampling time."
     ]
    }
   ],
   "source": [
    "data = []\n",
    "# try:\n",
    "for i in range(100):\n",
    "    idx = i+25697802\n",
    "    generate_test_data = Condition(\n",
    "    num_rows=1,\n",
    "    column_values={'time': 301, 'distance': test_df.loc[idx][\"distance\"]})\n",
    "    synthetic_data = synthesizer_saved.sample_from_conditions(\n",
    "    conditions=[generate_test_data], max_tries_per_batch=2000)\n",
    "    synthetic_data[\"x\"] = df.loc[idx][\"x\"]\n",
    "    synthetic_data[\"y\"] = df.loc[idx][\"y\"]\n",
    "    synthetic_data[\"z\"] = df.loc[idx][\"z\"]\n",
    "    synthetic_data[\"id\"] = idx\n",
    "    data.append(synthetic_data)\n",
    "\n",
    "\n",
    "\n",
    "# except:\n",
    "#     # print(data)\n",
    "#     pass\n",
    "\n",
    "print(\"last id\", idx)\n",
    "df_result = pd.concat(data, ignore_index=True)\n",
    "df_result.columns=[\"vx\",\"vy\",\"vz\",\"time\",\"distance\",\"x\",\"y\",\"z\",\"id\"]\n",
    "df_result.to_csv(f\"result/total.csv\")\n"
   ],
   "metadata": {
    "collapsed": false,
    "ExecuteTime": {
     "start_time": "2023-04-10T19:56:50.935572Z",
     "end_time": "2023-04-10T19:57:18.081530Z"
    }
   }
  },
  {
   "cell_type": "code",
   "execution_count": 22,
   "outputs": [],
   "source": [
    "df_result = pd.concat(data, ignore_index=True)\n",
    "df_result.columns=[\"vx\",\"vy\",\"vz\",\"time\",\"distance\",\"x\",\"y\",\"z\",\"id\"]\n",
    "df_result.to_csv(f\"result/total.csv\", index=False)"
   ],
   "metadata": {
    "collapsed": false,
    "ExecuteTime": {
     "start_time": "2023-04-10T22:39:23.304159Z",
     "end_time": "2023-04-10T22:39:23.360788Z"
    }
   }
  },
  {
   "cell_type": "code",
   "execution_count": 20,
   "outputs": [],
   "source": [
    "orig_data = df.loc[25697802:25697861]"
   ],
   "metadata": {
    "collapsed": false,
    "ExecuteTime": {
     "start_time": "2023-04-10T22:35:03.234277Z",
     "end_time": "2023-04-10T22:35:03.306657Z"
    }
   }
  },
  {
   "cell_type": "code",
   "execution_count": 23,
   "outputs": [],
   "source": [
    "orig_data.to_csv(f\"result/total-orig.csv\", index=False)"
   ],
   "metadata": {
    "collapsed": false,
    "ExecuteTime": {
     "start_time": "2023-04-10T22:39:42.359778Z",
     "end_time": "2023-04-10T22:39:42.377553Z"
    }
   }
  },
  {
   "cell_type": "code",
   "execution_count": 24,
   "outputs": [],
   "source": [
    "data1 = df_result.drop([\"x\",\"y\",\"z\",\"id\",\"time\",\"distance\"], axis=1)\n",
    "data2 = orig_data.drop([\"x\",\"y\",\"z\",\"px\",\"py\",\"pz\",\"time\",\"distance\"], axis=1)"
   ],
   "metadata": {
    "collapsed": false,
    "ExecuteTime": {
     "start_time": "2023-04-10T22:40:30.641161Z",
     "end_time": "2023-04-10T22:40:30.710232Z"
    }
   }
  },
  {
   "cell_type": "code",
   "execution_count": 25,
   "outputs": [
    {
     "data": {
      "text/plain": "((60, 3), (60, 3))"
     },
     "execution_count": 25,
     "metadata": {},
     "output_type": "execute_result"
    }
   ],
   "source": [
    "data1.shape, data2.shape"
   ],
   "metadata": {
    "collapsed": false,
    "ExecuteTime": {
     "start_time": "2023-04-10T22:40:40.362806Z",
     "end_time": "2023-04-10T22:40:40.384961Z"
    }
   }
  },
  {
   "cell_type": "code",
   "execution_count": 31,
   "outputs": [],
   "source": [
    "metadata.detect_from_dataframe(data=data2)\n",
    "python_dict = metadata.to_dict()"
   ],
   "metadata": {
    "collapsed": false,
    "ExecuteTime": {
     "start_time": "2023-04-10T22:44:51.859391Z",
     "end_time": "2023-04-10T22:44:51.939643Z"
    }
   }
  },
  {
   "cell_type": "code",
   "execution_count": 29,
   "outputs": [],
   "source": [
    "from sdmetrics.reports import utils"
   ],
   "metadata": {
    "collapsed": false,
    "ExecuteTime": {
     "start_time": "2023-04-10T22:43:53.535031Z",
     "end_time": "2023-04-10T22:43:53.754540Z"
    }
   }
  },
  {
   "cell_type": "code",
   "execution_count": 37,
   "outputs": [
    {
     "data": {
      "application/vnd.plotly.v1+json": {
       "data": [
        {
         "hovertemplate": "Data=Real<br>vx=%{x}<br>vy=%{y}<extra></extra>",
         "legendgroup": "Real",
         "marker": {
          "color": "#000036",
          "symbol": "circle"
         },
         "mode": "markers",
         "name": "Real",
         "orientation": "v",
         "showlegend": true,
         "x": [
          0.48,
          0.48,
          0.47,
          0.47,
          0.47,
          0.47,
          0.47,
          0.46,
          0.46,
          0.46,
          0.46,
          0.47,
          0.47,
          0.48,
          0.48,
          0.48,
          0.48,
          0.48,
          0.48,
          0.48,
          0.48,
          0.48,
          0.48,
          0.48,
          0.48,
          0.47,
          0.47,
          0.47,
          0.47,
          0.48,
          0.48,
          0.48,
          0.48,
          0.48,
          0.49,
          0.49,
          0.49,
          0.49,
          0.48,
          0.48,
          0.48,
          0.48,
          0.49,
          0.49,
          0.49,
          0.49,
          0.49,
          0.49,
          0.5,
          0.5,
          0.5,
          0.5,
          0.49,
          0.49,
          0.49,
          0.49,
          0.48,
          0.48,
          0.48,
          0.47
         ],
         "xaxis": "x",
         "y": [
          0.01,
          0.01,
          0.01,
          0.01,
          0.02,
          0.02,
          0.02,
          0.02,
          0.03,
          0.03,
          0.04,
          0.04,
          0.04,
          0.04,
          0.03,
          0.03,
          0.03,
          0.03,
          0.03,
          0.03,
          0.03,
          0.03,
          0.03,
          0.03,
          0.04,
          0.04,
          0.04,
          0.03,
          0.03,
          0.03,
          0.03,
          0.02,
          0.02,
          0.02,
          0.02,
          0.02,
          0.02,
          0.02,
          0.01,
          0.01,
          0.01,
          0.01,
          0.01,
          0.01,
          0.02,
          0.02,
          0.02,
          0.02,
          0.02,
          0.02,
          0.02,
          0.02,
          0.02,
          0.02,
          0.01,
          0.01,
          0.01,
          0.01,
          0.0,
          0.0
         ],
         "yaxis": "y",
         "type": "scatter"
        },
        {
         "hovertemplate": "Data=Synthetic<br>vx=%{x}<br>vy=%{y}<extra></extra>",
         "legendgroup": "Synthetic",
         "marker": {
          "color": "#01E0C9",
          "symbol": "diamond"
         },
         "mode": "markers",
         "name": "Synthetic",
         "orientation": "v",
         "showlegend": true,
         "x": [
          0.47,
          0.49,
          0.47,
          0.49,
          0.5,
          0.45,
          0.5,
          0.45,
          0.34,
          0.51,
          0.47,
          0.46,
          0.47,
          0.48,
          0.5,
          0.45,
          0.49,
          0.49,
          0.46,
          0.5,
          0.49,
          0.46,
          0.42,
          0.48,
          0.51,
          0.52,
          0.49,
          0.61,
          0.21,
          0.43,
          0.52,
          0.48,
          0.47,
          0.4,
          -0.03,
          0.46,
          0.5,
          0.48,
          0.51,
          0.5,
          0.49,
          0.46,
          0.53,
          0.52,
          0.46,
          0.43,
          0.48,
          0.49,
          0.49,
          0.49,
          0.46,
          0.5,
          0.47,
          0.48,
          0.5,
          0.44,
          0.42,
          0.48,
          0.49,
          0.49
         ],
         "xaxis": "x",
         "y": [
          0.01,
          0.04,
          0.02,
          -0.04,
          0.02,
          -0.05,
          0.0,
          -0.0,
          0.19,
          0.05,
          -0.01,
          -0.08,
          -0.06,
          -0.08,
          0.03,
          0.01,
          -0.03,
          -0.03,
          -0.01,
          -0.11,
          -0.02,
          0.03,
          -0.01,
          -0.01,
          -0.05,
          0.03,
          -0.0,
          -0.08,
          -0.05,
          -0.01,
          -0.02,
          -0.03,
          0.04,
          0.03,
          0.04,
          0.0,
          0.03,
          0.15,
          -0.05,
          -0.02,
          -0.02,
          -0.0,
          0.04,
          -0.05,
          0.02,
          -0.04,
          0.08,
          -0.01,
          0.01,
          -0.09,
          0.02,
          0.04,
          0.04,
          -0.09,
          -0.03,
          -0.01,
          -0.01,
          -0.09,
          -0.02,
          0.02
         ],
         "yaxis": "y",
         "type": "scatter"
        }
       ],
       "layout": {
        "template": {
         "data": {
          "histogram2dcontour": [
           {
            "type": "histogram2dcontour",
            "colorbar": {
             "outlinewidth": 0,
             "ticks": ""
            },
            "colorscale": [
             [
              0.0,
              "#0d0887"
             ],
             [
              0.1111111111111111,
              "#46039f"
             ],
             [
              0.2222222222222222,
              "#7201a8"
             ],
             [
              0.3333333333333333,
              "#9c179e"
             ],
             [
              0.4444444444444444,
              "#bd3786"
             ],
             [
              0.5555555555555556,
              "#d8576b"
             ],
             [
              0.6666666666666666,
              "#ed7953"
             ],
             [
              0.7777777777777778,
              "#fb9f3a"
             ],
             [
              0.8888888888888888,
              "#fdca26"
             ],
             [
              1.0,
              "#f0f921"
             ]
            ]
           }
          ],
          "choropleth": [
           {
            "type": "choropleth",
            "colorbar": {
             "outlinewidth": 0,
             "ticks": ""
            }
           }
          ],
          "histogram2d": [
           {
            "type": "histogram2d",
            "colorbar": {
             "outlinewidth": 0,
             "ticks": ""
            },
            "colorscale": [
             [
              0.0,
              "#0d0887"
             ],
             [
              0.1111111111111111,
              "#46039f"
             ],
             [
              0.2222222222222222,
              "#7201a8"
             ],
             [
              0.3333333333333333,
              "#9c179e"
             ],
             [
              0.4444444444444444,
              "#bd3786"
             ],
             [
              0.5555555555555556,
              "#d8576b"
             ],
             [
              0.6666666666666666,
              "#ed7953"
             ],
             [
              0.7777777777777778,
              "#fb9f3a"
             ],
             [
              0.8888888888888888,
              "#fdca26"
             ],
             [
              1.0,
              "#f0f921"
             ]
            ]
           }
          ],
          "heatmap": [
           {
            "type": "heatmap",
            "colorbar": {
             "outlinewidth": 0,
             "ticks": ""
            },
            "colorscale": [
             [
              0.0,
              "#0d0887"
             ],
             [
              0.1111111111111111,
              "#46039f"
             ],
             [
              0.2222222222222222,
              "#7201a8"
             ],
             [
              0.3333333333333333,
              "#9c179e"
             ],
             [
              0.4444444444444444,
              "#bd3786"
             ],
             [
              0.5555555555555556,
              "#d8576b"
             ],
             [
              0.6666666666666666,
              "#ed7953"
             ],
             [
              0.7777777777777778,
              "#fb9f3a"
             ],
             [
              0.8888888888888888,
              "#fdca26"
             ],
             [
              1.0,
              "#f0f921"
             ]
            ]
           }
          ],
          "heatmapgl": [
           {
            "type": "heatmapgl",
            "colorbar": {
             "outlinewidth": 0,
             "ticks": ""
            },
            "colorscale": [
             [
              0.0,
              "#0d0887"
             ],
             [
              0.1111111111111111,
              "#46039f"
             ],
             [
              0.2222222222222222,
              "#7201a8"
             ],
             [
              0.3333333333333333,
              "#9c179e"
             ],
             [
              0.4444444444444444,
              "#bd3786"
             ],
             [
              0.5555555555555556,
              "#d8576b"
             ],
             [
              0.6666666666666666,
              "#ed7953"
             ],
             [
              0.7777777777777778,
              "#fb9f3a"
             ],
             [
              0.8888888888888888,
              "#fdca26"
             ],
             [
              1.0,
              "#f0f921"
             ]
            ]
           }
          ],
          "contourcarpet": [
           {
            "type": "contourcarpet",
            "colorbar": {
             "outlinewidth": 0,
             "ticks": ""
            }
           }
          ],
          "contour": [
           {
            "type": "contour",
            "colorbar": {
             "outlinewidth": 0,
             "ticks": ""
            },
            "colorscale": [
             [
              0.0,
              "#0d0887"
             ],
             [
              0.1111111111111111,
              "#46039f"
             ],
             [
              0.2222222222222222,
              "#7201a8"
             ],
             [
              0.3333333333333333,
              "#9c179e"
             ],
             [
              0.4444444444444444,
              "#bd3786"
             ],
             [
              0.5555555555555556,
              "#d8576b"
             ],
             [
              0.6666666666666666,
              "#ed7953"
             ],
             [
              0.7777777777777778,
              "#fb9f3a"
             ],
             [
              0.8888888888888888,
              "#fdca26"
             ],
             [
              1.0,
              "#f0f921"
             ]
            ]
           }
          ],
          "surface": [
           {
            "type": "surface",
            "colorbar": {
             "outlinewidth": 0,
             "ticks": ""
            },
            "colorscale": [
             [
              0.0,
              "#0d0887"
             ],
             [
              0.1111111111111111,
              "#46039f"
             ],
             [
              0.2222222222222222,
              "#7201a8"
             ],
             [
              0.3333333333333333,
              "#9c179e"
             ],
             [
              0.4444444444444444,
              "#bd3786"
             ],
             [
              0.5555555555555556,
              "#d8576b"
             ],
             [
              0.6666666666666666,
              "#ed7953"
             ],
             [
              0.7777777777777778,
              "#fb9f3a"
             ],
             [
              0.8888888888888888,
              "#fdca26"
             ],
             [
              1.0,
              "#f0f921"
             ]
            ]
           }
          ],
          "mesh3d": [
           {
            "type": "mesh3d",
            "colorbar": {
             "outlinewidth": 0,
             "ticks": ""
            }
           }
          ],
          "scatter": [
           {
            "fillpattern": {
             "fillmode": "overlay",
             "size": 10,
             "solidity": 0.2
            },
            "type": "scatter"
           }
          ],
          "parcoords": [
           {
            "type": "parcoords",
            "line": {
             "colorbar": {
              "outlinewidth": 0,
              "ticks": ""
             }
            }
           }
          ],
          "scatterpolargl": [
           {
            "type": "scatterpolargl",
            "marker": {
             "colorbar": {
              "outlinewidth": 0,
              "ticks": ""
             }
            }
           }
          ],
          "bar": [
           {
            "error_x": {
             "color": "#2a3f5f"
            },
            "error_y": {
             "color": "#2a3f5f"
            },
            "marker": {
             "line": {
              "color": "#E5ECF6",
              "width": 0.5
             },
             "pattern": {
              "fillmode": "overlay",
              "size": 10,
              "solidity": 0.2
             }
            },
            "type": "bar"
           }
          ],
          "scattergeo": [
           {
            "type": "scattergeo",
            "marker": {
             "colorbar": {
              "outlinewidth": 0,
              "ticks": ""
             }
            }
           }
          ],
          "scatterpolar": [
           {
            "type": "scatterpolar",
            "marker": {
             "colorbar": {
              "outlinewidth": 0,
              "ticks": ""
             }
            }
           }
          ],
          "histogram": [
           {
            "marker": {
             "pattern": {
              "fillmode": "overlay",
              "size": 10,
              "solidity": 0.2
             }
            },
            "type": "histogram"
           }
          ],
          "scattergl": [
           {
            "type": "scattergl",
            "marker": {
             "colorbar": {
              "outlinewidth": 0,
              "ticks": ""
             }
            }
           }
          ],
          "scatter3d": [
           {
            "type": "scatter3d",
            "line": {
             "colorbar": {
              "outlinewidth": 0,
              "ticks": ""
             }
            },
            "marker": {
             "colorbar": {
              "outlinewidth": 0,
              "ticks": ""
             }
            }
           }
          ],
          "scattermapbox": [
           {
            "type": "scattermapbox",
            "marker": {
             "colorbar": {
              "outlinewidth": 0,
              "ticks": ""
             }
            }
           }
          ],
          "scatterternary": [
           {
            "type": "scatterternary",
            "marker": {
             "colorbar": {
              "outlinewidth": 0,
              "ticks": ""
             }
            }
           }
          ],
          "scattercarpet": [
           {
            "type": "scattercarpet",
            "marker": {
             "colorbar": {
              "outlinewidth": 0,
              "ticks": ""
             }
            }
           }
          ],
          "carpet": [
           {
            "aaxis": {
             "endlinecolor": "#2a3f5f",
             "gridcolor": "white",
             "linecolor": "white",
             "minorgridcolor": "white",
             "startlinecolor": "#2a3f5f"
            },
            "baxis": {
             "endlinecolor": "#2a3f5f",
             "gridcolor": "white",
             "linecolor": "white",
             "minorgridcolor": "white",
             "startlinecolor": "#2a3f5f"
            },
            "type": "carpet"
           }
          ],
          "table": [
           {
            "cells": {
             "fill": {
              "color": "#EBF0F8"
             },
             "line": {
              "color": "white"
             }
            },
            "header": {
             "fill": {
              "color": "#C8D4E3"
             },
             "line": {
              "color": "white"
             }
            },
            "type": "table"
           }
          ],
          "barpolar": [
           {
            "marker": {
             "line": {
              "color": "#E5ECF6",
              "width": 0.5
             },
             "pattern": {
              "fillmode": "overlay",
              "size": 10,
              "solidity": 0.2
             }
            },
            "type": "barpolar"
           }
          ],
          "pie": [
           {
            "automargin": true,
            "type": "pie"
           }
          ]
         },
         "layout": {
          "autotypenumbers": "strict",
          "colorway": [
           "#636efa",
           "#EF553B",
           "#00cc96",
           "#ab63fa",
           "#FFA15A",
           "#19d3f3",
           "#FF6692",
           "#B6E880",
           "#FF97FF",
           "#FECB52"
          ],
          "font": {
           "color": "#2a3f5f"
          },
          "hovermode": "closest",
          "hoverlabel": {
           "align": "left"
          },
          "paper_bgcolor": "white",
          "plot_bgcolor": "#E5ECF6",
          "polar": {
           "bgcolor": "#E5ECF6",
           "angularaxis": {
            "gridcolor": "white",
            "linecolor": "white",
            "ticks": ""
           },
           "radialaxis": {
            "gridcolor": "white",
            "linecolor": "white",
            "ticks": ""
           }
          },
          "ternary": {
           "bgcolor": "#E5ECF6",
           "aaxis": {
            "gridcolor": "white",
            "linecolor": "white",
            "ticks": ""
           },
           "baxis": {
            "gridcolor": "white",
            "linecolor": "white",
            "ticks": ""
           },
           "caxis": {
            "gridcolor": "white",
            "linecolor": "white",
            "ticks": ""
           }
          },
          "coloraxis": {
           "colorbar": {
            "outlinewidth": 0,
            "ticks": ""
           }
          },
          "colorscale": {
           "sequential": [
            [
             0.0,
             "#0d0887"
            ],
            [
             0.1111111111111111,
             "#46039f"
            ],
            [
             0.2222222222222222,
             "#7201a8"
            ],
            [
             0.3333333333333333,
             "#9c179e"
            ],
            [
             0.4444444444444444,
             "#bd3786"
            ],
            [
             0.5555555555555556,
             "#d8576b"
            ],
            [
             0.6666666666666666,
             "#ed7953"
            ],
            [
             0.7777777777777778,
             "#fb9f3a"
            ],
            [
             0.8888888888888888,
             "#fdca26"
            ],
            [
             1.0,
             "#f0f921"
            ]
           ],
           "sequentialminus": [
            [
             0.0,
             "#0d0887"
            ],
            [
             0.1111111111111111,
             "#46039f"
            ],
            [
             0.2222222222222222,
             "#7201a8"
            ],
            [
             0.3333333333333333,
             "#9c179e"
            ],
            [
             0.4444444444444444,
             "#bd3786"
            ],
            [
             0.5555555555555556,
             "#d8576b"
            ],
            [
             0.6666666666666666,
             "#ed7953"
            ],
            [
             0.7777777777777778,
             "#fb9f3a"
            ],
            [
             0.8888888888888888,
             "#fdca26"
            ],
            [
             1.0,
             "#f0f921"
            ]
           ],
           "diverging": [
            [
             0,
             "#8e0152"
            ],
            [
             0.1,
             "#c51b7d"
            ],
            [
             0.2,
             "#de77ae"
            ],
            [
             0.3,
             "#f1b6da"
            ],
            [
             0.4,
             "#fde0ef"
            ],
            [
             0.5,
             "#f7f7f7"
            ],
            [
             0.6,
             "#e6f5d0"
            ],
            [
             0.7,
             "#b8e186"
            ],
            [
             0.8,
             "#7fbc41"
            ],
            [
             0.9,
             "#4d9221"
            ],
            [
             1,
             "#276419"
            ]
           ]
          },
          "xaxis": {
           "gridcolor": "white",
           "linecolor": "white",
           "ticks": "",
           "title": {
            "standoff": 15
           },
           "zerolinecolor": "white",
           "automargin": true,
           "zerolinewidth": 2
          },
          "yaxis": {
           "gridcolor": "white",
           "linecolor": "white",
           "ticks": "",
           "title": {
            "standoff": 15
           },
           "zerolinecolor": "white",
           "automargin": true,
           "zerolinewidth": 2
          },
          "scene": {
           "xaxis": {
            "backgroundcolor": "#E5ECF6",
            "gridcolor": "white",
            "linecolor": "white",
            "showbackground": true,
            "ticks": "",
            "zerolinecolor": "white",
            "gridwidth": 2
           },
           "yaxis": {
            "backgroundcolor": "#E5ECF6",
            "gridcolor": "white",
            "linecolor": "white",
            "showbackground": true,
            "ticks": "",
            "zerolinecolor": "white",
            "gridwidth": 2
           },
           "zaxis": {
            "backgroundcolor": "#E5ECF6",
            "gridcolor": "white",
            "linecolor": "white",
            "showbackground": true,
            "ticks": "",
            "zerolinecolor": "white",
            "gridwidth": 2
           }
          },
          "shapedefaults": {
           "line": {
            "color": "#2a3f5f"
           }
          },
          "annotationdefaults": {
           "arrowcolor": "#2a3f5f",
           "arrowhead": 0,
           "arrowwidth": 1
          },
          "geo": {
           "bgcolor": "white",
           "landcolor": "#E5ECF6",
           "subunitcolor": "white",
           "showland": true,
           "showlakes": true,
           "lakecolor": "white"
          },
          "title": {
           "x": 0.05
          },
          "mapbox": {
           "style": "light"
          }
         }
        },
        "xaxis": {
         "anchor": "y",
         "domain": [
          0.0,
          1.0
         ],
         "title": {
          "text": "vx"
         }
        },
        "yaxis": {
         "anchor": "x",
         "domain": [
          0.0,
          1.0
         ],
         "title": {
          "text": "vy"
         }
        },
        "legend": {
         "title": {
          "text": "Data"
         },
         "tracegroupgap": 0
        },
        "margin": {
         "t": 60
        },
        "title": {
         "text": "Real vs. Synthetic Data for columns 'vx' and 'vy'"
        },
        "plot_bgcolor": "#F5F5F8"
       },
       "config": {
        "plotlyServerURL": "https://plot.ly"
       }
      },
      "text/html": "<div>                            <div id=\"3da3f818-331c-4582-8ed7-9f7ce74f1b0b\" class=\"plotly-graph-div\" style=\"height:525px; width:100%;\"></div>            <script type=\"text/javascript\">                require([\"plotly\"], function(Plotly) {                    window.PLOTLYENV=window.PLOTLYENV || {};                                    if (document.getElementById(\"3da3f818-331c-4582-8ed7-9f7ce74f1b0b\")) {                    Plotly.newPlot(                        \"3da3f818-331c-4582-8ed7-9f7ce74f1b0b\",                        [{\"hovertemplate\":\"Data=Real<br>vx=%{x}<br>vy=%{y}<extra></extra>\",\"legendgroup\":\"Real\",\"marker\":{\"color\":\"#000036\",\"symbol\":\"circle\"},\"mode\":\"markers\",\"name\":\"Real\",\"orientation\":\"v\",\"showlegend\":true,\"x\":[0.48,0.48,0.47,0.47,0.47,0.47,0.47,0.46,0.46,0.46,0.46,0.47,0.47,0.48,0.48,0.48,0.48,0.48,0.48,0.48,0.48,0.48,0.48,0.48,0.48,0.47,0.47,0.47,0.47,0.48,0.48,0.48,0.48,0.48,0.49,0.49,0.49,0.49,0.48,0.48,0.48,0.48,0.49,0.49,0.49,0.49,0.49,0.49,0.5,0.5,0.5,0.5,0.49,0.49,0.49,0.49,0.48,0.48,0.48,0.47],\"xaxis\":\"x\",\"y\":[0.01,0.01,0.01,0.01,0.02,0.02,0.02,0.02,0.03,0.03,0.04,0.04,0.04,0.04,0.03,0.03,0.03,0.03,0.03,0.03,0.03,0.03,0.03,0.03,0.04,0.04,0.04,0.03,0.03,0.03,0.03,0.02,0.02,0.02,0.02,0.02,0.02,0.02,0.01,0.01,0.01,0.01,0.01,0.01,0.02,0.02,0.02,0.02,0.02,0.02,0.02,0.02,0.02,0.02,0.01,0.01,0.01,0.01,0.0,0.0],\"yaxis\":\"y\",\"type\":\"scatter\"},{\"hovertemplate\":\"Data=Synthetic<br>vx=%{x}<br>vy=%{y}<extra></extra>\",\"legendgroup\":\"Synthetic\",\"marker\":{\"color\":\"#01E0C9\",\"symbol\":\"diamond\"},\"mode\":\"markers\",\"name\":\"Synthetic\",\"orientation\":\"v\",\"showlegend\":true,\"x\":[0.47,0.49,0.47,0.49,0.5,0.45,0.5,0.45,0.34,0.51,0.47,0.46,0.47,0.48,0.5,0.45,0.49,0.49,0.46,0.5,0.49,0.46,0.42,0.48,0.51,0.52,0.49,0.61,0.21,0.43,0.52,0.48,0.47,0.4,-0.03,0.46,0.5,0.48,0.51,0.5,0.49,0.46,0.53,0.52,0.46,0.43,0.48,0.49,0.49,0.49,0.46,0.5,0.47,0.48,0.5,0.44,0.42,0.48,0.49,0.49],\"xaxis\":\"x\",\"y\":[0.01,0.04,0.02,-0.04,0.02,-0.05,0.0,-0.0,0.19,0.05,-0.01,-0.08,-0.06,-0.08,0.03,0.01,-0.03,-0.03,-0.01,-0.11,-0.02,0.03,-0.01,-0.01,-0.05,0.03,-0.0,-0.08,-0.05,-0.01,-0.02,-0.03,0.04,0.03,0.04,0.0,0.03,0.15,-0.05,-0.02,-0.02,-0.0,0.04,-0.05,0.02,-0.04,0.08,-0.01,0.01,-0.09,0.02,0.04,0.04,-0.09,-0.03,-0.01,-0.01,-0.09,-0.02,0.02],\"yaxis\":\"y\",\"type\":\"scatter\"}],                        {\"template\":{\"data\":{\"histogram2dcontour\":[{\"type\":\"histogram2dcontour\",\"colorbar\":{\"outlinewidth\":0,\"ticks\":\"\"},\"colorscale\":[[0.0,\"#0d0887\"],[0.1111111111111111,\"#46039f\"],[0.2222222222222222,\"#7201a8\"],[0.3333333333333333,\"#9c179e\"],[0.4444444444444444,\"#bd3786\"],[0.5555555555555556,\"#d8576b\"],[0.6666666666666666,\"#ed7953\"],[0.7777777777777778,\"#fb9f3a\"],[0.8888888888888888,\"#fdca26\"],[1.0,\"#f0f921\"]]}],\"choropleth\":[{\"type\":\"choropleth\",\"colorbar\":{\"outlinewidth\":0,\"ticks\":\"\"}}],\"histogram2d\":[{\"type\":\"histogram2d\",\"colorbar\":{\"outlinewidth\":0,\"ticks\":\"\"},\"colorscale\":[[0.0,\"#0d0887\"],[0.1111111111111111,\"#46039f\"],[0.2222222222222222,\"#7201a8\"],[0.3333333333333333,\"#9c179e\"],[0.4444444444444444,\"#bd3786\"],[0.5555555555555556,\"#d8576b\"],[0.6666666666666666,\"#ed7953\"],[0.7777777777777778,\"#fb9f3a\"],[0.8888888888888888,\"#fdca26\"],[1.0,\"#f0f921\"]]}],\"heatmap\":[{\"type\":\"heatmap\",\"colorbar\":{\"outlinewidth\":0,\"ticks\":\"\"},\"colorscale\":[[0.0,\"#0d0887\"],[0.1111111111111111,\"#46039f\"],[0.2222222222222222,\"#7201a8\"],[0.3333333333333333,\"#9c179e\"],[0.4444444444444444,\"#bd3786\"],[0.5555555555555556,\"#d8576b\"],[0.6666666666666666,\"#ed7953\"],[0.7777777777777778,\"#fb9f3a\"],[0.8888888888888888,\"#fdca26\"],[1.0,\"#f0f921\"]]}],\"heatmapgl\":[{\"type\":\"heatmapgl\",\"colorbar\":{\"outlinewidth\":0,\"ticks\":\"\"},\"colorscale\":[[0.0,\"#0d0887\"],[0.1111111111111111,\"#46039f\"],[0.2222222222222222,\"#7201a8\"],[0.3333333333333333,\"#9c179e\"],[0.4444444444444444,\"#bd3786\"],[0.5555555555555556,\"#d8576b\"],[0.6666666666666666,\"#ed7953\"],[0.7777777777777778,\"#fb9f3a\"],[0.8888888888888888,\"#fdca26\"],[1.0,\"#f0f921\"]]}],\"contourcarpet\":[{\"type\":\"contourcarpet\",\"colorbar\":{\"outlinewidth\":0,\"ticks\":\"\"}}],\"contour\":[{\"type\":\"contour\",\"colorbar\":{\"outlinewidth\":0,\"ticks\":\"\"},\"colorscale\":[[0.0,\"#0d0887\"],[0.1111111111111111,\"#46039f\"],[0.2222222222222222,\"#7201a8\"],[0.3333333333333333,\"#9c179e\"],[0.4444444444444444,\"#bd3786\"],[0.5555555555555556,\"#d8576b\"],[0.6666666666666666,\"#ed7953\"],[0.7777777777777778,\"#fb9f3a\"],[0.8888888888888888,\"#fdca26\"],[1.0,\"#f0f921\"]]}],\"surface\":[{\"type\":\"surface\",\"colorbar\":{\"outlinewidth\":0,\"ticks\":\"\"},\"colorscale\":[[0.0,\"#0d0887\"],[0.1111111111111111,\"#46039f\"],[0.2222222222222222,\"#7201a8\"],[0.3333333333333333,\"#9c179e\"],[0.4444444444444444,\"#bd3786\"],[0.5555555555555556,\"#d8576b\"],[0.6666666666666666,\"#ed7953\"],[0.7777777777777778,\"#fb9f3a\"],[0.8888888888888888,\"#fdca26\"],[1.0,\"#f0f921\"]]}],\"mesh3d\":[{\"type\":\"mesh3d\",\"colorbar\":{\"outlinewidth\":0,\"ticks\":\"\"}}],\"scatter\":[{\"fillpattern\":{\"fillmode\":\"overlay\",\"size\":10,\"solidity\":0.2},\"type\":\"scatter\"}],\"parcoords\":[{\"type\":\"parcoords\",\"line\":{\"colorbar\":{\"outlinewidth\":0,\"ticks\":\"\"}}}],\"scatterpolargl\":[{\"type\":\"scatterpolargl\",\"marker\":{\"colorbar\":{\"outlinewidth\":0,\"ticks\":\"\"}}}],\"bar\":[{\"error_x\":{\"color\":\"#2a3f5f\"},\"error_y\":{\"color\":\"#2a3f5f\"},\"marker\":{\"line\":{\"color\":\"#E5ECF6\",\"width\":0.5},\"pattern\":{\"fillmode\":\"overlay\",\"size\":10,\"solidity\":0.2}},\"type\":\"bar\"}],\"scattergeo\":[{\"type\":\"scattergeo\",\"marker\":{\"colorbar\":{\"outlinewidth\":0,\"ticks\":\"\"}}}],\"scatterpolar\":[{\"type\":\"scatterpolar\",\"marker\":{\"colorbar\":{\"outlinewidth\":0,\"ticks\":\"\"}}}],\"histogram\":[{\"marker\":{\"pattern\":{\"fillmode\":\"overlay\",\"size\":10,\"solidity\":0.2}},\"type\":\"histogram\"}],\"scattergl\":[{\"type\":\"scattergl\",\"marker\":{\"colorbar\":{\"outlinewidth\":0,\"ticks\":\"\"}}}],\"scatter3d\":[{\"type\":\"scatter3d\",\"line\":{\"colorbar\":{\"outlinewidth\":0,\"ticks\":\"\"}},\"marker\":{\"colorbar\":{\"outlinewidth\":0,\"ticks\":\"\"}}}],\"scattermapbox\":[{\"type\":\"scattermapbox\",\"marker\":{\"colorbar\":{\"outlinewidth\":0,\"ticks\":\"\"}}}],\"scatterternary\":[{\"type\":\"scatterternary\",\"marker\":{\"colorbar\":{\"outlinewidth\":0,\"ticks\":\"\"}}}],\"scattercarpet\":[{\"type\":\"scattercarpet\",\"marker\":{\"colorbar\":{\"outlinewidth\":0,\"ticks\":\"\"}}}],\"carpet\":[{\"aaxis\":{\"endlinecolor\":\"#2a3f5f\",\"gridcolor\":\"white\",\"linecolor\":\"white\",\"minorgridcolor\":\"white\",\"startlinecolor\":\"#2a3f5f\"},\"baxis\":{\"endlinecolor\":\"#2a3f5f\",\"gridcolor\":\"white\",\"linecolor\":\"white\",\"minorgridcolor\":\"white\",\"startlinecolor\":\"#2a3f5f\"},\"type\":\"carpet\"}],\"table\":[{\"cells\":{\"fill\":{\"color\":\"#EBF0F8\"},\"line\":{\"color\":\"white\"}},\"header\":{\"fill\":{\"color\":\"#C8D4E3\"},\"line\":{\"color\":\"white\"}},\"type\":\"table\"}],\"barpolar\":[{\"marker\":{\"line\":{\"color\":\"#E5ECF6\",\"width\":0.5},\"pattern\":{\"fillmode\":\"overlay\",\"size\":10,\"solidity\":0.2}},\"type\":\"barpolar\"}],\"pie\":[{\"automargin\":true,\"type\":\"pie\"}]},\"layout\":{\"autotypenumbers\":\"strict\",\"colorway\":[\"#636efa\",\"#EF553B\",\"#00cc96\",\"#ab63fa\",\"#FFA15A\",\"#19d3f3\",\"#FF6692\",\"#B6E880\",\"#FF97FF\",\"#FECB52\"],\"font\":{\"color\":\"#2a3f5f\"},\"hovermode\":\"closest\",\"hoverlabel\":{\"align\":\"left\"},\"paper_bgcolor\":\"white\",\"plot_bgcolor\":\"#E5ECF6\",\"polar\":{\"bgcolor\":\"#E5ECF6\",\"angularaxis\":{\"gridcolor\":\"white\",\"linecolor\":\"white\",\"ticks\":\"\"},\"radialaxis\":{\"gridcolor\":\"white\",\"linecolor\":\"white\",\"ticks\":\"\"}},\"ternary\":{\"bgcolor\":\"#E5ECF6\",\"aaxis\":{\"gridcolor\":\"white\",\"linecolor\":\"white\",\"ticks\":\"\"},\"baxis\":{\"gridcolor\":\"white\",\"linecolor\":\"white\",\"ticks\":\"\"},\"caxis\":{\"gridcolor\":\"white\",\"linecolor\":\"white\",\"ticks\":\"\"}},\"coloraxis\":{\"colorbar\":{\"outlinewidth\":0,\"ticks\":\"\"}},\"colorscale\":{\"sequential\":[[0.0,\"#0d0887\"],[0.1111111111111111,\"#46039f\"],[0.2222222222222222,\"#7201a8\"],[0.3333333333333333,\"#9c179e\"],[0.4444444444444444,\"#bd3786\"],[0.5555555555555556,\"#d8576b\"],[0.6666666666666666,\"#ed7953\"],[0.7777777777777778,\"#fb9f3a\"],[0.8888888888888888,\"#fdca26\"],[1.0,\"#f0f921\"]],\"sequentialminus\":[[0.0,\"#0d0887\"],[0.1111111111111111,\"#46039f\"],[0.2222222222222222,\"#7201a8\"],[0.3333333333333333,\"#9c179e\"],[0.4444444444444444,\"#bd3786\"],[0.5555555555555556,\"#d8576b\"],[0.6666666666666666,\"#ed7953\"],[0.7777777777777778,\"#fb9f3a\"],[0.8888888888888888,\"#fdca26\"],[1.0,\"#f0f921\"]],\"diverging\":[[0,\"#8e0152\"],[0.1,\"#c51b7d\"],[0.2,\"#de77ae\"],[0.3,\"#f1b6da\"],[0.4,\"#fde0ef\"],[0.5,\"#f7f7f7\"],[0.6,\"#e6f5d0\"],[0.7,\"#b8e186\"],[0.8,\"#7fbc41\"],[0.9,\"#4d9221\"],[1,\"#276419\"]]},\"xaxis\":{\"gridcolor\":\"white\",\"linecolor\":\"white\",\"ticks\":\"\",\"title\":{\"standoff\":15},\"zerolinecolor\":\"white\",\"automargin\":true,\"zerolinewidth\":2},\"yaxis\":{\"gridcolor\":\"white\",\"linecolor\":\"white\",\"ticks\":\"\",\"title\":{\"standoff\":15},\"zerolinecolor\":\"white\",\"automargin\":true,\"zerolinewidth\":2},\"scene\":{\"xaxis\":{\"backgroundcolor\":\"#E5ECF6\",\"gridcolor\":\"white\",\"linecolor\":\"white\",\"showbackground\":true,\"ticks\":\"\",\"zerolinecolor\":\"white\",\"gridwidth\":2},\"yaxis\":{\"backgroundcolor\":\"#E5ECF6\",\"gridcolor\":\"white\",\"linecolor\":\"white\",\"showbackground\":true,\"ticks\":\"\",\"zerolinecolor\":\"white\",\"gridwidth\":2},\"zaxis\":{\"backgroundcolor\":\"#E5ECF6\",\"gridcolor\":\"white\",\"linecolor\":\"white\",\"showbackground\":true,\"ticks\":\"\",\"zerolinecolor\":\"white\",\"gridwidth\":2}},\"shapedefaults\":{\"line\":{\"color\":\"#2a3f5f\"}},\"annotationdefaults\":{\"arrowcolor\":\"#2a3f5f\",\"arrowhead\":0,\"arrowwidth\":1},\"geo\":{\"bgcolor\":\"white\",\"landcolor\":\"#E5ECF6\",\"subunitcolor\":\"white\",\"showland\":true,\"showlakes\":true,\"lakecolor\":\"white\"},\"title\":{\"x\":0.05},\"mapbox\":{\"style\":\"light\"}}},\"xaxis\":{\"anchor\":\"y\",\"domain\":[0.0,1.0],\"title\":{\"text\":\"vx\"}},\"yaxis\":{\"anchor\":\"x\",\"domain\":[0.0,1.0],\"title\":{\"text\":\"vy\"}},\"legend\":{\"title\":{\"text\":\"Data\"},\"tracegroupgap\":0},\"margin\":{\"t\":60},\"title\":{\"text\":\"Real vs. Synthetic Data for columns 'vx' and 'vy'\"},\"plot_bgcolor\":\"#F5F5F8\"},                        {\"responsive\": true}                    ).then(function(){\n                            \nvar gd = document.getElementById('3da3f818-331c-4582-8ed7-9f7ce74f1b0b');\nvar x = new MutationObserver(function (mutations, observer) {{\n        var display = window.getComputedStyle(gd).display;\n        if (!display || display === 'none') {{\n            console.log([gd, 'removed!']);\n            Plotly.purge(gd);\n            observer.disconnect();\n        }}\n}});\n\n// Listen for the removal of the full notebook cells\nvar notebookContainer = gd.closest('#notebook-container');\nif (notebookContainer) {{\n    x.observe(notebookContainer, {childList: true});\n}}\n\n// Listen for the clearing of the current output cell\nvar outputEl = gd.closest('.output');\nif (outputEl) {{\n    x.observe(outputEl, {childList: true});\n}}\n\n                        })                };                });            </script>        </div>"
     },
     "metadata": {},
     "output_type": "display_data"
    }
   ],
   "source": [
    "fig = utils.get_column_pair_plot(\n",
    "    real_data=data2,\n",
    "    synthetic_data=data1,\n",
    "    column_names=['vx','vy'],\n",
    "    metadata=python_dict\n",
    ")\n",
    "fig.show()"
   ],
   "metadata": {
    "collapsed": false,
    "ExecuteTime": {
     "start_time": "2023-04-10T22:48:26.962900Z",
     "end_time": "2023-04-10T22:48:27.332641Z"
    }
   }
  },
  {
   "cell_type": "code",
   "execution_count": 87,
   "outputs": [
    {
     "name": "stderr",
     "output_type": "stream",
     "text": [
      "Sampling conditions: 100%|██████████| 1/1 [00:00<00:00,  1.68it/s]\n"
     ]
    }
   ],
   "source": [
    "generate_test_data = Condition(\n",
    "    num_rows=1,\n",
    "    column_values={'time': 301, 'distance': 150})\n",
    "synthetic_data = synthesizer_saved.sample_from_conditions(\n",
    "    conditions=[generate_test_data],max_tries_per_batch=1000)\n",
    "synthetic_data[\"x\"] = 2\n",
    "synthetic_data[\"y\"] = 2\n",
    "synthetic_data[\"z\"] = 6\n",
    "synthetic_data[\"id\"] = 6"
   ],
   "metadata": {
    "collapsed": false,
    "ExecuteTime": {
     "start_time": "2023-04-10T19:39:23.904565Z",
     "end_time": "2023-04-10T19:39:24.518115Z"
    }
   }
  },
  {
   "cell_type": "code",
   "execution_count": 88,
   "outputs": [
    {
     "data": {
      "text/plain": "    vx    vy    vz  time  distance  x  y  z  id\n0  0.5  0.03 -0.04   301       150  2  2  6   6",
      "text/html": "<div>\n<style scoped>\n    .dataframe tbody tr th:only-of-type {\n        vertical-align: middle;\n    }\n\n    .dataframe tbody tr th {\n        vertical-align: top;\n    }\n\n    .dataframe thead th {\n        text-align: right;\n    }\n</style>\n<table border=\"1\" class=\"dataframe\">\n  <thead>\n    <tr style=\"text-align: right;\">\n      <th></th>\n      <th>vx</th>\n      <th>vy</th>\n      <th>vz</th>\n      <th>time</th>\n      <th>distance</th>\n      <th>x</th>\n      <th>y</th>\n      <th>z</th>\n      <th>id</th>\n    </tr>\n  </thead>\n  <tbody>\n    <tr>\n      <th>0</th>\n      <td>0.5</td>\n      <td>0.03</td>\n      <td>-0.04</td>\n      <td>301</td>\n      <td>150</td>\n      <td>2</td>\n      <td>2</td>\n      <td>6</td>\n      <td>6</td>\n    </tr>\n  </tbody>\n</table>\n</div>"
     },
     "execution_count": 88,
     "metadata": {},
     "output_type": "execute_result"
    }
   ],
   "source": [
    "synthetic_data.head()"
   ],
   "metadata": {
    "collapsed": false,
    "ExecuteTime": {
     "start_time": "2023-04-10T19:39:27.476241Z",
     "end_time": "2023-04-10T19:39:27.514282Z"
    }
   }
  },
  {
   "cell_type": "code",
   "execution_count": null,
   "outputs": [],
   "source": [],
   "metadata": {
    "collapsed": false
   }
  }
 ],
 "metadata": {
  "kernelspec": {
   "display_name": "Python 3",
   "language": "python",
   "name": "python3"
  },
  "language_info": {
   "codemirror_mode": {
    "name": "ipython",
    "version": 2
   },
   "file_extension": ".py",
   "mimetype": "text/x-python",
   "name": "python",
   "nbconvert_exporter": "python",
   "pygments_lexer": "ipython2",
   "version": "2.7.6"
  }
 },
 "nbformat": 4,
 "nbformat_minor": 0
}
