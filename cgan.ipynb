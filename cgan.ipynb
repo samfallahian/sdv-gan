{
 "cells": [
  {
   "cell_type": "code",
   "execution_count": 37,
   "metadata": {
    "collapsed": true
   },
   "outputs": [],
   "source": [
    "import pandas as pd\n",
    "import numpy as np"
   ]
  },
  {
   "cell_type": "code",
   "execution_count": 44,
   "outputs": [],
   "source": [
    "df = pd.read_pickle(f\"dataset/3p6-selected.pkl\", compression='zip')"
   ],
   "metadata": {
    "collapsed": false
   }
  },
  {
   "cell_type": "code",
   "execution_count": 47,
   "outputs": [],
   "source": [
    "df['xyz_id'] = df.groupby(['x', 'y', 'z']).ngroup()"
   ],
   "metadata": {
    "collapsed": false
   }
  },
  {
   "cell_type": "code",
   "execution_count": 48,
   "outputs": [
    {
     "data": {
      "text/plain": "             x     y     z    vx    vy    vz    px    py    pz  time  \\\n1824696 -117.0  87.0 -33.0  0.48  0.02  0.04 -0.57 -0.11 -2.17   301   \n1824697 -113.0  87.0 -33.0  0.48  0.02  0.04 -0.50 -0.40 -2.10   301   \n1824698 -109.0  87.0 -33.0  0.48  0.02  0.04 -0.45 -0.58 -2.01   301   \n1824699 -105.0  87.0 -33.0  0.48  0.02  0.04 -0.42 -0.67 -1.91   301   \n1824700 -101.0  87.0 -33.0  0.48  0.02  0.05 -0.36 -0.69 -1.80   301   \n\n         distance  xyz_id  \n1824696     150.0    2356  \n1824697     146.0    3148  \n1824698     143.0    3940  \n1824699     140.0    4732  \n1824700     137.0    5524  ",
      "text/html": "<div>\n<style scoped>\n    .dataframe tbody tr th:only-of-type {\n        vertical-align: middle;\n    }\n\n    .dataframe tbody tr th {\n        vertical-align: top;\n    }\n\n    .dataframe thead th {\n        text-align: right;\n    }\n</style>\n<table border=\"1\" class=\"dataframe\">\n  <thead>\n    <tr style=\"text-align: right;\">\n      <th></th>\n      <th>x</th>\n      <th>y</th>\n      <th>z</th>\n      <th>vx</th>\n      <th>vy</th>\n      <th>vz</th>\n      <th>px</th>\n      <th>py</th>\n      <th>pz</th>\n      <th>time</th>\n      <th>distance</th>\n      <th>xyz_id</th>\n    </tr>\n  </thead>\n  <tbody>\n    <tr>\n      <th>1824696</th>\n      <td>-117.0</td>\n      <td>87.0</td>\n      <td>-33.0</td>\n      <td>0.48</td>\n      <td>0.02</td>\n      <td>0.04</td>\n      <td>-0.57</td>\n      <td>-0.11</td>\n      <td>-2.17</td>\n      <td>301</td>\n      <td>150.0</td>\n      <td>2356</td>\n    </tr>\n    <tr>\n      <th>1824697</th>\n      <td>-113.0</td>\n      <td>87.0</td>\n      <td>-33.0</td>\n      <td>0.48</td>\n      <td>0.02</td>\n      <td>0.04</td>\n      <td>-0.50</td>\n      <td>-0.40</td>\n      <td>-2.10</td>\n      <td>301</td>\n      <td>146.0</td>\n      <td>3148</td>\n    </tr>\n    <tr>\n      <th>1824698</th>\n      <td>-109.0</td>\n      <td>87.0</td>\n      <td>-33.0</td>\n      <td>0.48</td>\n      <td>0.02</td>\n      <td>0.04</td>\n      <td>-0.45</td>\n      <td>-0.58</td>\n      <td>-2.01</td>\n      <td>301</td>\n      <td>143.0</td>\n      <td>3940</td>\n    </tr>\n    <tr>\n      <th>1824699</th>\n      <td>-105.0</td>\n      <td>87.0</td>\n      <td>-33.0</td>\n      <td>0.48</td>\n      <td>0.02</td>\n      <td>0.04</td>\n      <td>-0.42</td>\n      <td>-0.67</td>\n      <td>-1.91</td>\n      <td>301</td>\n      <td>140.0</td>\n      <td>4732</td>\n    </tr>\n    <tr>\n      <th>1824700</th>\n      <td>-101.0</td>\n      <td>87.0</td>\n      <td>-33.0</td>\n      <td>0.48</td>\n      <td>0.02</td>\n      <td>0.05</td>\n      <td>-0.36</td>\n      <td>-0.69</td>\n      <td>-1.80</td>\n      <td>301</td>\n      <td>137.0</td>\n      <td>5524</td>\n    </tr>\n  </tbody>\n</table>\n</div>"
     },
     "execution_count": 48,
     "metadata": {},
     "output_type": "execute_result"
    }
   ],
   "source": [
    "df.head()"
   ],
   "metadata": {
    "collapsed": false
   }
  },
  {
   "cell_type": "code",
   "execution_count": 46,
   "outputs": [
    {
     "data": {
      "text/plain": "(304116, 11)"
     },
     "execution_count": 46,
     "metadata": {},
     "output_type": "execute_result"
    }
   ],
   "source": [
    "df.shape"
   ],
   "metadata": {
    "collapsed": false
   }
  },
  {
   "cell_type": "code",
   "execution_count": 5,
   "outputs": [
    {
     "data": {
      "text/plain": "array([301, 305, 300, 302, 303, 304], dtype=int64)"
     },
     "execution_count": 5,
     "metadata": {},
     "output_type": "execute_result"
    }
   ],
   "source": [
    "df.time.unique()"
   ],
   "metadata": {
    "collapsed": false
   }
  },
  {
   "cell_type": "code",
   "execution_count": 49,
   "outputs": [],
   "source": [
    "train_df = df[df[\"time\"] != 303]\n",
    "train_df = train_df.drop(columns=[\"x\",\"y\",\"z\",\"px\",\"py\",\"pz\"], axis=1)"
   ],
   "metadata": {
    "collapsed": false
   }
  },
  {
   "cell_type": "code",
   "execution_count": 50,
   "outputs": [],
   "source": [
    "test_df = df[df[\"time\"] == 303]\n",
    "test_df = test_df.drop(columns=[\"x\",\"y\",\"z\",\"px\",\"py\",\"pz\"], axis=1)"
   ],
   "metadata": {
    "collapsed": false
   }
  },
  {
   "cell_type": "code",
   "execution_count": 51,
   "outputs": [
    {
     "data": {
      "text/plain": "((253430, 6), (50686, 6))"
     },
     "execution_count": 51,
     "metadata": {},
     "output_type": "execute_result"
    }
   ],
   "source": [
    "train_df.shape, test_df.shape"
   ],
   "metadata": {
    "collapsed": false
   }
  },
  {
   "cell_type": "code",
   "execution_count": 52,
   "outputs": [
    {
     "data": {
      "text/plain": "50686"
     },
     "execution_count": 52,
     "metadata": {},
     "output_type": "execute_result"
    }
   ],
   "source": [
    "df[['x', 'y', 'z']].drop_duplicates().count()[0]"
   ],
   "metadata": {
    "collapsed": false
   }
  },
  {
   "cell_type": "code",
   "execution_count": 38,
   "outputs": [],
   "source": [
    "centroid = np.array([0, 0, 0])\n",
    "\n",
    "# calculate the Euclidean distance between each point and the centroid\n",
    "df['distance_from_centroid'] = np.sqrt(\n",
    "    (df['x'] - centroid[0])**2 +\n",
    "    (df['y'] - centroid[1])**2 +\n",
    "    (df['z'] - centroid[2])**2\n",
    ")\n"
   ],
   "metadata": {
    "collapsed": false
   }
  },
  {
   "cell_type": "code",
   "execution_count": 39,
   "outputs": [
    {
     "data": {
      "text/plain": "(155, 10387)"
     },
     "execution_count": 39,
     "metadata": {},
     "output_type": "execute_result"
    }
   ],
   "source": [
    "df['distance'].nunique(), df['distance_from_centroid'].nunique()"
   ],
   "metadata": {
    "collapsed": false
   }
  },
  {
   "cell_type": "code",
   "execution_count": 53,
   "outputs": [
    {
     "data": {
      "text/plain": "           vx    vy    vz  time  distance  xyz_id\n1824696  0.48  0.02  0.04   301     150.0    2356\n1824697  0.48  0.02  0.04   301     146.0    3148\n1824698  0.48  0.02  0.04   301     143.0    3940\n1824699  0.48  0.02  0.04   301     140.0    4732\n1824700  0.48  0.02  0.05   301     137.0    5524",
      "text/html": "<div>\n<style scoped>\n    .dataframe tbody tr th:only-of-type {\n        vertical-align: middle;\n    }\n\n    .dataframe tbody tr th {\n        vertical-align: top;\n    }\n\n    .dataframe thead th {\n        text-align: right;\n    }\n</style>\n<table border=\"1\" class=\"dataframe\">\n  <thead>\n    <tr style=\"text-align: right;\">\n      <th></th>\n      <th>vx</th>\n      <th>vy</th>\n      <th>vz</th>\n      <th>time</th>\n      <th>distance</th>\n      <th>xyz_id</th>\n    </tr>\n  </thead>\n  <tbody>\n    <tr>\n      <th>1824696</th>\n      <td>0.48</td>\n      <td>0.02</td>\n      <td>0.04</td>\n      <td>301</td>\n      <td>150.0</td>\n      <td>2356</td>\n    </tr>\n    <tr>\n      <th>1824697</th>\n      <td>0.48</td>\n      <td>0.02</td>\n      <td>0.04</td>\n      <td>301</td>\n      <td>146.0</td>\n      <td>3148</td>\n    </tr>\n    <tr>\n      <th>1824698</th>\n      <td>0.48</td>\n      <td>0.02</td>\n      <td>0.04</td>\n      <td>301</td>\n      <td>143.0</td>\n      <td>3940</td>\n    </tr>\n    <tr>\n      <th>1824699</th>\n      <td>0.48</td>\n      <td>0.02</td>\n      <td>0.04</td>\n      <td>301</td>\n      <td>140.0</td>\n      <td>4732</td>\n    </tr>\n    <tr>\n      <th>1824700</th>\n      <td>0.48</td>\n      <td>0.02</td>\n      <td>0.05</td>\n      <td>301</td>\n      <td>137.0</td>\n      <td>5524</td>\n    </tr>\n  </tbody>\n</table>\n</div>"
     },
     "execution_count": 53,
     "metadata": {},
     "output_type": "execute_result"
    }
   ],
   "source": [
    "train_df.head()"
   ],
   "metadata": {
    "collapsed": false
   }
  },
  {
   "cell_type": "code",
   "execution_count": null,
   "outputs": [],
   "source": [
    "# set constraint for time"
   ],
   "metadata": {
    "collapsed": false
   }
  },
  {
   "cell_type": "code",
   "execution_count": null,
   "outputs": [],
   "source": [],
   "metadata": {
    "collapsed": false
   }
  },
  {
   "cell_type": "code",
   "execution_count": null,
   "outputs": [],
   "source": [],
   "metadata": {
    "collapsed": false
   }
  },
  {
   "cell_type": "code",
   "execution_count": 13,
   "outputs": [],
   "source": [
    "import sdv"
   ],
   "metadata": {
    "collapsed": false
   }
  },
  {
   "cell_type": "code",
   "execution_count": 14,
   "outputs": [
    {
     "name": "stdout",
     "output_type": "stream",
     "text": [
      "1.0.0\n"
     ]
    }
   ],
   "source": [
    "print(sdv.__version__)"
   ],
   "metadata": {
    "collapsed": false
   }
  },
  {
   "cell_type": "code",
   "execution_count": 30,
   "outputs": [],
   "source": [
    "from sdv.metadata import SingleTableMetadata\n",
    "\n",
    "metadata = SingleTableMetadata()"
   ],
   "metadata": {
    "collapsed": false
   }
  },
  {
   "cell_type": "code",
   "execution_count": 31,
   "outputs": [],
   "source": [
    "metadata.detect_from_dataframe(data=train_df)"
   ],
   "metadata": {
    "collapsed": false
   }
  },
  {
   "cell_type": "code",
   "execution_count": 32,
   "outputs": [
    {
     "data": {
      "text/plain": "{'columns': {'x': {'sdtype': 'numerical'},\n  'y': {'sdtype': 'numerical'},\n  'z': {'sdtype': 'numerical'},\n  'vx': {'sdtype': 'numerical'},\n  'vy': {'sdtype': 'numerical'},\n  'vz': {'sdtype': 'numerical'},\n  'time': {'sdtype': 'numerical'},\n  'distance': {'sdtype': 'numerical'}},\n 'METADATA_SPEC_VERSION': 'SINGLE_TABLE_V1'}"
     },
     "execution_count": 32,
     "metadata": {},
     "output_type": "execute_result"
    }
   ],
   "source": [
    "python_dict = metadata.to_dict()\n",
    "python_dict"
   ],
   "metadata": {
    "collapsed": false
   }
  },
  {
   "cell_type": "code",
   "execution_count": 22,
   "outputs": [],
   "source": [
    "metadata.validate()"
   ],
   "metadata": {
    "collapsed": false
   }
  },
  {
   "cell_type": "code",
   "execution_count": null,
   "outputs": [],
   "source": [],
   "metadata": {
    "collapsed": false
   }
  }
 ],
 "metadata": {
  "kernelspec": {
   "display_name": "Python 3",
   "language": "python",
   "name": "python3"
  },
  "language_info": {
   "codemirror_mode": {
    "name": "ipython",
    "version": 2
   },
   "file_extension": ".py",
   "mimetype": "text/x-python",
   "name": "python",
   "nbconvert_exporter": "python",
   "pygments_lexer": "ipython2",
   "version": "2.7.6"
  }
 },
 "nbformat": 4,
 "nbformat_minor": 0
}
