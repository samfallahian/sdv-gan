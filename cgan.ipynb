{
 "cells": [
  {
   "cell_type": "code",
   "execution_count": 1,
   "metadata": {
    "collapsed": true,
    "ExecuteTime": {
     "start_time": "2023-04-10T13:40:38.757058Z",
     "end_time": "2023-04-10T13:40:39.140186Z"
    }
   },
   "outputs": [],
   "source": [
    "import pandas as pd\n",
    "import numpy as np"
   ]
  },
  {
   "cell_type": "code",
   "execution_count": 33,
   "outputs": [],
   "source": [
    "df = pd.read_pickle(f\"dataset/3p6-selected.pkl\", compression='zip')"
   ],
   "metadata": {
    "collapsed": false,
    "ExecuteTime": {
     "start_time": "2023-04-10T14:04:17.942909Z",
     "end_time": "2023-04-10T14:04:18.056275Z"
    }
   }
  },
  {
   "cell_type": "code",
   "execution_count": null,
   "outputs": [],
   "source": [],
   "metadata": {
    "collapsed": false
   }
  },
  {
   "cell_type": "code",
   "execution_count": 29,
   "outputs": [
    {
     "data": {
      "text/plain": "xyz_id\n0        1\n1        1\n2        1\n3        1\n4        1\n        ..\n50681    1\n50682    1\n50683    1\n50684    1\n50685    1\nName: distance, Length: 50686, dtype: int64"
     },
     "execution_count": 29,
     "metadata": {},
     "output_type": "execute_result"
    }
   ],
   "source": [
    "df.groupby([\"xyz_id\"])[\"distance\"].nunique()"
   ],
   "metadata": {
    "collapsed": false,
    "ExecuteTime": {
     "start_time": "2023-04-10T14:03:44.153915Z",
     "end_time": "2023-04-10T14:03:44.293219Z"
    }
   }
  },
  {
   "cell_type": "code",
   "execution_count": 31,
   "outputs": [],
   "source": [
    "df['xyz_id'] = df.groupby(['x', 'y', 'z']).ngroup()"
   ],
   "metadata": {
    "collapsed": false,
    "ExecuteTime": {
     "start_time": "2023-04-10T14:04:06.640654Z",
     "end_time": "2023-04-10T14:04:06.713737Z"
    }
   }
  },
  {
   "cell_type": "code",
   "execution_count": 34,
   "outputs": [
    {
     "data": {
      "text/plain": "             x     y     z    vx    vy    vz    px    py    pz  time  distance\n1824696 -117.0  87.0 -33.0  0.48  0.02  0.04 -0.57 -0.11 -2.17   301     150.0\n1824697 -113.0  87.0 -33.0  0.48  0.02  0.04 -0.50 -0.40 -2.10   301     146.0\n1824698 -109.0  87.0 -33.0  0.48  0.02  0.04 -0.45 -0.58 -2.01   301     143.0\n1824699 -105.0  87.0 -33.0  0.48  0.02  0.04 -0.42 -0.67 -1.91   301     140.0\n1824700 -101.0  87.0 -33.0  0.48  0.02  0.05 -0.36 -0.69 -1.80   301     137.0",
      "text/html": "<div>\n<style scoped>\n    .dataframe tbody tr th:only-of-type {\n        vertical-align: middle;\n    }\n\n    .dataframe tbody tr th {\n        vertical-align: top;\n    }\n\n    .dataframe thead th {\n        text-align: right;\n    }\n</style>\n<table border=\"1\" class=\"dataframe\">\n  <thead>\n    <tr style=\"text-align: right;\">\n      <th></th>\n      <th>x</th>\n      <th>y</th>\n      <th>z</th>\n      <th>vx</th>\n      <th>vy</th>\n      <th>vz</th>\n      <th>px</th>\n      <th>py</th>\n      <th>pz</th>\n      <th>time</th>\n      <th>distance</th>\n    </tr>\n  </thead>\n  <tbody>\n    <tr>\n      <th>1824696</th>\n      <td>-117.0</td>\n      <td>87.0</td>\n      <td>-33.0</td>\n      <td>0.48</td>\n      <td>0.02</td>\n      <td>0.04</td>\n      <td>-0.57</td>\n      <td>-0.11</td>\n      <td>-2.17</td>\n      <td>301</td>\n      <td>150.0</td>\n    </tr>\n    <tr>\n      <th>1824697</th>\n      <td>-113.0</td>\n      <td>87.0</td>\n      <td>-33.0</td>\n      <td>0.48</td>\n      <td>0.02</td>\n      <td>0.04</td>\n      <td>-0.50</td>\n      <td>-0.40</td>\n      <td>-2.10</td>\n      <td>301</td>\n      <td>146.0</td>\n    </tr>\n    <tr>\n      <th>1824698</th>\n      <td>-109.0</td>\n      <td>87.0</td>\n      <td>-33.0</td>\n      <td>0.48</td>\n      <td>0.02</td>\n      <td>0.04</td>\n      <td>-0.45</td>\n      <td>-0.58</td>\n      <td>-2.01</td>\n      <td>301</td>\n      <td>143.0</td>\n    </tr>\n    <tr>\n      <th>1824699</th>\n      <td>-105.0</td>\n      <td>87.0</td>\n      <td>-33.0</td>\n      <td>0.48</td>\n      <td>0.02</td>\n      <td>0.04</td>\n      <td>-0.42</td>\n      <td>-0.67</td>\n      <td>-1.91</td>\n      <td>301</td>\n      <td>140.0</td>\n    </tr>\n    <tr>\n      <th>1824700</th>\n      <td>-101.0</td>\n      <td>87.0</td>\n      <td>-33.0</td>\n      <td>0.48</td>\n      <td>0.02</td>\n      <td>0.05</td>\n      <td>-0.36</td>\n      <td>-0.69</td>\n      <td>-1.80</td>\n      <td>301</td>\n      <td>137.0</td>\n    </tr>\n  </tbody>\n</table>\n</div>"
     },
     "execution_count": 34,
     "metadata": {},
     "output_type": "execute_result"
    }
   ],
   "source": [
    "df.head()"
   ],
   "metadata": {
    "collapsed": false,
    "ExecuteTime": {
     "start_time": "2023-04-10T14:04:21.889280Z",
     "end_time": "2023-04-10T14:04:21.904149Z"
    }
   }
  },
  {
   "cell_type": "code",
   "execution_count": 35,
   "outputs": [
    {
     "data": {
      "text/plain": "(304116, 11)"
     },
     "execution_count": 35,
     "metadata": {},
     "output_type": "execute_result"
    }
   ],
   "source": [
    "df.shape"
   ],
   "metadata": {
    "collapsed": false,
    "ExecuteTime": {
     "start_time": "2023-04-10T14:04:26.242901Z",
     "end_time": "2023-04-10T14:04:26.248772Z"
    }
   }
  },
  {
   "cell_type": "code",
   "execution_count": 12,
   "outputs": [
    {
     "data": {
      "text/plain": "array([301, 305, 300, 302, 303, 304])"
     },
     "execution_count": 12,
     "metadata": {},
     "output_type": "execute_result"
    }
   ],
   "source": [
    "df.time.unique()"
   ],
   "metadata": {
    "collapsed": false,
    "ExecuteTime": {
     "start_time": "2023-04-10T13:41:51.629876Z",
     "end_time": "2023-04-10T13:41:51.656136Z"
    }
   }
  },
  {
   "cell_type": "code",
   "execution_count": 36,
   "outputs": [],
   "source": [
    "train_df = df[df[\"time\"] != 303]\n",
    "train_df = train_df.drop(columns=[\"x\",\"y\",\"z\",\"px\",\"py\",\"pz\"], axis=1)"
   ],
   "metadata": {
    "collapsed": false,
    "ExecuteTime": {
     "start_time": "2023-04-10T14:05:06.566562Z",
     "end_time": "2023-04-10T14:05:06.620318Z"
    }
   }
  },
  {
   "cell_type": "code",
   "execution_count": 37,
   "outputs": [],
   "source": [
    "test_df = df[df[\"time\"] == 303]\n",
    "test_df = test_df.drop(columns=[\"x\",\"y\",\"z\",\"px\",\"py\",\"pz\"], axis=1)"
   ],
   "metadata": {
    "collapsed": false,
    "ExecuteTime": {
     "start_time": "2023-04-10T14:05:07.185425Z",
     "end_time": "2023-04-10T14:05:07.252914Z"
    }
   }
  },
  {
   "cell_type": "code",
   "execution_count": 38,
   "outputs": [
    {
     "data": {
      "text/plain": "((253430, 5), (50686, 5))"
     },
     "execution_count": 38,
     "metadata": {},
     "output_type": "execute_result"
    }
   ],
   "source": [
    "train_df.shape, test_df.shape"
   ],
   "metadata": {
    "collapsed": false,
    "ExecuteTime": {
     "start_time": "2023-04-10T14:05:07.672419Z",
     "end_time": "2023-04-10T14:05:07.726527Z"
    }
   }
  },
  {
   "cell_type": "code",
   "execution_count": 39,
   "outputs": [
    {
     "data": {
      "text/plain": "50686"
     },
     "execution_count": 39,
     "metadata": {},
     "output_type": "execute_result"
    }
   ],
   "source": [
    "df[['x', 'y', 'z']].drop_duplicates().count()[0]"
   ],
   "metadata": {
    "collapsed": false,
    "ExecuteTime": {
     "start_time": "2023-04-10T14:05:18.512026Z",
     "end_time": "2023-04-10T14:05:18.602388Z"
    }
   }
  },
  {
   "cell_type": "code",
   "execution_count": 38,
   "outputs": [],
   "source": [
    "centroid = np.array([0, 0, 0])\n",
    "\n",
    "# calculate the Euclidean distance between each point and the centroid\n",
    "df['distance_from_centroid'] = np.sqrt(\n",
    "    (df['x'] - centroid[0])**2 +\n",
    "    (df['y'] - centroid[1])**2 +\n",
    "    (df['z'] - centroid[2])**2\n",
    ")\n"
   ],
   "metadata": {
    "collapsed": false
   }
  },
  {
   "cell_type": "code",
   "execution_count": 39,
   "outputs": [
    {
     "data": {
      "text/plain": "(155, 10387)"
     },
     "execution_count": 39,
     "metadata": {},
     "output_type": "execute_result"
    }
   ],
   "source": [
    "df['distance'].nunique(), df['distance_from_centroid'].nunique()"
   ],
   "metadata": {
    "collapsed": false
   }
  },
  {
   "cell_type": "code",
   "execution_count": 40,
   "outputs": [
    {
     "data": {
      "text/plain": "           vx    vy    vz  time  distance\n1824696  0.48  0.02  0.04   301     150.0\n1824697  0.48  0.02  0.04   301     146.0\n1824698  0.48  0.02  0.04   301     143.0\n1824699  0.48  0.02  0.04   301     140.0\n1824700  0.48  0.02  0.05   301     137.0",
      "text/html": "<div>\n<style scoped>\n    .dataframe tbody tr th:only-of-type {\n        vertical-align: middle;\n    }\n\n    .dataframe tbody tr th {\n        vertical-align: top;\n    }\n\n    .dataframe thead th {\n        text-align: right;\n    }\n</style>\n<table border=\"1\" class=\"dataframe\">\n  <thead>\n    <tr style=\"text-align: right;\">\n      <th></th>\n      <th>vx</th>\n      <th>vy</th>\n      <th>vz</th>\n      <th>time</th>\n      <th>distance</th>\n    </tr>\n  </thead>\n  <tbody>\n    <tr>\n      <th>1824696</th>\n      <td>0.48</td>\n      <td>0.02</td>\n      <td>0.04</td>\n      <td>301</td>\n      <td>150.0</td>\n    </tr>\n    <tr>\n      <th>1824697</th>\n      <td>0.48</td>\n      <td>0.02</td>\n      <td>0.04</td>\n      <td>301</td>\n      <td>146.0</td>\n    </tr>\n    <tr>\n      <th>1824698</th>\n      <td>0.48</td>\n      <td>0.02</td>\n      <td>0.04</td>\n      <td>301</td>\n      <td>143.0</td>\n    </tr>\n    <tr>\n      <th>1824699</th>\n      <td>0.48</td>\n      <td>0.02</td>\n      <td>0.04</td>\n      <td>301</td>\n      <td>140.0</td>\n    </tr>\n    <tr>\n      <th>1824700</th>\n      <td>0.48</td>\n      <td>0.02</td>\n      <td>0.05</td>\n      <td>301</td>\n      <td>137.0</td>\n    </tr>\n  </tbody>\n</table>\n</div>"
     },
     "execution_count": 40,
     "metadata": {},
     "output_type": "execute_result"
    }
   ],
   "source": [
    "train_df.head()"
   ],
   "metadata": {
    "collapsed": false,
    "ExecuteTime": {
     "start_time": "2023-04-10T14:07:05.805240Z",
     "end_time": "2023-04-10T14:07:05.889748Z"
    }
   }
  },
  {
   "cell_type": "code",
   "execution_count": null,
   "outputs": [],
   "source": [
    "# set constraint for time"
   ],
   "metadata": {
    "collapsed": false
   }
  },
  {
   "cell_type": "code",
   "execution_count": null,
   "outputs": [],
   "source": [],
   "metadata": {
    "collapsed": false
   }
  },
  {
   "cell_type": "code",
   "execution_count": null,
   "outputs": [],
   "source": [],
   "metadata": {
    "collapsed": false
   }
  },
  {
   "cell_type": "code",
   "execution_count": 41,
   "outputs": [],
   "source": [
    "import sdv"
   ],
   "metadata": {
    "collapsed": false,
    "ExecuteTime": {
     "start_time": "2023-04-10T14:07:11.407303Z",
     "end_time": "2023-04-10T14:07:11.467792Z"
    }
   }
  },
  {
   "cell_type": "code",
   "execution_count": 42,
   "outputs": [
    {
     "name": "stdout",
     "output_type": "stream",
     "text": [
      "1.0.0\n"
     ]
    }
   ],
   "source": [
    "print(sdv.__version__)"
   ],
   "metadata": {
    "collapsed": false,
    "ExecuteTime": {
     "start_time": "2023-04-10T14:07:11.775781Z",
     "end_time": "2023-04-10T14:07:11.825253Z"
    }
   }
  },
  {
   "cell_type": "code",
   "execution_count": 43,
   "outputs": [],
   "source": [
    "from sdv.metadata import SingleTableMetadata\n",
    "\n",
    "metadata = SingleTableMetadata()"
   ],
   "metadata": {
    "collapsed": false,
    "ExecuteTime": {
     "start_time": "2023-04-10T14:07:16.261625Z",
     "end_time": "2023-04-10T14:07:16.274355Z"
    }
   }
  },
  {
   "cell_type": "code",
   "execution_count": 44,
   "outputs": [],
   "source": [
    "metadata.detect_from_dataframe(data=train_df)"
   ],
   "metadata": {
    "collapsed": false,
    "ExecuteTime": {
     "start_time": "2023-04-10T14:07:16.796703Z",
     "end_time": "2023-04-10T14:07:16.867294Z"
    }
   }
  },
  {
   "cell_type": "code",
   "execution_count": 45,
   "outputs": [
    {
     "data": {
      "text/plain": "{'columns': {'vx': {'sdtype': 'numerical'},\n  'vy': {'sdtype': 'numerical'},\n  'vz': {'sdtype': 'numerical'},\n  'time': {'sdtype': 'numerical'},\n  'distance': {'sdtype': 'numerical'}},\n 'METADATA_SPEC_VERSION': 'SINGLE_TABLE_V1'}"
     },
     "execution_count": 45,
     "metadata": {},
     "output_type": "execute_result"
    }
   ],
   "source": [
    "python_dict = metadata.to_dict()\n",
    "python_dict"
   ],
   "metadata": {
    "collapsed": false,
    "ExecuteTime": {
     "start_time": "2023-04-10T14:07:18.195988Z",
     "end_time": "2023-04-10T14:07:18.210774Z"
    }
   }
  },
  {
   "cell_type": "code",
   "execution_count": 40,
   "outputs": [],
   "source": [
    "# metadata.update_column(\n",
    "#     column_name='xyz_id',\n",
    "#     sdtype='id')\n",
    "# metadata.set_primary_key(column_name='xyz_id')"
   ],
   "metadata": {
    "collapsed": false,
    "ExecuteTime": {
     "start_time": "2023-04-06T15:32:15.792274Z",
     "end_time": "2023-04-06T15:32:15.796105Z"
    }
   }
  },
  {
   "cell_type": "code",
   "execution_count": 41,
   "outputs": [],
   "source": [
    "metadata.validate()"
   ],
   "metadata": {
    "collapsed": false,
    "ExecuteTime": {
     "start_time": "2023-04-06T15:32:16.236437Z",
     "end_time": "2023-04-06T15:32:16.247357Z"
    }
   }
  },
  {
   "cell_type": "code",
   "execution_count": 46,
   "outputs": [],
   "source": [
    "from sdv.single_table import CopulaGANSynthesizer"
   ],
   "metadata": {
    "collapsed": false,
    "ExecuteTime": {
     "start_time": "2023-04-10T14:07:35.324396Z",
     "end_time": "2023-04-10T14:07:35.329245Z"
    }
   }
  },
  {
   "cell_type": "code",
   "execution_count": 47,
   "outputs": [],
   "source": [
    "synthesizer = CopulaGANSynthesizer(metadata)\n",
    "synthesizer.fit(train_df)"
   ],
   "metadata": {
    "collapsed": false,
    "ExecuteTime": {
     "start_time": "2023-04-10T14:07:39.465965Z",
     "end_time": "2023-04-10T15:18:39.739256Z"
    }
   }
  },
  {
   "cell_type": "code",
   "execution_count": 48,
   "outputs": [],
   "source": [
    "synthetic_data = synthesizer.sample(num_rows=10)"
   ],
   "metadata": {
    "collapsed": false,
    "ExecuteTime": {
     "start_time": "2023-04-10T15:36:22.700977Z",
     "end_time": "2023-04-10T15:36:22.796797Z"
    }
   }
  },
  {
   "cell_type": "code",
   "execution_count": 49,
   "outputs": [
    {
     "data": {
      "text/plain": "Empty DataFrame\nColumns: [vx, vy, vz, time, distance]\nIndex: []",
      "text/html": "<div>\n<style scoped>\n    .dataframe tbody tr th:only-of-type {\n        vertical-align: middle;\n    }\n\n    .dataframe tbody tr th {\n        vertical-align: top;\n    }\n\n    .dataframe thead th {\n        text-align: right;\n    }\n</style>\n<table border=\"1\" class=\"dataframe\">\n  <thead>\n    <tr style=\"text-align: right;\">\n      <th></th>\n      <th>vx</th>\n      <th>vy</th>\n      <th>vz</th>\n      <th>time</th>\n      <th>distance</th>\n    </tr>\n  </thead>\n  <tbody>\n  </tbody>\n</table>\n</div>"
     },
     "execution_count": 49,
     "metadata": {},
     "output_type": "execute_result"
    }
   ],
   "source": [
    "synthetic_data[(synthetic_data[\"time\"]==302) & (synthetic_data[\"distance\"]==74)]"
   ],
   "metadata": {
    "collapsed": false,
    "ExecuteTime": {
     "start_time": "2023-04-10T15:36:23.652361Z",
     "end_time": "2023-04-10T15:36:23.733947Z"
    }
   }
  },
  {
   "cell_type": "code",
   "execution_count": 48,
   "outputs": [
    {
     "data": {
      "text/plain": "            vx    vy    vz  time  distance  xyz_id\n1872348   0.47  0.01  0.06   301      82.0   30164\n3291556   0.50 -0.02 -0.01   305      82.0   30164\n9728678   0.48  0.01  0.07   300      82.0   30164\n20727540  0.48  0.01  0.06   302      82.0   30164\n30155136  0.49 -0.02 -0.02   304      82.0   30164",
      "text/html": "<div>\n<style scoped>\n    .dataframe tbody tr th:only-of-type {\n        vertical-align: middle;\n    }\n\n    .dataframe tbody tr th {\n        vertical-align: top;\n    }\n\n    .dataframe thead th {\n        text-align: right;\n    }\n</style>\n<table border=\"1\" class=\"dataframe\">\n  <thead>\n    <tr style=\"text-align: right;\">\n      <th></th>\n      <th>vx</th>\n      <th>vy</th>\n      <th>vz</th>\n      <th>time</th>\n      <th>distance</th>\n      <th>xyz_id</th>\n    </tr>\n  </thead>\n  <tbody>\n    <tr>\n      <th>1872348</th>\n      <td>0.47</td>\n      <td>0.01</td>\n      <td>0.06</td>\n      <td>301</td>\n      <td>82.0</td>\n      <td>30164</td>\n    </tr>\n    <tr>\n      <th>3291556</th>\n      <td>0.50</td>\n      <td>-0.02</td>\n      <td>-0.01</td>\n      <td>305</td>\n      <td>82.0</td>\n      <td>30164</td>\n    </tr>\n    <tr>\n      <th>9728678</th>\n      <td>0.48</td>\n      <td>0.01</td>\n      <td>0.07</td>\n      <td>300</td>\n      <td>82.0</td>\n      <td>30164</td>\n    </tr>\n    <tr>\n      <th>20727540</th>\n      <td>0.48</td>\n      <td>0.01</td>\n      <td>0.06</td>\n      <td>302</td>\n      <td>82.0</td>\n      <td>30164</td>\n    </tr>\n    <tr>\n      <th>30155136</th>\n      <td>0.49</td>\n      <td>-0.02</td>\n      <td>-0.02</td>\n      <td>304</td>\n      <td>82.0</td>\n      <td>30164</td>\n    </tr>\n  </tbody>\n</table>\n</div>"
     },
     "execution_count": 48,
     "metadata": {},
     "output_type": "execute_result"
    }
   ],
   "source": [
    "train_df[(train_df[\"xyz_id\"]==30164)]"
   ],
   "metadata": {
    "collapsed": false,
    "ExecuteTime": {
     "start_time": "2023-04-07T23:47:09.115790Z",
     "end_time": "2023-04-07T23:47:09.159109Z"
    }
   }
  },
  {
   "cell_type": "code",
   "execution_count": 49,
   "outputs": [
    {
     "data": {
      "text/plain": "            vx    vy    vz  time  distance  xyz_id\n20680297  0.49 -0.00  0.04   302      74.0   22048\n20680307  0.48  0.01  0.03   302      74.0   29968\n20680358  0.50 -0.01  0.05   302      74.0   19654\n20680373  0.47  0.01  0.01   302      74.0   31534\n20680439  0.47  0.01  0.00   302      74.0   33100\n...        ...   ...   ...   ...       ...     ...\n20730085  0.53 -0.01  0.01   302      74.0   18357\n20730151  0.53 -0.02  0.00   302      74.0   19923\n20730218  0.54 -0.01 -0.00   302      74.0   22281\n20730225  0.50  0.02 -0.00   302      74.0   27825\n20730226  0.49  0.01  0.00   302      74.0   28617\n\n[533 rows x 6 columns]",
      "text/html": "<div>\n<style scoped>\n    .dataframe tbody tr th:only-of-type {\n        vertical-align: middle;\n    }\n\n    .dataframe tbody tr th {\n        vertical-align: top;\n    }\n\n    .dataframe thead th {\n        text-align: right;\n    }\n</style>\n<table border=\"1\" class=\"dataframe\">\n  <thead>\n    <tr style=\"text-align: right;\">\n      <th></th>\n      <th>vx</th>\n      <th>vy</th>\n      <th>vz</th>\n      <th>time</th>\n      <th>distance</th>\n      <th>xyz_id</th>\n    </tr>\n  </thead>\n  <tbody>\n    <tr>\n      <th>20680297</th>\n      <td>0.49</td>\n      <td>-0.00</td>\n      <td>0.04</td>\n      <td>302</td>\n      <td>74.0</td>\n      <td>22048</td>\n    </tr>\n    <tr>\n      <th>20680307</th>\n      <td>0.48</td>\n      <td>0.01</td>\n      <td>0.03</td>\n      <td>302</td>\n      <td>74.0</td>\n      <td>29968</td>\n    </tr>\n    <tr>\n      <th>20680358</th>\n      <td>0.50</td>\n      <td>-0.01</td>\n      <td>0.05</td>\n      <td>302</td>\n      <td>74.0</td>\n      <td>19654</td>\n    </tr>\n    <tr>\n      <th>20680373</th>\n      <td>0.47</td>\n      <td>0.01</td>\n      <td>0.01</td>\n      <td>302</td>\n      <td>74.0</td>\n      <td>31534</td>\n    </tr>\n    <tr>\n      <th>20680439</th>\n      <td>0.47</td>\n      <td>0.01</td>\n      <td>0.00</td>\n      <td>302</td>\n      <td>74.0</td>\n      <td>33100</td>\n    </tr>\n    <tr>\n      <th>...</th>\n      <td>...</td>\n      <td>...</td>\n      <td>...</td>\n      <td>...</td>\n      <td>...</td>\n      <td>...</td>\n    </tr>\n    <tr>\n      <th>20730085</th>\n      <td>0.53</td>\n      <td>-0.01</td>\n      <td>0.01</td>\n      <td>302</td>\n      <td>74.0</td>\n      <td>18357</td>\n    </tr>\n    <tr>\n      <th>20730151</th>\n      <td>0.53</td>\n      <td>-0.02</td>\n      <td>0.00</td>\n      <td>302</td>\n      <td>74.0</td>\n      <td>19923</td>\n    </tr>\n    <tr>\n      <th>20730218</th>\n      <td>0.54</td>\n      <td>-0.01</td>\n      <td>-0.00</td>\n      <td>302</td>\n      <td>74.0</td>\n      <td>22281</td>\n    </tr>\n    <tr>\n      <th>20730225</th>\n      <td>0.50</td>\n      <td>0.02</td>\n      <td>-0.00</td>\n      <td>302</td>\n      <td>74.0</td>\n      <td>27825</td>\n    </tr>\n    <tr>\n      <th>20730226</th>\n      <td>0.49</td>\n      <td>0.01</td>\n      <td>0.00</td>\n      <td>302</td>\n      <td>74.0</td>\n      <td>28617</td>\n    </tr>\n  </tbody>\n</table>\n<p>533 rows × 6 columns</p>\n</div>"
     },
     "execution_count": 49,
     "metadata": {},
     "output_type": "execute_result"
    }
   ],
   "source": [
    "train_df[(train_df[\"time\"]==302) & (train_df[\"distance\"]==74)]"
   ],
   "metadata": {
    "collapsed": false,
    "ExecuteTime": {
     "start_time": "2023-04-07T23:48:00.454280Z",
     "end_time": "2023-04-07T23:48:00.502238Z"
    }
   }
  },
  {
   "cell_type": "code",
   "execution_count": 50,
   "outputs": [],
   "source": [
    "synthesizer.save(\n",
    "    filepath=f\"temp/3p6-learned-1.pkl\"\n",
    ")"
   ],
   "metadata": {
    "collapsed": false,
    "ExecuteTime": {
     "start_time": "2023-04-10T15:36:34.369850Z",
     "end_time": "2023-04-10T15:36:34.459837Z"
    }
   }
  },
  {
   "cell_type": "code",
   "execution_count": 51,
   "outputs": [],
   "source": [
    "synthesizer_saved = CopulaGANSynthesizer.load(\n",
    "    filepath=f\"temp/3p6-learned-1.pkl\"\n",
    ")"
   ],
   "metadata": {
    "collapsed": false,
    "ExecuteTime": {
     "start_time": "2023-04-10T15:36:52.973797Z",
     "end_time": "2023-04-10T15:36:53.071624Z"
    }
   }
  },
  {
   "cell_type": "code",
   "execution_count": 52,
   "outputs": [],
   "source": [
    "from sdv.sampling import Condition"
   ],
   "metadata": {
    "collapsed": false,
    "ExecuteTime": {
     "start_time": "2023-04-10T15:36:58.057790Z",
     "end_time": "2023-04-10T15:36:58.064223Z"
    }
   }
  },
  {
   "cell_type": "markdown",
   "source": [],
   "metadata": {
    "collapsed": false
   }
  },
  {
   "cell_type": "markdown",
   "source": [],
   "metadata": {
    "collapsed": false
   }
  },
  {
   "cell_type": "code",
   "execution_count": 62,
   "outputs": [],
   "source": [
    "generate_test_data = Condition(\n",
    "    num_rows=20,\n",
    "    column_values={'time': 301, 'distance': 82}\n",
    ")\n"
   ],
   "metadata": {
    "collapsed": false,
    "ExecuteTime": {
     "start_time": "2023-04-10T19:14:22.145678Z",
     "end_time": "2023-04-10T19:14:22.196059Z"
    }
   }
  },
  {
   "cell_type": "code",
   "execution_count": 63,
   "outputs": [
    {
     "name": "stderr",
     "output_type": "stream",
     "text": [
      "Sampling conditions: 100%|██████████| 20/20 [00:00<00:00, 20.06it/s]\n"
     ]
    }
   ],
   "source": [
    "synthetic_data = synthesizer_saved.sample_from_conditions(\n",
    "    conditions=[generate_test_data],\n",
    "    output_file_path=f\"result/test1.csv\"\n",
    ")"
   ],
   "metadata": {
    "collapsed": false,
    "ExecuteTime": {
     "start_time": "2023-04-10T19:14:23.679130Z",
     "end_time": "2023-04-10T19:14:24.691135Z"
    }
   }
  },
  {
   "cell_type": "code",
   "execution_count": 61,
   "outputs": [
    {
     "data": {
      "text/plain": "           vx    vy    vz  time  distance\n1824916  0.49  0.01  0.05   301      82.0\n1824917  0.49  0.01  0.06   301      82.0\n1824918  0.49  0.01  0.06   301      82.0\n1824919  0.49  0.01  0.07   301      82.0\n1824988  0.48  0.01  0.04   301      82.0\n...       ...   ...   ...   ...       ...\n1874977  0.49 -0.03  0.09   301      82.0\n1875020  0.52 -0.02  0.01   301      82.0\n1875086  0.52 -0.03 -0.00   301      82.0\n1875152  0.52 -0.03  0.00   301      82.0\n1875163  0.47  0.00  0.05   301      82.0\n\n[581 rows x 5 columns]",
      "text/html": "<div>\n<style scoped>\n    .dataframe tbody tr th:only-of-type {\n        vertical-align: middle;\n    }\n\n    .dataframe tbody tr th {\n        vertical-align: top;\n    }\n\n    .dataframe thead th {\n        text-align: right;\n    }\n</style>\n<table border=\"1\" class=\"dataframe\">\n  <thead>\n    <tr style=\"text-align: right;\">\n      <th></th>\n      <th>vx</th>\n      <th>vy</th>\n      <th>vz</th>\n      <th>time</th>\n      <th>distance</th>\n    </tr>\n  </thead>\n  <tbody>\n    <tr>\n      <th>1824916</th>\n      <td>0.49</td>\n      <td>0.01</td>\n      <td>0.05</td>\n      <td>301</td>\n      <td>82.0</td>\n    </tr>\n    <tr>\n      <th>1824917</th>\n      <td>0.49</td>\n      <td>0.01</td>\n      <td>0.06</td>\n      <td>301</td>\n      <td>82.0</td>\n    </tr>\n    <tr>\n      <th>1824918</th>\n      <td>0.49</td>\n      <td>0.01</td>\n      <td>0.06</td>\n      <td>301</td>\n      <td>82.0</td>\n    </tr>\n    <tr>\n      <th>1824919</th>\n      <td>0.49</td>\n      <td>0.01</td>\n      <td>0.07</td>\n      <td>301</td>\n      <td>82.0</td>\n    </tr>\n    <tr>\n      <th>1824988</th>\n      <td>0.48</td>\n      <td>0.01</td>\n      <td>0.04</td>\n      <td>301</td>\n      <td>82.0</td>\n    </tr>\n    <tr>\n      <th>...</th>\n      <td>...</td>\n      <td>...</td>\n      <td>...</td>\n      <td>...</td>\n      <td>...</td>\n    </tr>\n    <tr>\n      <th>1874977</th>\n      <td>0.49</td>\n      <td>-0.03</td>\n      <td>0.09</td>\n      <td>301</td>\n      <td>82.0</td>\n    </tr>\n    <tr>\n      <th>1875020</th>\n      <td>0.52</td>\n      <td>-0.02</td>\n      <td>0.01</td>\n      <td>301</td>\n      <td>82.0</td>\n    </tr>\n    <tr>\n      <th>1875086</th>\n      <td>0.52</td>\n      <td>-0.03</td>\n      <td>-0.00</td>\n      <td>301</td>\n      <td>82.0</td>\n    </tr>\n    <tr>\n      <th>1875152</th>\n      <td>0.52</td>\n      <td>-0.03</td>\n      <td>0.00</td>\n      <td>301</td>\n      <td>82.0</td>\n    </tr>\n    <tr>\n      <th>1875163</th>\n      <td>0.47</td>\n      <td>0.00</td>\n      <td>0.05</td>\n      <td>301</td>\n      <td>82.0</td>\n    </tr>\n  </tbody>\n</table>\n<p>581 rows × 5 columns</p>\n</div>"
     },
     "execution_count": 61,
     "metadata": {},
     "output_type": "execute_result"
    }
   ],
   "source": [
    "train_df[(train_df[\"time\"]==301) & (train_df[\"distance\"]==82)]"
   ],
   "metadata": {
    "collapsed": false,
    "ExecuteTime": {
     "start_time": "2023-04-10T19:13:32.667732Z",
     "end_time": "2023-04-10T19:13:32.725151Z"
    }
   }
  },
  {
   "cell_type": "code",
   "execution_count": 66,
   "outputs": [
    {
     "data": {
      "text/plain": "            vx    vy    vz  time  distance\n25697802  0.48  0.01  0.03   303     150.0\n25697803  0.48  0.01  0.03   303     146.0\n25697804  0.47  0.01  0.03   303     143.0\n25697805  0.47  0.01  0.03   303     140.0\n25697806  0.47  0.02  0.03   303     137.0\n...        ...   ...   ...   ...       ...\n25748483  0.47 -0.01  0.06   303     141.0\n25748484  0.46 -0.01  0.06   303     144.0\n25748485  0.46 -0.01  0.06   303     147.0\n25748486  0.46 -0.01  0.05   303     151.0\n25748487  0.46 -0.01  0.05   303     154.0\n\n[50686 rows x 5 columns]",
      "text/html": "<div>\n<style scoped>\n    .dataframe tbody tr th:only-of-type {\n        vertical-align: middle;\n    }\n\n    .dataframe tbody tr th {\n        vertical-align: top;\n    }\n\n    .dataframe thead th {\n        text-align: right;\n    }\n</style>\n<table border=\"1\" class=\"dataframe\">\n  <thead>\n    <tr style=\"text-align: right;\">\n      <th></th>\n      <th>vx</th>\n      <th>vy</th>\n      <th>vz</th>\n      <th>time</th>\n      <th>distance</th>\n    </tr>\n  </thead>\n  <tbody>\n    <tr>\n      <th>25697802</th>\n      <td>0.48</td>\n      <td>0.01</td>\n      <td>0.03</td>\n      <td>303</td>\n      <td>150.0</td>\n    </tr>\n    <tr>\n      <th>25697803</th>\n      <td>0.48</td>\n      <td>0.01</td>\n      <td>0.03</td>\n      <td>303</td>\n      <td>146.0</td>\n    </tr>\n    <tr>\n      <th>25697804</th>\n      <td>0.47</td>\n      <td>0.01</td>\n      <td>0.03</td>\n      <td>303</td>\n      <td>143.0</td>\n    </tr>\n    <tr>\n      <th>25697805</th>\n      <td>0.47</td>\n      <td>0.01</td>\n      <td>0.03</td>\n      <td>303</td>\n      <td>140.0</td>\n    </tr>\n    <tr>\n      <th>25697806</th>\n      <td>0.47</td>\n      <td>0.02</td>\n      <td>0.03</td>\n      <td>303</td>\n      <td>137.0</td>\n    </tr>\n    <tr>\n      <th>...</th>\n      <td>...</td>\n      <td>...</td>\n      <td>...</td>\n      <td>...</td>\n      <td>...</td>\n    </tr>\n    <tr>\n      <th>25748483</th>\n      <td>0.47</td>\n      <td>-0.01</td>\n      <td>0.06</td>\n      <td>303</td>\n      <td>141.0</td>\n    </tr>\n    <tr>\n      <th>25748484</th>\n      <td>0.46</td>\n      <td>-0.01</td>\n      <td>0.06</td>\n      <td>303</td>\n      <td>144.0</td>\n    </tr>\n    <tr>\n      <th>25748485</th>\n      <td>0.46</td>\n      <td>-0.01</td>\n      <td>0.06</td>\n      <td>303</td>\n      <td>147.0</td>\n    </tr>\n    <tr>\n      <th>25748486</th>\n      <td>0.46</td>\n      <td>-0.01</td>\n      <td>0.05</td>\n      <td>303</td>\n      <td>151.0</td>\n    </tr>\n    <tr>\n      <th>25748487</th>\n      <td>0.46</td>\n      <td>-0.01</td>\n      <td>0.05</td>\n      <td>303</td>\n      <td>154.0</td>\n    </tr>\n  </tbody>\n</table>\n<p>50686 rows × 5 columns</p>\n</div>"
     },
     "execution_count": 66,
     "metadata": {},
     "output_type": "execute_result"
    }
   ],
   "source": [
    "test_df"
   ],
   "metadata": {
    "collapsed": false,
    "ExecuteTime": {
     "start_time": "2023-04-10T19:16:48.246672Z",
     "end_time": "2023-04-10T19:16:48.293597Z"
    }
   }
  },
  {
   "cell_type": "code",
   "execution_count": 69,
   "outputs": [
    {
     "data": {
      "text/plain": "      vx    vy    vz  time  distance\n0   0.28 -0.02  0.04   301        82\n1   0.42  0.01  0.04   301        82\n2   0.62 -0.02  0.01   301        82\n3   0.49  0.04  0.04   301        82\n4   0.50  0.01  0.01   301        82\n5   0.23 -0.07  0.04   301        82\n6   0.48  0.06  0.07   301        82\n7   0.48  0.03  0.06   301        82\n8   0.50 -0.04  0.05   301        82\n9   0.49 -0.03  0.02   301        82\n10  0.48  0.03  0.02   301        82\n11  0.47  0.00  0.03   301        82\n12  0.45  0.02  0.03   301        82\n13  0.49  0.04  0.02   301        82\n14  0.47  0.03  0.04   301        82\n15  0.49  0.01  0.01   301        82\n16  0.48  0.03  0.02   301        82\n17  0.41  0.01 -0.01   301        82\n18  0.50  0.01  0.04   301        82\n19  0.48 -0.00  0.07   301        82",
      "text/html": "<div>\n<style scoped>\n    .dataframe tbody tr th:only-of-type {\n        vertical-align: middle;\n    }\n\n    .dataframe tbody tr th {\n        vertical-align: top;\n    }\n\n    .dataframe thead th {\n        text-align: right;\n    }\n</style>\n<table border=\"1\" class=\"dataframe\">\n  <thead>\n    <tr style=\"text-align: right;\">\n      <th></th>\n      <th>vx</th>\n      <th>vy</th>\n      <th>vz</th>\n      <th>time</th>\n      <th>distance</th>\n    </tr>\n  </thead>\n  <tbody>\n    <tr>\n      <th>0</th>\n      <td>0.28</td>\n      <td>-0.02</td>\n      <td>0.04</td>\n      <td>301</td>\n      <td>82</td>\n    </tr>\n    <tr>\n      <th>1</th>\n      <td>0.42</td>\n      <td>0.01</td>\n      <td>0.04</td>\n      <td>301</td>\n      <td>82</td>\n    </tr>\n    <tr>\n      <th>2</th>\n      <td>0.62</td>\n      <td>-0.02</td>\n      <td>0.01</td>\n      <td>301</td>\n      <td>82</td>\n    </tr>\n    <tr>\n      <th>3</th>\n      <td>0.49</td>\n      <td>0.04</td>\n      <td>0.04</td>\n      <td>301</td>\n      <td>82</td>\n    </tr>\n    <tr>\n      <th>4</th>\n      <td>0.50</td>\n      <td>0.01</td>\n      <td>0.01</td>\n      <td>301</td>\n      <td>82</td>\n    </tr>\n    <tr>\n      <th>5</th>\n      <td>0.23</td>\n      <td>-0.07</td>\n      <td>0.04</td>\n      <td>301</td>\n      <td>82</td>\n    </tr>\n    <tr>\n      <th>6</th>\n      <td>0.48</td>\n      <td>0.06</td>\n      <td>0.07</td>\n      <td>301</td>\n      <td>82</td>\n    </tr>\n    <tr>\n      <th>7</th>\n      <td>0.48</td>\n      <td>0.03</td>\n      <td>0.06</td>\n      <td>301</td>\n      <td>82</td>\n    </tr>\n    <tr>\n      <th>8</th>\n      <td>0.50</td>\n      <td>-0.04</td>\n      <td>0.05</td>\n      <td>301</td>\n      <td>82</td>\n    </tr>\n    <tr>\n      <th>9</th>\n      <td>0.49</td>\n      <td>-0.03</td>\n      <td>0.02</td>\n      <td>301</td>\n      <td>82</td>\n    </tr>\n    <tr>\n      <th>10</th>\n      <td>0.48</td>\n      <td>0.03</td>\n      <td>0.02</td>\n      <td>301</td>\n      <td>82</td>\n    </tr>\n    <tr>\n      <th>11</th>\n      <td>0.47</td>\n      <td>0.00</td>\n      <td>0.03</td>\n      <td>301</td>\n      <td>82</td>\n    </tr>\n    <tr>\n      <th>12</th>\n      <td>0.45</td>\n      <td>0.02</td>\n      <td>0.03</td>\n      <td>301</td>\n      <td>82</td>\n    </tr>\n    <tr>\n      <th>13</th>\n      <td>0.49</td>\n      <td>0.04</td>\n      <td>0.02</td>\n      <td>301</td>\n      <td>82</td>\n    </tr>\n    <tr>\n      <th>14</th>\n      <td>0.47</td>\n      <td>0.03</td>\n      <td>0.04</td>\n      <td>301</td>\n      <td>82</td>\n    </tr>\n    <tr>\n      <th>15</th>\n      <td>0.49</td>\n      <td>0.01</td>\n      <td>0.01</td>\n      <td>301</td>\n      <td>82</td>\n    </tr>\n    <tr>\n      <th>16</th>\n      <td>0.48</td>\n      <td>0.03</td>\n      <td>0.02</td>\n      <td>301</td>\n      <td>82</td>\n    </tr>\n    <tr>\n      <th>17</th>\n      <td>0.41</td>\n      <td>0.01</td>\n      <td>-0.01</td>\n      <td>301</td>\n      <td>82</td>\n    </tr>\n    <tr>\n      <th>18</th>\n      <td>0.50</td>\n      <td>0.01</td>\n      <td>0.04</td>\n      <td>301</td>\n      <td>82</td>\n    </tr>\n    <tr>\n      <th>19</th>\n      <td>0.48</td>\n      <td>-0.00</td>\n      <td>0.07</td>\n      <td>301</td>\n      <td>82</td>\n    </tr>\n  </tbody>\n</table>\n</div>"
     },
     "execution_count": 69,
     "metadata": {},
     "output_type": "execute_result"
    }
   ],
   "source": [
    "synthetic_data"
   ],
   "metadata": {
    "collapsed": false,
    "ExecuteTime": {
     "start_time": "2023-04-10T19:24:36.260966Z",
     "end_time": "2023-04-10T19:24:36.286094Z"
    }
   }
  },
  {
   "cell_type": "code",
   "execution_count": 93,
   "outputs": [
    {
     "name": "stderr",
     "output_type": "stream",
     "text": [
      "Sampling conditions: 100%|██████████| 1/1 [00:10<00:00, 10.38s/it]\n",
      "Sampling conditions: 100%|██████████| 1/1 [00:03<00:00,  3.76s/it]\n",
      "Sampling conditions: 100%|██████████| 1/1 [00:12<00:00, 12.45s/it]"
     ]
    },
    {
     "name": "stdout",
     "output_type": "stream",
     "text": [
      "[     vx    vy    vz  time  distance      x     y     z        id\n",
      "0  0.48  0.08 -0.01   301     150.0 -117.0  87.0 -33.0  25697802,     vx    vy    vz  time  distance      x     y     z        id\n",
      "0  0.5 -0.02  0.01   301     146.0 -113.0  87.0 -33.0  25697803,      vx    vy    vz  time  distance      x     y     z        id\n",
      "0  0.48  0.06  0.09   301     143.0 -109.0  87.0 -33.0  25697804]\n"
     ]
    },
    {
     "name": "stderr",
     "output_type": "stream",
     "text": [
      "\n"
     ]
    }
   ],
   "source": [
    "data = []\n",
    "# try:\n",
    "for i in range(3):\n",
    "    idx = i+25697802\n",
    "    generate_test_data = Condition(\n",
    "    num_rows=1,\n",
    "    column_values={'time': 301, 'distance': test_df.loc[idx][\"distance\"]})\n",
    "    synthetic_data = synthesizer_saved.sample_from_conditions(\n",
    "    conditions=[generate_test_data], max_tries_per_batch=2500)\n",
    "    synthetic_data[\"x\"] = df.loc[idx][\"x\"]\n",
    "    synthetic_data[\"y\"] = df.loc[idx][\"y\"]\n",
    "    synthetic_data[\"z\"] = df.loc[idx][\"z\"]\n",
    "    synthetic_data[\"id\"] = idx\n",
    "    data.append(synthetic_data)\n",
    "# except:\n",
    "#     # print(data)\n",
    "#     pass\n",
    "\n",
    "print(data)\n",
    "df_result = pd.concat(data, ignore_index=True)\n",
    "df_result.columns=[\"vx\",\"vy\",\"vz\",\"time\",\"distance\",\"x\",\"y\",\"z\",\"id\"]\n",
    "df_result.to_csv(f\"result/total.csv\")\n"
   ],
   "metadata": {
    "collapsed": false,
    "ExecuteTime": {
     "start_time": "2023-04-10T19:42:54.697991Z",
     "end_time": "2023-04-10T19:43:21.334793Z"
    }
   }
  },
  {
   "cell_type": "code",
   "execution_count": 94,
   "outputs": [
    {
     "data": {
      "text/plain": "     vx    vy    vz  time  distance      x     y     z        id\n0  0.48  0.08 -0.01   301     150.0 -117.0  87.0 -33.0  25697802\n1  0.50 -0.02  0.01   301     146.0 -113.0  87.0 -33.0  25697803\n2  0.48  0.06  0.09   301     143.0 -109.0  87.0 -33.0  25697804",
      "text/html": "<div>\n<style scoped>\n    .dataframe tbody tr th:only-of-type {\n        vertical-align: middle;\n    }\n\n    .dataframe tbody tr th {\n        vertical-align: top;\n    }\n\n    .dataframe thead th {\n        text-align: right;\n    }\n</style>\n<table border=\"1\" class=\"dataframe\">\n  <thead>\n    <tr style=\"text-align: right;\">\n      <th></th>\n      <th>vx</th>\n      <th>vy</th>\n      <th>vz</th>\n      <th>time</th>\n      <th>distance</th>\n      <th>x</th>\n      <th>y</th>\n      <th>z</th>\n      <th>id</th>\n    </tr>\n  </thead>\n  <tbody>\n    <tr>\n      <th>0</th>\n      <td>0.48</td>\n      <td>0.08</td>\n      <td>-0.01</td>\n      <td>301</td>\n      <td>150.0</td>\n      <td>-117.0</td>\n      <td>87.0</td>\n      <td>-33.0</td>\n      <td>25697802</td>\n    </tr>\n    <tr>\n      <th>1</th>\n      <td>0.50</td>\n      <td>-0.02</td>\n      <td>0.01</td>\n      <td>301</td>\n      <td>146.0</td>\n      <td>-113.0</td>\n      <td>87.0</td>\n      <td>-33.0</td>\n      <td>25697803</td>\n    </tr>\n    <tr>\n      <th>2</th>\n      <td>0.48</td>\n      <td>0.06</td>\n      <td>0.09</td>\n      <td>301</td>\n      <td>143.0</td>\n      <td>-109.0</td>\n      <td>87.0</td>\n      <td>-33.0</td>\n      <td>25697804</td>\n    </tr>\n  </tbody>\n</table>\n</div>"
     },
     "execution_count": 94,
     "metadata": {},
     "output_type": "execute_result"
    }
   ],
   "source": [
    "df.tes"
   ],
   "metadata": {
    "collapsed": false,
    "ExecuteTime": {
     "start_time": "2023-04-10T19:43:31.548705Z",
     "end_time": "2023-04-10T19:43:31.569135Z"
    }
   }
  },
  {
   "cell_type": "code",
   "execution_count": 87,
   "outputs": [
    {
     "name": "stderr",
     "output_type": "stream",
     "text": [
      "Sampling conditions: 100%|██████████| 1/1 [00:00<00:00,  1.68it/s]\n"
     ]
    }
   ],
   "source": [
    "generate_test_data = Condition(\n",
    "    num_rows=1,\n",
    "    column_values={'time': 301, 'distance': 150})\n",
    "synthetic_data = synthesizer_saved.sample_from_conditions(\n",
    "    conditions=[generate_test_data],max_tries_per_batch=1000)\n",
    "synthetic_data[\"x\"] = 2\n",
    "synthetic_data[\"y\"] = 2\n",
    "synthetic_data[\"z\"] = 6\n",
    "synthetic_data[\"id\"] = 6"
   ],
   "metadata": {
    "collapsed": false,
    "ExecuteTime": {
     "start_time": "2023-04-10T19:39:23.904565Z",
     "end_time": "2023-04-10T19:39:24.518115Z"
    }
   }
  },
  {
   "cell_type": "code",
   "execution_count": 88,
   "outputs": [
    {
     "data": {
      "text/plain": "    vx    vy    vz  time  distance  x  y  z  id\n0  0.5  0.03 -0.04   301       150  2  2  6   6",
      "text/html": "<div>\n<style scoped>\n    .dataframe tbody tr th:only-of-type {\n        vertical-align: middle;\n    }\n\n    .dataframe tbody tr th {\n        vertical-align: top;\n    }\n\n    .dataframe thead th {\n        text-align: right;\n    }\n</style>\n<table border=\"1\" class=\"dataframe\">\n  <thead>\n    <tr style=\"text-align: right;\">\n      <th></th>\n      <th>vx</th>\n      <th>vy</th>\n      <th>vz</th>\n      <th>time</th>\n      <th>distance</th>\n      <th>x</th>\n      <th>y</th>\n      <th>z</th>\n      <th>id</th>\n    </tr>\n  </thead>\n  <tbody>\n    <tr>\n      <th>0</th>\n      <td>0.5</td>\n      <td>0.03</td>\n      <td>-0.04</td>\n      <td>301</td>\n      <td>150</td>\n      <td>2</td>\n      <td>2</td>\n      <td>6</td>\n      <td>6</td>\n    </tr>\n  </tbody>\n</table>\n</div>"
     },
     "execution_count": 88,
     "metadata": {},
     "output_type": "execute_result"
    }
   ],
   "source": [
    "synthetic_data.head()"
   ],
   "metadata": {
    "collapsed": false,
    "ExecuteTime": {
     "start_time": "2023-04-10T19:39:27.476241Z",
     "end_time": "2023-04-10T19:39:27.514282Z"
    }
   }
  },
  {
   "cell_type": "code",
   "execution_count": null,
   "outputs": [],
   "source": [],
   "metadata": {
    "collapsed": false
   }
  }
 ],
 "metadata": {
  "kernelspec": {
   "display_name": "Python 3",
   "language": "python",
   "name": "python3"
  },
  "language_info": {
   "codemirror_mode": {
    "name": "ipython",
    "version": 2
   },
   "file_extension": ".py",
   "mimetype": "text/x-python",
   "name": "python",
   "nbconvert_exporter": "python",
   "pygments_lexer": "ipython2",
   "version": "2.7.6"
  }
 },
 "nbformat": 4,
 "nbformat_minor": 0
}
