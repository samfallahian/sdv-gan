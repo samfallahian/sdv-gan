{
 "cells": [
  {
   "cell_type": "code",
   "execution_count": 1,
   "metadata": {
    "collapsed": true,
    "ExecuteTime": {
     "start_time": "2023-04-06T12:33:21.404207Z",
     "end_time": "2023-04-06T12:33:21.761176Z"
    }
   },
   "outputs": [],
   "source": [
    "import pandas as pd\n",
    "import numpy as np"
   ]
  },
  {
   "cell_type": "code",
   "execution_count": 2,
   "outputs": [],
   "source": [
    "df = pd.read_pickle(f\"dataset/3p6-selected.pkl\", compression='zip')"
   ],
   "metadata": {
    "collapsed": false,
    "ExecuteTime": {
     "start_time": "2023-04-06T12:33:34.398623Z",
     "end_time": "2023-04-06T12:33:34.534941Z"
    }
   }
  },
  {
   "cell_type": "code",
   "execution_count": 3,
   "outputs": [],
   "source": [
    "df['xyz_id'] = df.groupby(['x', 'y', 'z']).ngroup()"
   ],
   "metadata": {
    "collapsed": false,
    "ExecuteTime": {
     "start_time": "2023-04-06T12:33:40.539295Z",
     "end_time": "2023-04-06T12:33:40.628817Z"
    }
   }
  },
  {
   "cell_type": "code",
   "execution_count": 4,
   "outputs": [
    {
     "data": {
      "text/plain": "             x     y     z    vx    vy    vz    px    py    pz  time  \\\n1824696 -117.0  87.0 -33.0  0.48  0.02  0.04 -0.57 -0.11 -2.17   301   \n1824697 -113.0  87.0 -33.0  0.48  0.02  0.04 -0.50 -0.40 -2.10   301   \n1824698 -109.0  87.0 -33.0  0.48  0.02  0.04 -0.45 -0.58 -2.01   301   \n1824699 -105.0  87.0 -33.0  0.48  0.02  0.04 -0.42 -0.67 -1.91   301   \n1824700 -101.0  87.0 -33.0  0.48  0.02  0.05 -0.36 -0.69 -1.80   301   \n\n         distance  xyz_id  \n1824696     150.0    2356  \n1824697     146.0    3148  \n1824698     143.0    3940  \n1824699     140.0    4732  \n1824700     137.0    5524  ",
      "text/html": "<div>\n<style scoped>\n    .dataframe tbody tr th:only-of-type {\n        vertical-align: middle;\n    }\n\n    .dataframe tbody tr th {\n        vertical-align: top;\n    }\n\n    .dataframe thead th {\n        text-align: right;\n    }\n</style>\n<table border=\"1\" class=\"dataframe\">\n  <thead>\n    <tr style=\"text-align: right;\">\n      <th></th>\n      <th>x</th>\n      <th>y</th>\n      <th>z</th>\n      <th>vx</th>\n      <th>vy</th>\n      <th>vz</th>\n      <th>px</th>\n      <th>py</th>\n      <th>pz</th>\n      <th>time</th>\n      <th>distance</th>\n      <th>xyz_id</th>\n    </tr>\n  </thead>\n  <tbody>\n    <tr>\n      <th>1824696</th>\n      <td>-117.0</td>\n      <td>87.0</td>\n      <td>-33.0</td>\n      <td>0.48</td>\n      <td>0.02</td>\n      <td>0.04</td>\n      <td>-0.57</td>\n      <td>-0.11</td>\n      <td>-2.17</td>\n      <td>301</td>\n      <td>150.0</td>\n      <td>2356</td>\n    </tr>\n    <tr>\n      <th>1824697</th>\n      <td>-113.0</td>\n      <td>87.0</td>\n      <td>-33.0</td>\n      <td>0.48</td>\n      <td>0.02</td>\n      <td>0.04</td>\n      <td>-0.50</td>\n      <td>-0.40</td>\n      <td>-2.10</td>\n      <td>301</td>\n      <td>146.0</td>\n      <td>3148</td>\n    </tr>\n    <tr>\n      <th>1824698</th>\n      <td>-109.0</td>\n      <td>87.0</td>\n      <td>-33.0</td>\n      <td>0.48</td>\n      <td>0.02</td>\n      <td>0.04</td>\n      <td>-0.45</td>\n      <td>-0.58</td>\n      <td>-2.01</td>\n      <td>301</td>\n      <td>143.0</td>\n      <td>3940</td>\n    </tr>\n    <tr>\n      <th>1824699</th>\n      <td>-105.0</td>\n      <td>87.0</td>\n      <td>-33.0</td>\n      <td>0.48</td>\n      <td>0.02</td>\n      <td>0.04</td>\n      <td>-0.42</td>\n      <td>-0.67</td>\n      <td>-1.91</td>\n      <td>301</td>\n      <td>140.0</td>\n      <td>4732</td>\n    </tr>\n    <tr>\n      <th>1824700</th>\n      <td>-101.0</td>\n      <td>87.0</td>\n      <td>-33.0</td>\n      <td>0.48</td>\n      <td>0.02</td>\n      <td>0.05</td>\n      <td>-0.36</td>\n      <td>-0.69</td>\n      <td>-1.80</td>\n      <td>301</td>\n      <td>137.0</td>\n      <td>5524</td>\n    </tr>\n  </tbody>\n</table>\n</div>"
     },
     "execution_count": 4,
     "metadata": {},
     "output_type": "execute_result"
    }
   ],
   "source": [
    "df.head()"
   ],
   "metadata": {
    "collapsed": false,
    "ExecuteTime": {
     "start_time": "2023-04-06T12:33:41.622697Z",
     "end_time": "2023-04-06T12:33:41.671950Z"
    }
   }
  },
  {
   "cell_type": "code",
   "execution_count": 5,
   "outputs": [
    {
     "data": {
      "text/plain": "(304116, 12)"
     },
     "execution_count": 5,
     "metadata": {},
     "output_type": "execute_result"
    }
   ],
   "source": [
    "df.shape"
   ],
   "metadata": {
    "collapsed": false,
    "ExecuteTime": {
     "start_time": "2023-04-06T12:33:42.651992Z",
     "end_time": "2023-04-06T12:33:42.672913Z"
    }
   }
  },
  {
   "cell_type": "code",
   "execution_count": 6,
   "outputs": [
    {
     "data": {
      "text/plain": "array([301, 305, 300, 302, 303, 304])"
     },
     "execution_count": 6,
     "metadata": {},
     "output_type": "execute_result"
    }
   ],
   "source": [
    "df.time.unique()"
   ],
   "metadata": {
    "collapsed": false,
    "ExecuteTime": {
     "start_time": "2023-04-06T12:33:45.695527Z",
     "end_time": "2023-04-06T12:33:45.717447Z"
    }
   }
  },
  {
   "cell_type": "code",
   "execution_count": 7,
   "outputs": [],
   "source": [
    "train_df = df[df[\"time\"] != 303]\n",
    "train_df = train_df.drop(columns=[\"x\",\"y\",\"z\",\"px\",\"py\",\"pz\"], axis=1)"
   ],
   "metadata": {
    "collapsed": false,
    "ExecuteTime": {
     "start_time": "2023-04-06T12:33:51.072563Z",
     "end_time": "2023-04-06T12:33:51.133122Z"
    }
   }
  },
  {
   "cell_type": "code",
   "execution_count": 8,
   "outputs": [],
   "source": [
    "test_df = df[df[\"time\"] == 303]\n",
    "test_df = test_df.drop(columns=[\"x\",\"y\",\"z\",\"px\",\"py\",\"pz\"], axis=1)"
   ],
   "metadata": {
    "collapsed": false,
    "ExecuteTime": {
     "start_time": "2023-04-06T12:33:51.656642Z",
     "end_time": "2023-04-06T12:33:51.674968Z"
    }
   }
  },
  {
   "cell_type": "code",
   "execution_count": 9,
   "outputs": [
    {
     "data": {
      "text/plain": "((253430, 6), (50686, 6))"
     },
     "execution_count": 9,
     "metadata": {},
     "output_type": "execute_result"
    }
   ],
   "source": [
    "train_df.shape, test_df.shape"
   ],
   "metadata": {
    "collapsed": false,
    "ExecuteTime": {
     "start_time": "2023-04-06T12:33:52.214565Z",
     "end_time": "2023-04-06T12:33:52.224326Z"
    }
   }
  },
  {
   "cell_type": "code",
   "execution_count": 10,
   "outputs": [
    {
     "data": {
      "text/plain": "50686"
     },
     "execution_count": 10,
     "metadata": {},
     "output_type": "execute_result"
    }
   ],
   "source": [
    "df[['x', 'y', 'z']].drop_duplicates().count()[0]"
   ],
   "metadata": {
    "collapsed": false,
    "ExecuteTime": {
     "start_time": "2023-04-06T12:33:55.871068Z",
     "end_time": "2023-04-06T12:33:55.927236Z"
    }
   }
  },
  {
   "cell_type": "code",
   "execution_count": 38,
   "outputs": [],
   "source": [
    "centroid = np.array([0, 0, 0])\n",
    "\n",
    "# calculate the Euclidean distance between each point and the centroid\n",
    "df['distance_from_centroid'] = np.sqrt(\n",
    "    (df['x'] - centroid[0])**2 +\n",
    "    (df['y'] - centroid[1])**2 +\n",
    "    (df['z'] - centroid[2])**2\n",
    ")\n"
   ],
   "metadata": {
    "collapsed": false
   }
  },
  {
   "cell_type": "code",
   "execution_count": 39,
   "outputs": [
    {
     "data": {
      "text/plain": "(155, 10387)"
     },
     "execution_count": 39,
     "metadata": {},
     "output_type": "execute_result"
    }
   ],
   "source": [
    "df['distance'].nunique(), df['distance_from_centroid'].nunique()"
   ],
   "metadata": {
    "collapsed": false
   }
  },
  {
   "cell_type": "code",
   "execution_count": 14,
   "outputs": [
    {
     "data": {
      "text/plain": "           vx    vy    vz  time  distance  xyz_id\n1824696  0.48  0.02  0.04   301     150.0    2356\n1824697  0.48  0.02  0.04   301     146.0    3148\n1824698  0.48  0.02  0.04   301     143.0    3940\n1824699  0.48  0.02  0.04   301     140.0    4732\n1824700  0.48  0.02  0.05   301     137.0    5524",
      "text/html": "<div>\n<style scoped>\n    .dataframe tbody tr th:only-of-type {\n        vertical-align: middle;\n    }\n\n    .dataframe tbody tr th {\n        vertical-align: top;\n    }\n\n    .dataframe thead th {\n        text-align: right;\n    }\n</style>\n<table border=\"1\" class=\"dataframe\">\n  <thead>\n    <tr style=\"text-align: right;\">\n      <th></th>\n      <th>vx</th>\n      <th>vy</th>\n      <th>vz</th>\n      <th>time</th>\n      <th>distance</th>\n      <th>xyz_id</th>\n    </tr>\n  </thead>\n  <tbody>\n    <tr>\n      <th>1824696</th>\n      <td>0.48</td>\n      <td>0.02</td>\n      <td>0.04</td>\n      <td>301</td>\n      <td>150.0</td>\n      <td>2356</td>\n    </tr>\n    <tr>\n      <th>1824697</th>\n      <td>0.48</td>\n      <td>0.02</td>\n      <td>0.04</td>\n      <td>301</td>\n      <td>146.0</td>\n      <td>3148</td>\n    </tr>\n    <tr>\n      <th>1824698</th>\n      <td>0.48</td>\n      <td>0.02</td>\n      <td>0.04</td>\n      <td>301</td>\n      <td>143.0</td>\n      <td>3940</td>\n    </tr>\n    <tr>\n      <th>1824699</th>\n      <td>0.48</td>\n      <td>0.02</td>\n      <td>0.04</td>\n      <td>301</td>\n      <td>140.0</td>\n      <td>4732</td>\n    </tr>\n    <tr>\n      <th>1824700</th>\n      <td>0.48</td>\n      <td>0.02</td>\n      <td>0.05</td>\n      <td>301</td>\n      <td>137.0</td>\n      <td>5524</td>\n    </tr>\n  </tbody>\n</table>\n</div>"
     },
     "execution_count": 14,
     "metadata": {},
     "output_type": "execute_result"
    }
   ],
   "source": [
    "train_df.head()"
   ],
   "metadata": {
    "collapsed": false,
    "ExecuteTime": {
     "start_time": "2023-04-06T13:07:49.968131Z",
     "end_time": "2023-04-06T13:07:50.011130Z"
    }
   }
  },
  {
   "cell_type": "code",
   "execution_count": null,
   "outputs": [],
   "source": [
    "# set constraint for time"
   ],
   "metadata": {
    "collapsed": false
   }
  },
  {
   "cell_type": "code",
   "execution_count": null,
   "outputs": [],
   "source": [],
   "metadata": {
    "collapsed": false
   }
  },
  {
   "cell_type": "code",
   "execution_count": null,
   "outputs": [],
   "source": [],
   "metadata": {
    "collapsed": false
   }
  },
  {
   "cell_type": "code",
   "execution_count": 11,
   "outputs": [],
   "source": [
    "import sdv"
   ],
   "metadata": {
    "collapsed": false,
    "ExecuteTime": {
     "start_time": "2023-04-06T12:34:01.391355Z",
     "end_time": "2023-04-06T12:34:01.413093Z"
    }
   }
  },
  {
   "cell_type": "code",
   "execution_count": 12,
   "outputs": [
    {
     "name": "stdout",
     "output_type": "stream",
     "text": [
      "1.0.0\n"
     ]
    }
   ],
   "source": [
    "print(sdv.__version__)"
   ],
   "metadata": {
    "collapsed": false,
    "ExecuteTime": {
     "start_time": "2023-04-06T12:34:03.335978Z",
     "end_time": "2023-04-06T12:34:03.355881Z"
    }
   }
  },
  {
   "cell_type": "code",
   "execution_count": 37,
   "outputs": [],
   "source": [
    "from sdv.metadata import SingleTableMetadata\n",
    "\n",
    "metadata = SingleTableMetadata()"
   ],
   "metadata": {
    "collapsed": false,
    "ExecuteTime": {
     "start_time": "2023-04-06T15:32:11.620835Z",
     "end_time": "2023-04-06T15:32:11.668611Z"
    }
   }
  },
  {
   "cell_type": "code",
   "execution_count": 38,
   "outputs": [],
   "source": [
    "metadata.detect_from_dataframe(data=train_df)"
   ],
   "metadata": {
    "collapsed": false,
    "ExecuteTime": {
     "start_time": "2023-04-06T15:32:12.204583Z",
     "end_time": "2023-04-06T15:32:12.253640Z"
    }
   }
  },
  {
   "cell_type": "code",
   "execution_count": 39,
   "outputs": [
    {
     "data": {
      "text/plain": "{'columns': {'vx': {'sdtype': 'numerical'},\n  'vy': {'sdtype': 'numerical'},\n  'vz': {'sdtype': 'numerical'},\n  'time': {'sdtype': 'numerical'},\n  'distance': {'sdtype': 'numerical'},\n  'xyz_id': {'sdtype': 'numerical'}},\n 'METADATA_SPEC_VERSION': 'SINGLE_TABLE_V1'}"
     },
     "execution_count": 39,
     "metadata": {},
     "output_type": "execute_result"
    }
   ],
   "source": [
    "python_dict = metadata.to_dict()\n",
    "python_dict"
   ],
   "metadata": {
    "collapsed": false,
    "ExecuteTime": {
     "start_time": "2023-04-06T15:32:12.810077Z",
     "end_time": "2023-04-06T15:32:12.900739Z"
    }
   }
  },
  {
   "cell_type": "code",
   "execution_count": 40,
   "outputs": [],
   "source": [
    "# metadata.update_column(\n",
    "#     column_name='xyz_id',\n",
    "#     sdtype='id')\n",
    "# metadata.set_primary_key(column_name='xyz_id')"
   ],
   "metadata": {
    "collapsed": false,
    "ExecuteTime": {
     "start_time": "2023-04-06T15:32:15.792274Z",
     "end_time": "2023-04-06T15:32:15.796105Z"
    }
   }
  },
  {
   "cell_type": "code",
   "execution_count": 41,
   "outputs": [],
   "source": [
    "metadata.validate()"
   ],
   "metadata": {
    "collapsed": false,
    "ExecuteTime": {
     "start_time": "2023-04-06T15:32:16.236437Z",
     "end_time": "2023-04-06T15:32:16.247357Z"
    }
   }
  },
  {
   "cell_type": "code",
   "execution_count": 42,
   "outputs": [],
   "source": [
    "from sdv.single_table import CopulaGANSynthesizer"
   ],
   "metadata": {
    "collapsed": false,
    "ExecuteTime": {
     "start_time": "2023-04-06T15:32:20.714501Z",
     "end_time": "2023-04-06T15:32:20.715000Z"
    }
   }
  },
  {
   "cell_type": "code",
   "execution_count": null,
   "outputs": [],
   "source": [
    "synthesizer = CopulaGANSynthesizer(metadata)\n",
    "synthesizer.fit(train_df)"
   ],
   "metadata": {
    "collapsed": false,
    "ExecuteTime": {
     "start_time": "2023-04-06T13:20:19.034068Z",
     "end_time": "2023-04-06T14:29:02.474513Z"
    },
    "pycharm": {
     "is_executing": true
    }
   }
  },
  {
   "cell_type": "code",
   "execution_count": 34,
   "outputs": [],
   "source": [
    "synthetic_data = synthesizer.sample(num_rows=10)"
   ],
   "metadata": {
    "collapsed": false,
    "ExecuteTime": {
     "start_time": "2023-04-06T15:29:38.635332Z",
     "end_time": "2023-04-06T15:29:38.695232Z"
    }
   }
  },
  {
   "cell_type": "code",
   "execution_count": 35,
   "outputs": [
    {
     "data": {
      "text/plain": "     vx    vy    vz  time  distance  xyz_id\n0  0.44  0.05  0.02   301      51.0       0\n1  0.37 -0.07  0.08   302      95.0       1\n2  0.48  0.06 -0.02   302     114.0       2\n3  0.46  0.08  0.01   302     102.0       3\n4  0.44  0.02  0.04   304      48.0       4\n5  0.50  0.00  0.04   302      71.0       5\n6  0.47 -0.01  0.03   304      79.0       6\n7  0.28  0.02 -0.00   301     103.0       7\n8  0.48 -0.11 -0.02   302      42.0       8\n9  0.47 -0.01  0.05   304     123.0       9",
      "text/html": "<div>\n<style scoped>\n    .dataframe tbody tr th:only-of-type {\n        vertical-align: middle;\n    }\n\n    .dataframe tbody tr th {\n        vertical-align: top;\n    }\n\n    .dataframe thead th {\n        text-align: right;\n    }\n</style>\n<table border=\"1\" class=\"dataframe\">\n  <thead>\n    <tr style=\"text-align: right;\">\n      <th></th>\n      <th>vx</th>\n      <th>vy</th>\n      <th>vz</th>\n      <th>time</th>\n      <th>distance</th>\n      <th>xyz_id</th>\n    </tr>\n  </thead>\n  <tbody>\n    <tr>\n      <th>0</th>\n      <td>0.44</td>\n      <td>0.05</td>\n      <td>0.02</td>\n      <td>301</td>\n      <td>51.0</td>\n      <td>0</td>\n    </tr>\n    <tr>\n      <th>1</th>\n      <td>0.37</td>\n      <td>-0.07</td>\n      <td>0.08</td>\n      <td>302</td>\n      <td>95.0</td>\n      <td>1</td>\n    </tr>\n    <tr>\n      <th>2</th>\n      <td>0.48</td>\n      <td>0.06</td>\n      <td>-0.02</td>\n      <td>302</td>\n      <td>114.0</td>\n      <td>2</td>\n    </tr>\n    <tr>\n      <th>3</th>\n      <td>0.46</td>\n      <td>0.08</td>\n      <td>0.01</td>\n      <td>302</td>\n      <td>102.0</td>\n      <td>3</td>\n    </tr>\n    <tr>\n      <th>4</th>\n      <td>0.44</td>\n      <td>0.02</td>\n      <td>0.04</td>\n      <td>304</td>\n      <td>48.0</td>\n      <td>4</td>\n    </tr>\n    <tr>\n      <th>5</th>\n      <td>0.50</td>\n      <td>0.00</td>\n      <td>0.04</td>\n      <td>302</td>\n      <td>71.0</td>\n      <td>5</td>\n    </tr>\n    <tr>\n      <th>6</th>\n      <td>0.47</td>\n      <td>-0.01</td>\n      <td>0.03</td>\n      <td>304</td>\n      <td>79.0</td>\n      <td>6</td>\n    </tr>\n    <tr>\n      <th>7</th>\n      <td>0.28</td>\n      <td>0.02</td>\n      <td>-0.00</td>\n      <td>301</td>\n      <td>103.0</td>\n      <td>7</td>\n    </tr>\n    <tr>\n      <th>8</th>\n      <td>0.48</td>\n      <td>-0.11</td>\n      <td>-0.02</td>\n      <td>302</td>\n      <td>42.0</td>\n      <td>8</td>\n    </tr>\n    <tr>\n      <th>9</th>\n      <td>0.47</td>\n      <td>-0.01</td>\n      <td>0.05</td>\n      <td>304</td>\n      <td>123.0</td>\n      <td>9</td>\n    </tr>\n  </tbody>\n</table>\n</div>"
     },
     "execution_count": 35,
     "metadata": {},
     "output_type": "execute_result"
    }
   ],
   "source": [
    "synthetic_data"
   ],
   "metadata": {
    "collapsed": false,
    "ExecuteTime": {
     "start_time": "2023-04-06T15:29:44.055438Z",
     "end_time": "2023-04-06T15:29:44.106766Z"
    }
   }
  },
  {
   "cell_type": "code",
   "execution_count": 36,
   "outputs": [
    {
     "data": {
      "text/plain": "           vx    vy    vz  time  distance  xyz_id\n1825493  0.45  0.04 -0.01   301      51.0   25108\n1825494  0.45  0.05 -0.01   301      51.0   25900\n1825616  0.50 -0.04  0.04   301      51.0   21112\n1825805  0.60 -0.10  0.00   301      51.0   18682\n1825822  0.49  0.05  0.08   301      51.0   32146\n...       ...   ...   ...   ...       ...     ...\n1874397  0.26 -0.04  0.07   301      51.0   31173\n1874447  0.36  0.00 -0.02   301      51.0   20067\n1874460  0.29 -0.01  0.03   301      51.0   30363\n1874579  0.41 -0.03 -0.06   301      51.0   23199\n1874584  0.38  0.13  0.01   301      51.0   27159\n\n[362 rows x 6 columns]",
      "text/html": "<div>\n<style scoped>\n    .dataframe tbody tr th:only-of-type {\n        vertical-align: middle;\n    }\n\n    .dataframe tbody tr th {\n        vertical-align: top;\n    }\n\n    .dataframe thead th {\n        text-align: right;\n    }\n</style>\n<table border=\"1\" class=\"dataframe\">\n  <thead>\n    <tr style=\"text-align: right;\">\n      <th></th>\n      <th>vx</th>\n      <th>vy</th>\n      <th>vz</th>\n      <th>time</th>\n      <th>distance</th>\n      <th>xyz_id</th>\n    </tr>\n  </thead>\n  <tbody>\n    <tr>\n      <th>1825493</th>\n      <td>0.45</td>\n      <td>0.04</td>\n      <td>-0.01</td>\n      <td>301</td>\n      <td>51.0</td>\n      <td>25108</td>\n    </tr>\n    <tr>\n      <th>1825494</th>\n      <td>0.45</td>\n      <td>0.05</td>\n      <td>-0.01</td>\n      <td>301</td>\n      <td>51.0</td>\n      <td>25900</td>\n    </tr>\n    <tr>\n      <th>1825616</th>\n      <td>0.50</td>\n      <td>-0.04</td>\n      <td>0.04</td>\n      <td>301</td>\n      <td>51.0</td>\n      <td>21112</td>\n    </tr>\n    <tr>\n      <th>1825805</th>\n      <td>0.60</td>\n      <td>-0.10</td>\n      <td>0.00</td>\n      <td>301</td>\n      <td>51.0</td>\n      <td>18682</td>\n    </tr>\n    <tr>\n      <th>1825822</th>\n      <td>0.49</td>\n      <td>0.05</td>\n      <td>0.08</td>\n      <td>301</td>\n      <td>51.0</td>\n      <td>32146</td>\n    </tr>\n    <tr>\n      <th>...</th>\n      <td>...</td>\n      <td>...</td>\n      <td>...</td>\n      <td>...</td>\n      <td>...</td>\n      <td>...</td>\n    </tr>\n    <tr>\n      <th>1874397</th>\n      <td>0.26</td>\n      <td>-0.04</td>\n      <td>0.07</td>\n      <td>301</td>\n      <td>51.0</td>\n      <td>31173</td>\n    </tr>\n    <tr>\n      <th>1874447</th>\n      <td>0.36</td>\n      <td>0.00</td>\n      <td>-0.02</td>\n      <td>301</td>\n      <td>51.0</td>\n      <td>20067</td>\n    </tr>\n    <tr>\n      <th>1874460</th>\n      <td>0.29</td>\n      <td>-0.01</td>\n      <td>0.03</td>\n      <td>301</td>\n      <td>51.0</td>\n      <td>30363</td>\n    </tr>\n    <tr>\n      <th>1874579</th>\n      <td>0.41</td>\n      <td>-0.03</td>\n      <td>-0.06</td>\n      <td>301</td>\n      <td>51.0</td>\n      <td>23199</td>\n    </tr>\n    <tr>\n      <th>1874584</th>\n      <td>0.38</td>\n      <td>0.13</td>\n      <td>0.01</td>\n      <td>301</td>\n      <td>51.0</td>\n      <td>27159</td>\n    </tr>\n  </tbody>\n</table>\n<p>362 rows × 6 columns</p>\n</div>"
     },
     "execution_count": 36,
     "metadata": {},
     "output_type": "execute_result"
    }
   ],
   "source": [
    "train_df[(train_df[\"time\"]==301) & (train_df[\"distance\"]==51)]"
   ],
   "metadata": {
    "collapsed": false,
    "ExecuteTime": {
     "start_time": "2023-04-06T15:31:05.929778Z",
     "end_time": "2023-04-06T15:31:05.988057Z"
    }
   }
  },
  {
   "cell_type": "code",
   "execution_count": null,
   "outputs": [],
   "source": [],
   "metadata": {
    "collapsed": false
   }
  }
 ],
 "metadata": {
  "kernelspec": {
   "display_name": "Python 3",
   "language": "python",
   "name": "python3"
  },
  "language_info": {
   "codemirror_mode": {
    "name": "ipython",
    "version": 2
   },
   "file_extension": ".py",
   "mimetype": "text/x-python",
   "name": "python",
   "nbconvert_exporter": "python",
   "pygments_lexer": "ipython2",
   "version": "2.7.6"
  }
 },
 "nbformat": 4,
 "nbformat_minor": 0
}
